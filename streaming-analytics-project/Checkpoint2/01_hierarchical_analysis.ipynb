{
  "cells": [
    {
      "cell_type": "markdown",
      "metadata": {},
      "source": [
        "# 01_hierarchical_analysis.ipynb\n",
        "## Hierarchical Data Visualization - CheckPoint 2\n",
        "### Strategic Market Analysis for Terra Cotta Foods (TCF) Expansion\n",
        "\n",
        "Este notebook cumple con los requerimientos del CheckPoint 2 para visualización de datos jerárquicos, utilizando el dataset `country_gdp_population.csv` con datos de los 193 países miembros de la ONU.\n",
        "\n",
        "**Contexto del Negocio:** Marco Antonelli, CEO de Terra Cotta Foods (TCF), necesita evaluar mercados para la expansión internacional hacia América Latina y Asia. TCF es una de las distribuidoras más grandes de Europa de productos alimenticios premium y materias primas.\n",
        "\n",
        "### Objetivos Estratégicos:\n",
        "- **Evaluación de Mercados:** Determinar la viabilidad económica y potencial de alcance de la cadena de suministro de TCF en nuevos mercados\n",
        "- **Jerarquía de Poder de Compra:** Identificar qué regiones y países muestran el mayor PIB (capacidad de compra) que justifica invertir en centros de distribución\n",
        "- **Evaluación de Riesgo de Suministro:** Analizar cómo la población (fuerza laboral/base de consumidores) se correlaciona con el potencial económico\n",
        "- **Optimización de Cadena de Suministro:** Guiar la colocación de centros de distribución y diversificación de proveedores\n"
      ]
    },
    {
      "cell_type": "markdown",
      "metadata": {},
      "source": [
        "## Imports and Configuration\n",
        "\n",
        "Importación de todas las librerías necesarias y configuración del estilo visual.\n"
      ]
    },
    {
      "cell_type": "code",
      "execution_count": 2,
      "metadata": {},
      "outputs": [
        {
          "name": "stdout",
          "output_type": "stream",
          "text": [
            " Librerías cargadas correctamente.\n"
          ]
        }
      ],
      "source": [
        "# === 1. IMPORTACIÓN Y CONFIGURACIÓN DE LIBRERÍAS ===\n",
        "\n",
        "import pandas as pd\n",
        "import numpy as np\n",
        "import matplotlib.pyplot as plt\n",
        "import seaborn as sns\n",
        "import plotly.express as px\n",
        "import plotly.graph_objects as go\n",
        "import squarify\n",
        "from scipy.cluster import hierarchy\n",
        "from scipy.spatial import distance\n",
        "from scipy.spatial.distance import pdist\n",
        "from scipy.cluster.hierarchy import linkage, dendrogram, fcluster, set_link_color_palette\n",
        "from sklearn.preprocessing import StandardScaler\n",
        "\n",
        "plt.style.use('seaborn-v0_8-whitegrid')\n",
        "plt.rcParams['figure.figsize'] = (10, 6)\n",
        "pd.options.display.float_format = '{:,.2f}'.format\n",
        "\n",
        "print(\" Librerías cargadas correctamente.\")\n"
      ]
    },
    {
      "cell_type": "markdown",
      "metadata": {},
      "source": [
        "## Data Loading and Preprocessing\n",
        "\n",
        "Carga del dataset y preprocesamiento de los datos.\n"
      ]
    },
    {
      "cell_type": "code",
      "execution_count": 3,
      "metadata": {},
      "outputs": [
        {
          "name": "stdout",
          "output_type": "stream",
          "text": [
            "Datos cargados: 192 países\n",
            "Columnas disponibles: ['continent', 'country', 'population', 'gdp_per_capita']\n",
            "Primeras 5 filas:\n",
            "  continent       country  population  gdp_per_capita\n",
            "0    Africa       Algeria    46814308        5,631.18\n",
            "1    Africa        Angola    37885849        2,122.08\n",
            "2    Africa         Benin    14462724        1,485.38\n",
            "3    Africa      Botswana     2521139        7,695.24\n",
            "4    Africa  Burkina Faso    23548781          987.32\n",
            "\n",
            "Tipos de datos:\n",
            "continent          object\n",
            "country            object\n",
            "population          int64\n",
            "gdp_per_capita    float64\n",
            "dtype: object\n",
            "\n",
            "Valores nulos por columna:\n",
            "continent          0\n",
            "country            0\n",
            "population         0\n",
            "gdp_per_capita    18\n",
            "dtype: int64\n",
            "\n",
            "Países con datos completos: 174\n",
            "Columna gdp_total creada: population * gdp_per_capita\n",
            "\n",
            "DataFrame final con columnas: ['continent', 'country', 'population', 'gdp_per_capita', 'gdp_total']\n",
            "Primeras 3 filas del dataset limpio:\n",
            "  continent  country  population  gdp_per_capita          gdp_total\n",
            "0    Africa  Algeria    46814308        5,631.18 263,619,794,506.72\n",
            "1    Africa   Angola    37885849        2,122.08  80,396,942,241.62\n",
            "2    Africa    Benin    14462724        1,485.38  21,482,643,720.27\n"
          ]
        },
        {
          "name": "stderr",
          "output_type": "stream",
          "text": [
            "/var/folders/xr/6vq7_vj928v9_ssgxbv0bvr00000gp/T/ipykernel_60812/3876036293.py:21: SettingWithCopyWarning: \n",
            "A value is trying to be set on a copy of a slice from a DataFrame.\n",
            "Try using .loc[row_indexer,col_indexer] = value instead\n",
            "\n",
            "See the caveats in the documentation: https://pandas.pydata.org/pandas-docs/stable/user_guide/indexing.html#returning-a-view-versus-a-copy\n",
            "  data_clean['gdp_total'] = data_clean['population'] * data_clean['gdp_per_capita']\n"
          ]
        }
      ],
      "source": [
        "# === 2. CARGA Y PREPROCESAMIENTO DE DATOS ===\n",
        "\n",
        "# Carga de CSV \n",
        "data = pd.read_csv(\"country_gdp_population.csv\")\n",
        "\n",
        "# Verificar que los datos se cargaron correctamente\n",
        "print(f\"Datos cargados: {len(data)} países\")\n",
        "print(f\"Columnas disponibles: {list(data.columns)}\")\n",
        "print(f\"Primeras 5 filas:\")\n",
        "print(data.head())\n",
        "print(f\"\\nTipos de datos:\")\n",
        "print(data.dtypes)\n",
        "print(f\"\\nValores nulos por columna:\")\n",
        "print(data.isnull().sum())\n",
        "\n",
        "# Limpiar valores nulos en población y PIB per cápita\n",
        "data_clean = data.dropna(subset=['population', 'gdp_per_capita'])\n",
        "print(f\"\\nPaíses con datos completos: {len(data_clean)}\")\n",
        "\n",
        "# Crear nueva columna gdp_total = population * gdp_per_capita\n",
        "data_clean['gdp_total'] = data_clean['population'] * data_clean['gdp_per_capita']\n",
        "print(f\"Columna gdp_total creada: population * gdp_per_capita\")\n",
        "\n",
        "# Verificar DataFrame final\n",
        "print(f\"\\nDataFrame final con columnas: {list(data_clean.columns)}\")\n",
        "print(f\"Primeras 3 filas del dataset limpio:\")\n",
        "print(data_clean.head(3))\n"
      ]
    },
    {
      "cell_type": "markdown",
      "metadata": {},
      "source": [
        "## Part 1 – Treemap (Static & Interactive)\n",
        "\n",
        "Los treemaps son ideales para mostrar proporciones jerárquicas. Aquí creamos tanto una versión estática con squarify como una interactiva con Plotly.\n"
      ]
    },
    {
      "cell_type": "code",
      "execution_count": 4,
      "metadata": {},
      "outputs": [
        {
          "name": "stdout",
          "output_type": "stream",
          "text": [
            "=== PART 1: TREEMAP ANALYSIS ===\n",
            "\n",
            "1. Treemap Estático con Squarify\n"
          ]
        },
        {
          "data": {
            "image/png": "[encoded data removed]",
            "text/plain": [
              "<Figure size 1200x800 with 1 Axes>"
            ]
          },
          "metadata": {},
          "output_type": "display_data"
        },
        {
          "name": "stdout",
          "output_type": "stream",
          "text": [
            "\n",
            "2. Treemap Interactivo con Plotly\n"
          ]
        },
        {
          "data": {
            "application/vnd.plotly.v1+json": {
              "config": {
                "plotlyServerURL": "https://plot.ly"
              },
              "data": [
                {
                  "branchvalues": "total",
                  "customdata": {
                    "bdata": "rInlEy7/tUDRr2fZKpSgQK4uelCFNZdAyhDr9z0PvkBbqa4uktqOQOSlO1jEPWNATd9pP9qYtEDNZ/kweYmbQNFAigddIYBAMbk/4LXAj0AyxWY9duCbQLMq0VJ8O4RAEccJdn9ko0DGy7JMyiulQAGnejbxUKtAs9KiivIUqkA2hxRvZlm6QOj4mik4wK5AdEtMrGENwED7NaaUNGSMQPbLK96Wy6JAXIXQvBfUmkCCfecbRTyhQMeAvFeEXo5APcbqDDhyikDhDzQ0Z664QIyZ1Xn6B4FA5siDvPDFf0A7LmhytPiQQOS17EaRRaBA+zM16d0vx0ALAABgxjKvQNTUP1FJOoRAmbAHoCA9sUBP22E8/ZWGQBeykciQN4lAhk6wijw9j0BEYFlyqFmpQAxf9530P5tAv4UbprRw0UC/IE7NG0uLQDaSfyne54NAaI/+H19tuEAEAADAgOqOQAsAAGD7hpJA3zmqT5BMkEAPuRkuX/6wQNZQv9PawpBAZDxgslZMk0CeYs2Z0cCkQB/AdpVyK9dAvPEFHBoRy0AjH/9K7kPjQPwpVuByxdhAXXMJ/dZ2wED3kb40bEKvQH+baU0oFMRApuxrw1OB6kDBXOLreFHQQEMeh+786b5AU8Zczskm0kApVf2uo1LEQId3ULfUPcVAdX5cq7TaukBxT43hqMu1QKGSNEzOL8dAoB95pgYGuECV61eV6C7dQPA53iE/vaBA6Qh4ot7EqkDxU6YQv2u7QL5qHej4pstAk7DCThQ/pkBPMVeKtqfSQA1k5NoYELlAne3lki+CwEDIolyu2jzWQG6Q0q7QsstAl7yQ/px2xkC/59bCswa9QHltkdit3NJAPLj5Zx7z9EDsk/TZoFjXQKcpAnhNmsBAU2/R69VzvEBffPnvDVjdQGaFowfVQqRAETWpvjpR4EDjWLNnwoekQAgTufaS+8lAwOjt8tT0wUADMa7qUxGlQMQVbjRuPbNAUDFseWajskBK9yc+nLm3QIs26+YVdOpAbwu1Hvm230BSNIqOGAqyQA+RY6OsWstA2IPDLnd130BdG030h+aiQMYA00v1l6BADE47G6Etx0AzOcyGxM/JQIwFzGp7I7pAvK482Ak9lUAj11N8PZ2WQO0rDq0axtNA1gLy2v8yl0A393K/qSGvQOGp2YU+n/JAqAEXNSce4UDiX+0QISP2QJ3LI2CRo7FAP6suJc/0lECWgJS8IrG8QH3d1m6Y/JRAfXMOxaQ4zkDoeCSzzb3AQNV7Dw8yHOhAaDNWdGazqEAhJUVQSm2yQGuW1WHQjcNAqBJpjPUS6EDoyQRGJsDrQHQs5elSPsBAKsA/ilNS60CSQY+8r37BQJQJKFYaAdFA8mJN+9xe10AAAABgxd/iQIx5Kean9t5ANvJyGbyK8UAwW0nbhXDeQP2jxcuT+OlAHQEgm8+I5kBtXsYFBz/rQPkkeNYGLNhAOQLdFLDD1kC/ple6/TD0QCbxm2VFM/pAKtoAg0Gk40DkScFQ5tHWQP2R42uSstxAIx7XsmTJAEFyMxvWaa3kQAKQJyGEwb1AhekF5LlDyUCHER2eq6fwQGZxO5IDL8JApkVUmJsx9UDWnDn8qm/YQAR6/90fK9xA0vVuGxqa00AAAABgghTNQOP4ZsLcacpA4w8uyPmI2UBqaNpJK6XgQJAD0k0gPOFAu8EMgWcv7EDFz77zXU/5QAAAACB5DbVAA/3HK5mz6UC6ZAh/73LvQHoQaQ9mkLhAVY4E6EThoUCgJqHgpiq9QOgicTgBRrBA1+Sooeo2ykC/KRxwYM3nQH/NB8n5CKhADZsBe8Uis0BTcllXwsqgQJGAKBafratA0x3koUdUnkCLs0Hew5XiQHlGBZ4c3r9AAEXfOzTb4UBwya3FW/blQA==",
                    "dtype": "f8",
                    "shape": "179, 1"
                  },
                  "domain": {
                    "x": [
                      0,
                      1
                    ],
                    "y": [
                      0,
                      1
                    ]
                  },
                  "hovertemplate": "labels=%{label}<br>population=%{value}<br>parent=%{parent}<br>id=%{id}<br>gdp_per_capita=%{color}<extra></extra>",
                  "ids": [
                    "Africa/Algeria",
                    "Africa/Angola",
                    "Africa/Benin",
                    "Africa/Botswana",
                    "Africa/Burkina Faso",
                    "Africa/Burundi",
                    "Africa/Cabo Verde",
                    "Africa/Cameroon",
                    "Africa/Central African Republic",
                    "Africa/Chad",
                    "Africa/Comoros",
                    "Africa/Congo, Dem. Rep.",
                    "Africa/Congo, Rep.",
                    "Africa/Cote d'Ivoire",
                    "Africa/Djibouti",
                    "Africa/Egypt, Arab Rep.",
                    "Africa/Equatorial Guinea",
                    "Africa/Eswatini",
                    "Africa/Gabon",
                    "Africa/Gambia, The",
                    "Africa/Ghana",
                    "Africa/Guinea",
                    "Africa/Kenya",
                    "Africa/Lesotho",
                    "Africa/Liberia",
                    "Africa/Libya",
                    "Africa/Madagascar",
                    "Africa/Malawi",
                    "Africa/Mali",
                    "Africa/Mauritania",
                    "Africa/Mauritius",
                    "Africa/Morocco",
                    "Africa/Mozambique",
                    "Africa/Namibia",
                    "Africa/Niger",
                    "Africa/Nigeria",
                    "Africa/Rwanda",
                    "Africa/Sao Tome and Principe",
                    "Africa/Senegal",
                    "Africa/Seychelles",
                    "Africa/Sierra Leone",
                    "Africa/Somalia, Fed. Rep.",
                    "Africa/South Africa",
                    "Africa/Sudan",
                    "Africa/Tanzania",
                    "Africa/Togo",
                    "Africa/Tunisia",
                    "Africa/Uganda",
                    "Africa/Zambia",
                    "Africa/Zimbabwe",
                    "Americas/Antigua and Barbuda",
                    "Americas/Argentina",
                    "Americas/Bahamas, The",
                    "Americas/Barbados",
                    "Americas/Belize",
                    "Americas/Bolivia",
                    "Americas/Brazil",
                    "Americas/Canada",
                    "Americas/Chile",
                    "Americas/Colombia",
                    "Americas/Costa Rica",
                    "Americas/Dominica",
                    "Americas/Dominican Republic",
                    "Americas/Ecuador",
                    "Americas/El Salvador",
                    "Americas/Grenada",
                    "Americas/Guatemala",
                    "Americas/Guyana",
                    "Americas/Haiti",
                    "Americas/Honduras",
                    "Americas/Jamaica",
                    "Americas/Mexico",
                    "Americas/Nicaragua",
                    "Americas/Panama",
                    "Americas/Paraguay",
                    "Americas/Peru",
                    "Americas/St. Kitts and Nevis",
                    "Americas/St. Lucia",
                    "Americas/St. Vincent and the Grenadines",
                    "Americas/Suriname",
                    "Americas/Trinidad and Tobago",
                    "Americas/United States",
                    "Americas/Uruguay",
                    "Asia/Armenia",
                    "Asia/Azerbaijan",
                    "Asia/Bahrain",
                    "Asia/Bangladesh",
                    "Asia/Brunei Darussalam",
                    "Asia/Cambodia",
                    "Asia/China",
                    "Asia/Georgia",
                    "Asia/India",
                    "Asia/Indonesia",
                    "Asia/Iran, Islamic Rep.",
                    "Asia/Iraq",
                    "Asia/Israel",
                    "Asia/Japan",
                    "Asia/Jordan",
                    "Asia/Kazakhstan",
                    "Asia/Kuwait",
                    "Asia/Kyrgyz Republic",
                    "Asia/Lao PDR",
                    "Asia/Malaysia",
                    "Asia/Maldives",
                    "Asia/Mongolia",
                    "Asia/Myanmar",
                    "Asia/Nepal",
                    "Asia/Oman",
                    "Asia/Pakistan",
                    "Asia/Philippines",
                    "Asia/Qatar",
                    "Asia/Saudi Arabia",
                    "Asia/Singapore",
                    "Asia/Sri Lanka",
                    "Asia/Tajikistan",
                    "Asia/Thailand",
                    "Asia/Timor-Leste",
                    "Asia/Turkiye",
                    "Asia/Turkmenistan",
                    "Asia/United Arab Emirates",
                    "Asia/Uzbekistan",
                    "Asia/Viet Nam",
                    "Europe/Albania",
                    "Europe/Andorra",
                    "Europe/Austria",
                    "Europe/Belarus",
                    "Europe/Belgium",
                    "Europe/Bosnia and Herzegovina",
                    "Europe/Bulgaria",
                    "Europe/Croatia",
                    "Europe/Cyprus",
                    "Europe/Czechia",
                    "Europe/Denmark",
                    "Europe/Estonia",
                    "Europe/Finland",
                    "Europe/France",
                    "Europe/Germany",
                    "Europe/Greece",
                    "Europe/Hungary",
                    "Europe/Iceland",
                    "Europe/Ireland",
                    "Europe/Italy",
                    "Europe/Latvia",
                    "Europe/Lithuania",
                    "Europe/Luxembourg",
                    "Europe/Malta",
                    "Europe/Moldova",
                    "Europe/Montenegro",
                    "Europe/Netherlands",
                    "Europe/North Macedonia",
                    "Europe/Norway",
                    "Europe/Poland",
                    "Europe/Portugal",
                    "Europe/Romania",
                    "Europe/Russian Federation",
                    "Europe/Serbia",
                    "Europe/Slovak Republic",
                    "Europe/Slovenia",
                    "Europe/Spain",
                    "Europe/Sweden",
                    "Europe/Switzerland",
                    "Europe/Ukraine",
                    "Europe/United Kingdom",
                    "Oceania/Australia",
                    "Oceania/Fiji",
                    "Oceania/Kiribati",
                    "Oceania/Marshall Islands",
                    "Oceania/Micronesia, Fed. Sts.",
                    "Oceania/Nauru",
                    "Oceania/New Zealand",
                    "Oceania/Papua New Guinea",
                    "Oceania/Samoa",
                    "Oceania/Solomon Islands",
                    "Oceania/Vanuatu",
                    "Africa",
                    "Americas",
                    "Asia",
                    "Europe",
                    "Oceania"
                  ],
                  "labels": [
                    "Algeria",
                    "Angola",
                    "Benin",
                    "Botswana",
                    "Burkina Faso",
                    "Burundi",
                    "Cabo Verde",
                    "Cameroon",
                    "Central African Republic",
                    "Chad",
                    "Comoros",
                    "Congo, Dem. Rep.",
                    "Congo, Rep.",
                    "Cote d'Ivoire",
                    "Djibouti",
                    "Egypt, Arab Rep.",
                    "Equatorial Guinea",
                    "Eswatini",
                    "Gabon",
                    "Gambia, The",
                    "Ghana",
                    "Guinea",
                    "Kenya",
                    "Lesotho",
                    "Liberia",
                    "Libya",
                    "Madagascar",
                    "Malawi",
                    "Mali",
                    "Mauritania",
                    "Mauritius",
                    "Morocco",
                    "Mozambique",
                    "Namibia",
                    "Niger",
                    "Nigeria",
                    "Rwanda",
                    "Sao Tome and Principe",
                    "Senegal",
                    "Seychelles",
                    "Sierra Leone",
                    "Somalia, Fed. Rep.",
                    "South Africa",
                    "Sudan",
                    "Tanzania",
                    "Togo",
                    "Tunisia",
                    "Uganda",
                    "Zambia",
                    "Zimbabwe",
                    "Antigua and Barbuda",
                    "Argentina",
                    "Bahamas, The",
                    "Barbados",
                    "Belize",
                    "Bolivia",
                    "Brazil",
                    "Canada",
                    "Chile",
                    "Colombia",
                    "Costa Rica",
                    "Dominica",
                    "Dominican Republic",
                    "Ecuador",
                    "El Salvador",
                    "Grenada",
                    "Guatemala",
                    "Guyana",
                    "Haiti",
                    "Honduras",
                    "Jamaica",
                    "Mexico",
                    "Nicaragua",
                    "Panama",
                    "Paraguay",
                    "Peru",
                    "St. Kitts and Nevis",
                    "St. Lucia",
                    "St. Vincent and the Grenadines",
                    "Suriname",
                    "Trinidad and Tobago",
                    "United States",
                    "Uruguay",
                    "Armenia",
                    "Azerbaijan",
                    "Bahrain",
                    "Bangladesh",
                    "Brunei Darussalam",
                    "Cambodia",
                    "China",
                    "Georgia",
                    "India",
                    "Indonesia",
                    "Iran, Islamic Rep.",
                    "Iraq",
                    "Israel",
                    "Japan",
                    "Jordan",
                    "Kazakhstan",
                    "Kuwait",
                    "Kyrgyz Republic",
                    "Lao PDR",
                    "Malaysia",
                    "Maldives",
                    "Mongolia",
                    "Myanmar",
                    "Nepal",
                    "Oman",
                    "Pakistan",
                    "Philippines",
                    "Qatar",
                    "Saudi Arabia",
                    "Singapore",
                    "Sri Lanka",
                    "Tajikistan",
                    "Thailand",
                    "Timor-Leste",
                    "Turkiye",
                    "Turkmenistan",
                    "United Arab Emirates",
                    "Uzbekistan",
                    "Viet Nam",
                    "Albania",
                    "Andorra",
                    "Austria",
                    "Belarus",
                    "Belgium",
                    "Bosnia and Herzegovina",
                    "Bulgaria",
                    "Croatia",
                    "Cyprus",
                    "Czechia",
                    "Denmark",
                    "Estonia",
                    "Finland",
                    "France",
                    "Germany",
                    "Greece",
                    "Hungary",
                    "Iceland",
                    "Ireland",
                    "Italy",
                    "Latvia",
                    "Lithuania",
                    "Luxembourg",
                    "Malta",
                    "Moldova",
                    "Montenegro",
                    "Netherlands",
                    "North Macedonia",
                    "Norway",
                    "Poland",
                    "Portugal",
                    "Romania",
                    "Russian Federation",
                    "Serbia",
                    "Slovak Republic",
                    "Slovenia",
                    "Spain",
                    "Sweden",
                    "Switzerland",
                    "Ukraine",
                    "United Kingdom",
                    "Australia",
                    "Fiji",
                    "Kiribati",
                    "Marshall Islands",
                    "Micronesia, Fed. Sts.",
                    "Nauru",
                    "New Zealand",
                    "Papua New Guinea",
                    "Samoa",
                    "Solomon Islands",
                    "Vanuatu",
                    "Africa",
                    "Americas",
                    "Asia",
                    "Europe",
                    "Oceania"
                  ],
                  "marker": {
                    "coloraxis": "coloraxis",
                    "colors": {
                      "bdata": "rInlEy7/tUDRr2fZKpSgQK4uelCFNZdAyhDr9z0PvkBbqa4uktqOQOSlO1jEPWNATd9pP9qYtEDNZ/kweYmbQNFAigddIYBAMbk/4LXAj0AyxWY9duCbQLMq0VJ8O4RAEccJdn9ko0DGy7JMyiulQAGnejbxUKtAs9KiivIUqkA2hxRvZlm6QOj4mik4wK5AdEtMrGENwED7NaaUNGSMQPbLK96Wy6JAXIXQvBfUmkCCfecbRTyhQMeAvFeEXo5APcbqDDhyikDhDzQ0Z664QIyZ1Xn6B4FA5siDvPDFf0A7LmhytPiQQOS17EaRRaBA+zM16d0vx0ALAABgxjKvQNTUP1FJOoRAmbAHoCA9sUBP22E8/ZWGQBeykciQN4lAhk6wijw9j0BEYFlyqFmpQAxf9530P5tAv4UbprRw0UC/IE7NG0uLQDaSfyne54NAaI/+H19tuEAEAADAgOqOQAsAAGD7hpJA3zmqT5BMkEAPuRkuX/6wQNZQv9PawpBAZDxgslZMk0CeYs2Z0cCkQB/AdpVyK9dAvPEFHBoRy0AjH/9K7kPjQPwpVuByxdhAXXMJ/dZ2wED3kb40bEKvQH+baU0oFMRApuxrw1OB6kDBXOLreFHQQEMeh+786b5AU8Zczskm0kApVf2uo1LEQId3ULfUPcVAdX5cq7TaukBxT43hqMu1QKGSNEzOL8dAoB95pgYGuECV61eV6C7dQPA53iE/vaBA6Qh4ot7EqkDxU6YQv2u7QL5qHej4pstAk7DCThQ/pkBPMVeKtqfSQA1k5NoYELlAne3lki+CwEDIolyu2jzWQG6Q0q7QsstAl7yQ/px2xkC/59bCswa9QHltkdit3NJAPLj5Zx7z9EDsk/TZoFjXQKcpAnhNmsBAU2/R69VzvEBffPnvDVjdQGaFowfVQqRAETWpvjpR4EDjWLNnwoekQAgTufaS+8lAwOjt8tT0wUADMa7qUxGlQMQVbjRuPbNAUDFseWajskBK9yc+nLm3QIs26+YVdOpAbwu1Hvm230BSNIqOGAqyQA+RY6OsWstA2IPDLnd130BdG030h+aiQMYA00v1l6BADE47G6Etx0AzOcyGxM/JQIwFzGp7I7pAvK482Ak9lUAj11N8PZ2WQO0rDq0axtNA1gLy2v8yl0A393K/qSGvQOGp2YU+n/JAqAEXNSce4UDiX+0QISP2QJ3LI2CRo7FAP6suJc/0lECWgJS8IrG8QH3d1m6Y/JRAfXMOxaQ4zkDoeCSzzb3AQNV7Dw8yHOhAaDNWdGazqEAhJUVQSm2yQGuW1WHQjcNAqBJpjPUS6EDoyQRGJsDrQHQs5elSPsBAKsA/ilNS60CSQY+8r37BQJQJKFYaAdFA8mJN+9xe10AAAABgxd/iQIx5Kean9t5ANvJyGbyK8UAwW0nbhXDeQP2jxcuT+OlAHQEgm8+I5kBtXsYFBz/rQPkkeNYGLNhAOQLdFLDD1kC/ple6/TD0QCbxm2VFM/pAKtoAg0Gk40DkScFQ5tHWQP2R42uSstxAIx7XsmTJAEFyMxvWaa3kQAKQJyGEwb1AhekF5LlDyUCHER2eq6fwQGZxO5IDL8JApkVUmJsx9UDWnDn8qm/YQAR6/90fK9xA0vVuGxqa00AAAABgghTNQOP4ZsLcacpA4w8uyPmI2UBqaNpJK6XgQJAD0k0gPOFAu8EMgWcv7EDFz77zXU/5QAAAACB5DbVAA/3HK5mz6UC6ZAh/73LvQHoQaQ9mkLhAVY4E6EThoUCgJqHgpiq9QOgicTgBRrBA1+Sooeo2ykC/KRxwYM3nQH/NB8n5CKhADZsBe8Uis0BTcllXwsqgQJGAKBafratA0x3koUdUnkCLs0Hew5XiQHlGBZ4c3r9AAEXfOzTb4UBwya3FW/blQA==",
                      "dtype": "f8"
                    }
                  },
                  "name": "",
                  "parents": [
                    "Africa",
                    "Africa",
                    "Africa",
                    "Africa",
                    "Africa",
                    "Africa",
                    "Africa",
                    "Africa",
                    "Africa",
                    "Africa",
                    "Africa",
                    "Africa",
                    "Africa",
                    "Africa",
                    "Africa",
                    "Africa",
                    "Africa",
                    "Africa",
                    "Africa",
                    "Africa",
                    "Africa",
                    "Africa",
                    "Africa",
                    "Africa",
                    "Africa",
                    "Africa",
                    "Africa",
                    "Africa",
                    "Africa",
                    "Africa",
                    "Africa",
                    "Africa",
                    "Africa",
                    "Africa",
                    "Africa",
                    "Africa",
                    "Africa",
                    "Africa",
                    "Africa",
                    "Africa",
                    "Africa",
                    "Africa",
                    "Africa",
                    "Africa",
                    "Africa",
                    "Africa",
                    "Africa",
                    "Africa",
                    "Africa",
                    "Africa",
                    "Americas",
                    "Americas",
                    "Americas",
                    "Americas",
                    "Americas",
                    "Americas",
                    "Americas",
                    "Americas",
                    "Americas",
                    "Americas",
                    "Americas",
                    "Americas",
                    "Americas",
                    "Americas",
                    "Americas",
                    "Americas",
                    "Americas",
                    "Americas",
                    "Americas",
                    "Americas",
                    "Americas",
                    "Americas",
                    "Americas",
                    "Americas",
                    "Americas",
                    "Americas",
                    "Americas",
                    "Americas",
                    "Americas",
                    "Americas",
                    "Americas",
                    "Americas",
                    "Americas",
                    "Asia",
                    "Asia",
                    "Asia",
                    "Asia",
                    "Asia",
                    "Asia",
                    "Asia",
                    "Asia",
                    "Asia",
                    "Asia",
                    "Asia",
                    "Asia",
                    "Asia",
                    "Asia",
                    "Asia",
                    "Asia",
                    "Asia",
                    "Asia",
                    "Asia",
                    "Asia",
                    "Asia",
                    "Asia",
                    "Asia",
                    "Asia",
                    "Asia",
                    "Asia",
                    "Asia",
                    "Asia",
                    "Asia",
                    "Asia",
                    "Asia",
                    "Asia",
                    "Asia",
                    "Asia",
                    "Asia",
                    "Asia",
                    "Asia",
                    "Asia",
                    "Asia",
                    "Europe",
                    "Europe",
                    "Europe",
                    "Europe",
                    "Europe",
                    "Europe",
                    "Europe",
                    "Europe",
                    "Europe",
                    "Europe",
                    "Europe",
                    "Europe",
                    "Europe",
                    "Europe",
                    "Europe",
                    "Europe",
                    "Europe",
                    "Europe",
                    "Europe",
                    "Europe",
                    "Europe",
                    "Europe",
                    "Europe",
                    "Europe",
                    "Europe",
                    "Europe",
                    "Europe",
                    "Europe",
                    "Europe",
                    "Europe",
                    "Europe",
                    "Europe",
                    "Europe",
                    "Europe",
                    "Europe",
                    "Europe",
                    "Europe",
                    "Europe",
                    "Europe",
                    "Europe",
                    "Europe",
                    "Oceania",
                    "Oceania",
                    "Oceania",
                    "Oceania",
                    "Oceania",
                    "Oceania",
                    "Oceania",
                    "Oceania",
                    "Oceania",
                    "Oceania",
                    "Oceania",
                    "",
                    "",
                    "",
                    "",
                    ""
                  ],
                  "type": "treemap",
                  "values": {
                    "bdata": "AAAAIKNShkEAAADIvBCCQQAAAIDglWtBAAAAgBk8Q0EAAADQNnV2QQAAAEBFy2pBAAAAAJoEIEEAAAAASsZ7QQAAAIDAVVRBAAAAMNdbc0EAAAAAiHIqQQAAAKSxDZpBAAAAQIgoWEEAAABgcXR+QQAAAABS1TFBAAAASO7Im0EAAAAApOA8QQAAAADG9jJBAAAAAOReQ0EAAAAAmg5FQQAAALCQaoBBAAAAIHwkbEEAAACAyeiKQQAAAIBH1UFBAAAAQERpVUEAAADAByhcQQAAAMDxe35BAAAAYO+mdEEAAAAwOFh3QQAAAMA8uFNBAAAAAPU3M0EAAAColCiCQQAAALCCg4BBAAAAgDkeR0EAAADAtcd5QQAAAGzQvKtBAAAA4DYxa0EAAAAAgMAMQQAAAAAWpXFBAAAAAKCg/UAAAADAvHtgQQAAAPDnIHJBAAAAmGCFjkEAAAAYUg6IQQAAAHSUWJBBAAAAgBwmYkEAAACgrmpnQQAAAKBb2YdBAAAAwNhTdEEAAACgQLpvQQAAAADA5PZAAAAA+CTKhUEAAAAADH4YQQAAAACMPRFBAAAAAMB0GUEAAABgMK1nQQAAANquRalBAAAAuBywg0EAAAAwYtlyQQAAANjaN4lBAAAAgK2RU0EAAAAA0CnwQAAAAKDcy2VBAAAAYJtLcUEAAABApC1YQQAAAABwnfxAAAAAcL2NcUEAAAAA3lwpQQAAAKBRdGZBAAAA4PylZEEAAACAQ6lFQQAAADwfM59BAAAAAAtiWkEAAABAvjlRQQAAAEDAblpBAAAAwPtQgEEAAAAAYN/mQAAAAAAA8QVBAAAAAICQ+EAAAAAAflwjQQAAAAAN4TRBAAAAjK5FtEEAAAAAbtZJQQAAAADOJEdBAAAAQNx1Y0EAAAAAvj04QQAAAPizsKRBAAAAAAQ+HEEAAAAQWdJwQQAAACbQ/tRBAAAAAH0HTEEAAMB74Z7VQQAAALuu5bBBAAAA6NnUlUEAAAD4XPSFQQAAAABQBmNBAAAALNuOnUEAAACADQlmQQAAALB7o3NBAAAAQEn5UkEAAACASY9bQQAAAMC2o11BAAAASIn0gEEAAAAAbhsgQQAAAABa5EpBAAAA2Nf8iUEAAADgBkd8QQAAAIDAJVRBAAAAWCD0rUEAAABYiZ6bQQAAAACvzUVBAAAAwB3VgEEAAAAAXwdXQQAAAACW5nRBAAAA4FkzZEEAAACsRBaRQQAAAAA+XzVBAAAAFKVjlEEAAACA2JZcQQAAAKAGv2RBAAAAGLRWgUEAAACYzBOYQQAAAID8tURBAAAAACAB9EAAAABAroFhQQAAAADSa2FBAAAAgD2nZkEAAACALiRIQQAAAIBTlVhBAAAAAF5/TUEAAAAAyrk0QQAAAICOwWRBAAAAAOjMVkEAAAAAUu80QQAAAIAXgVVBAAAAbO1VkEEAAACYGumTQQAAAKCo0GNBAAAAQBk9YkEAAAAACLIYQQAAAEAohlRBAAAAOHEgjEEAAAAAKWs8QQAAAIC7CEZBAAAAAKquJEEAAAAAFIchQQAAAICNOkJBAAAAAK4JI0EAAADQHylxQQAAAACzWDtBAAAAAKxBVUEAAACYPm6BQQAAAIBoaWRBAAAAwJkvckEAAAA2ThyhQQAAAIDQIFlBAAAAQP2uVEEAAAAA+jhAQQAAAAjnRYdBAAAAoP0oZEEAAADALjthQQAAAOibDYJBAAAAQDiBkEEAAACQzPF5QQAAAAAgWCxBAAAAALBrAEEAAAAAgFXiQAAAAACAoPtAAAAAAIBVx0AAAAAAYV1UQQAAAMBOLGRBAAAAABidCkEAAAAA/P8oQQAAAACEARRBAABARaRR1EEAAIBwcNDNQQAAcKbzAPFBAACAcVMfxkEAAABQ7cuFQQ==",
                    "dtype": "f8"
                  }
                }
              ],
              "layout": {
                "coloraxis": {
                  "colorbar": {
                    "title": {
                      "text": "gdp_per_capita"
                    }
                  },
                  "colorscale": [
                    [
                      0,
                      "rgb(247,251,255)"
                    ],
                    [
                      0.125,
                      "rgb(222,235,247)"
                    ],
                    [
                      0.25,
                      "rgb(198,219,239)"
                    ],
                    [
                      0.375,
                      "rgb(158,202,225)"
                    ],
                    [
                      0.5,
                      "rgb(107,174,214)"
                    ],
                    [
                      0.625,
                      "rgb(66,146,198)"
                    ],
                    [
                      0.75,
                      "rgb(33,113,181)"
                    ],
                    [
                      0.875,
                      "rgb(8,81,156)"
                    ],
                    [
                      1,
                      "rgb(8,48,107)"
                    ]
                  ]
                },
                "height": 600,
                "legend": {
                  "tracegroupgap": 0
                },
                "template": {
                  "data": {
                    "bar": [
                      {
                        "error_x": {
                          "color": "#2a3f5f"
                        },
                        "error_y": {
                          "color": "#2a3f5f"
                        },
                        "marker": {
                          "line": {
                            "color": "#E5ECF6",
                            "width": 0.5
                          },
                          "pattern": {
                            "fillmode": "overlay",
                            "size": 10,
                            "solidity": 0.2
                          }
                        },
                        "type": "bar"
                      }
                    ],
                    "barpolar": [
                      {
                        "marker": {
                          "line": {
                            "color": "#E5ECF6",
                            "width": 0.5
                          },
                          "pattern": {
                            "fillmode": "overlay",
                            "size": 10,
                            "solidity": 0.2
                          }
                        },
                        "type": "barpolar"
                      }
                    ],
                    "carpet": [
                      {
                        "aaxis": {
                          "endlinecolor": "#2a3f5f",
                          "gridcolor": "white",
                          "linecolor": "white",
                          "minorgridcolor": "white",
                          "startlinecolor": "#2a3f5f"
                        },
                        "baxis": {
                          "endlinecolor": "#2a3f5f",
                          "gridcolor": "white",
                          "linecolor": "white",
                          "minorgridcolor": "white",
                          "startlinecolor": "#2a3f5f"
                        },
                        "type": "carpet"
                      }
                    ],
                    "choropleth": [
                      {
                        "colorbar": {
                          "outlinewidth": 0,
                          "ticks": ""
                        },
                        "type": "choropleth"
                      }
                    ],
                    "contour": [
                      {
                        "colorbar": {
                          "outlinewidth": 0,
                          "ticks": ""
                        },
                        "colorscale": [
                          [
                            0,
                            "#0d0887"
                          ],
                          [
                            0.1111111111111111,
                            "#46039f"
                          ],
                          [
                            0.2222222222222222,
                            "#7201a8"
                          ],
                          [
                            0.3333333333333333,
                            "#9c179e"
                          ],
                          [
                            0.4444444444444444,
                            "#bd3786"
                          ],
                          [
                            0.5555555555555556,
                            "#d8576b"
                          ],
                          [
                            0.6666666666666666,
                            "#ed7953"
                          ],
                          [
                            0.7777777777777778,
                            "#fb9f3a"
                          ],
                          [
                            0.8888888888888888,
                            "#fdca26"
                          ],
                          [
                            1,
                            "#f0f921"
                          ]
                        ],
                        "type": "contour"
                      }
                    ],
                    "contourcarpet": [
                      {
                        "colorbar": {
                          "outlinewidth": 0,
                          "ticks": ""
                        },
                        "type": "contourcarpet"
                      }
                    ],
                    "heatmap": [
                      {
                        "colorbar": {
                          "outlinewidth": 0,
                          "ticks": ""
                        },
                        "colorscale": [
                          [
                            0,
                            "#0d0887"
                          ],
                          [
                            0.1111111111111111,
                            "#46039f"
                          ],
                          [
                            0.2222222222222222,
                            "#7201a8"
                          ],
                          [
                            0.3333333333333333,
                            "#9c179e"
                          ],
                          [
                            0.4444444444444444,
                            "#bd3786"
                          ],
                          [
                            0.5555555555555556,
                            "#d8576b"
                          ],
                          [
                            0.6666666666666666,
                            "#ed7953"
                          ],
                          [
                            0.7777777777777778,
                            "#fb9f3a"
                          ],
                          [
                            0.8888888888888888,
                            "#fdca26"
                          ],
                          [
                            1,
                            "#f0f921"
                          ]
                        ],
                        "type": "heatmap"
                      }
                    ],
                    "histogram": [
                      {
                        "marker": {
                          "pattern": {
                            "fillmode": "overlay",
                            "size": 10,
                            "solidity": 0.2
                          }
                        },
                        "type": "histogram"
                      }
                    ],
                    "histogram2d": [
                      {
                        "colorbar": {
                          "outlinewidth": 0,
                          "ticks": ""
                        },
                        "colorscale": [
                          [
                            0,
                            "#0d0887"
                          ],
                          [
                            0.1111111111111111,
                            "#46039f"
                          ],
                          [
                            0.2222222222222222,
                            "#7201a8"
                          ],
                          [
                            0.3333333333333333,
                            "#9c179e"
                          ],
                          [
                            0.4444444444444444,
                            "#bd3786"
                          ],
                          [
                            0.5555555555555556,
                            "#d8576b"
                          ],
                          [
                            0.6666666666666666,
                            "#ed7953"
                          ],
                          [
                            0.7777777777777778,
                            "#fb9f3a"
                          ],
                          [
                            0.8888888888888888,
                            "#fdca26"
                          ],
                          [
                            1,
                            "#f0f921"
                          ]
                        ],
                        "type": "histogram2d"
                      }
                    ],
                    "histogram2dcontour": [
                      {
                        "colorbar": {
                          "outlinewidth": 0,
                          "ticks": ""
                        },
                        "colorscale": [
                          [
                            0,
                            "#0d0887"
                          ],
                          [
                            0.1111111111111111,
                            "#46039f"
                          ],
                          [
                            0.2222222222222222,
                            "#7201a8"
                          ],
                          [
                            0.3333333333333333,
                            "#9c179e"
                          ],
                          [
                            0.4444444444444444,
                            "#bd3786"
                          ],
                          [
                            0.5555555555555556,
                            "#d8576b"
                          ],
                          [
                            0.6666666666666666,
                            "#ed7953"
                          ],
                          [
                            0.7777777777777778,
                            "#fb9f3a"
                          ],
                          [
                            0.8888888888888888,
                            "#fdca26"
                          ],
                          [
                            1,
                            "#f0f921"
                          ]
                        ],
                        "type": "histogram2dcontour"
                      }
                    ],
                    "mesh3d": [
                      {
                        "colorbar": {
                          "outlinewidth": 0,
                          "ticks": ""
                        },
                        "type": "mesh3d"
                      }
                    ],
                    "parcoords": [
                      {
                        "line": {
                          "colorbar": {
                            "outlinewidth": 0,
                            "ticks": ""
                          }
                        },
                        "type": "parcoords"
                      }
                    ],
                    "pie": [
                      {
                        "automargin": true,
                        "type": "pie"
                      }
                    ],
                    "scatter": [
                      {
                        "fillpattern": {
                          "fillmode": "overlay",
                          "size": 10,
                          "solidity": 0.2
                        },
                        "type": "scatter"
                      }
                    ],
                    "scatter3d": [
                      {
                        "line": {
                          "colorbar": {
                            "outlinewidth": 0,
                            "ticks": ""
                          }
                        },
                        "marker": {
                          "colorbar": {
                            "outlinewidth": 0,
                            "ticks": ""
                          }
                        },
                        "type": "scatter3d"
                      }
                    ],
                    "scattercarpet": [
                      {
                        "marker": {
                          "colorbar": {
                            "outlinewidth": 0,
                            "ticks": ""
                          }
                        },
                        "type": "scattercarpet"
                      }
                    ],
                    "scattergeo": [
                      {
                        "marker": {
                          "colorbar": {
                            "outlinewidth": 0,
                            "ticks": ""
                          }
                        },
                        "type": "scattergeo"
                      }
                    ],
                    "scattergl": [
                      {
                        "marker": {
                          "colorbar": {
                            "outlinewidth": 0,
                            "ticks": ""
                          }
                        },
                        "type": "scattergl"
                      }
                    ],
                    "scattermap": [
                      {
                        "marker": {
                          "colorbar": {
                            "outlinewidth": 0,
                            "ticks": ""
                          }
                        },
                        "type": "scattermap"
                      }
                    ],
                    "scattermapbox": [
                      {
                        "marker": {
                          "colorbar": {
                            "outlinewidth": 0,
                            "ticks": ""
                          }
                        },
                        "type": "scattermapbox"
                      }
                    ],
                    "scatterpolar": [
                      {
                        "marker": {
                          "colorbar": {
                            "outlinewidth": 0,
                            "ticks": ""
                          }
                        },
                        "type": "scatterpolar"
                      }
                    ],
                    "scatterpolargl": [
                      {
                        "marker": {
                          "colorbar": {
                            "outlinewidth": 0,
                            "ticks": ""
                          }
                        },
                        "type": "scatterpolargl"
                      }
                    ],
                    "scatterternary": [
                      {
                        "marker": {
                          "colorbar": {
                            "outlinewidth": 0,
                            "ticks": ""
                          }
                        },
                        "type": "scatterternary"
                      }
                    ],
                    "surface": [
                      {
                        "colorbar": {
                          "outlinewidth": 0,
                          "ticks": ""
                        },
                        "colorscale": [
                          [
                            0,
                            "#0d0887"
                          ],
                          [
                            0.1111111111111111,
                            "#46039f"
                          ],
                          [
                            0.2222222222222222,
                            "#7201a8"
                          ],
                          [
                            0.3333333333333333,
                            "#9c179e"
                          ],
                          [
                            0.4444444444444444,
                            "#bd3786"
                          ],
                          [
                            0.5555555555555556,
                            "#d8576b"
                          ],
                          [
                            0.6666666666666666,
                            "#ed7953"
                          ],
                          [
                            0.7777777777777778,
                            "#fb9f3a"
                          ],
                          [
                            0.8888888888888888,
                            "#fdca26"
                          ],
                          [
                            1,
                            "#f0f921"
                          ]
                        ],
                        "type": "surface"
                      }
                    ],
                    "table": [
                      {
                        "cells": {
                          "fill": {
                            "color": "#EBF0F8"
                          },
                          "line": {
                            "color": "white"
                          }
                        },
                        "header": {
                          "fill": {
                            "color": "#C8D4E3"
                          },
                          "line": {
                            "color": "white"
                          }
                        },
                        "type": "table"
                      }
                    ]
                  },
                  "layout": {
                    "annotationdefaults": {
                      "arrowcolor": "#2a3f5f",
                      "arrowhead": 0,
                      "arrowwidth": 1
                    },
                    "autotypenumbers": "strict",
                    "coloraxis": {
                      "colorbar": {
                        "outlinewidth": 0,
                        "ticks": ""
                      }
                    },
                    "colorscale": {
                      "diverging": [
                        [
                          0,
                          "#8e0152"
                        ],
                        [
                          0.1,
                          "#c51b7d"
                        ],
                        [
                          0.2,
                          "#de77ae"
                        ],
                        [
                          0.3,
                          "#f1b6da"
                        ],
                        [
                          0.4,
                          "#fde0ef"
                        ],
                        [
                          0.5,
                          "#f7f7f7"
                        ],
                        [
                          0.6,
                          "#e6f5d0"
                        ],
                        [
                          0.7,
                          "#b8e186"
                        ],
                        [
                          0.8,
                          "#7fbc41"
                        ],
                        [
                          0.9,
                          "#4d9221"
                        ],
                        [
                          1,
                          "#276419"
                        ]
                      ],
                      "sequential": [
                        [
                          0,
                          "#0d0887"
                        ],
                        [
                          0.1111111111111111,
                          "#46039f"
                        ],
                        [
                          0.2222222222222222,
                          "#7201a8"
                        ],
                        [
                          0.3333333333333333,
                          "#9c179e"
                        ],
                        [
                          0.4444444444444444,
                          "#bd3786"
                        ],
                        [
                          0.5555555555555556,
                          "#d8576b"
                        ],
                        [
                          0.6666666666666666,
                          "#ed7953"
                        ],
                        [
                          0.7777777777777778,
                          "#fb9f3a"
                        ],
                        [
                          0.8888888888888888,
                          "#fdca26"
                        ],
                        [
                          1,
                          "#f0f921"
                        ]
                      ],
                      "sequentialminus": [
                        [
                          0,
                          "#0d0887"
                        ],
                        [
                          0.1111111111111111,
                          "#46039f"
                        ],
                        [
                          0.2222222222222222,
                          "#7201a8"
                        ],
                        [
                          0.3333333333333333,
                          "#9c179e"
                        ],
                        [
                          0.4444444444444444,
                          "#bd3786"
                        ],
                        [
                          0.5555555555555556,
                          "#d8576b"
                        ],
                        [
                          0.6666666666666666,
                          "#ed7953"
                        ],
                        [
                          0.7777777777777778,
                          "#fb9f3a"
                        ],
                        [
                          0.8888888888888888,
                          "#fdca26"
                        ],
                        [
                          1,
                          "#f0f921"
                        ]
                      ]
                    },
                    "colorway": [
                      "#636efa",
                      "#EF553B",
                      "#00cc96",
                      "#ab63fa",
                      "#FFA15A",
                      "#19d3f3",
                      "#FF6692",
                      "#B6E880",
                      "#FF97FF",
                      "#FECB52"
                    ],
                    "font": {
                      "color": "#2a3f5f"
                    },
                    "geo": {
                      "bgcolor": "white",
                      "lakecolor": "white",
                      "landcolor": "#E5ECF6",
                      "showlakes": true,
                      "showland": true,
                      "subunitcolor": "white"
                    },
                    "hoverlabel": {
                      "align": "left"
                    },
                    "hovermode": "closest",
                    "mapbox": {
                      "style": "light"
                    },
                    "paper_bgcolor": "white",
                    "plot_bgcolor": "#E5ECF6",
                    "polar": {
                      "angularaxis": {
                        "gridcolor": "white",
                        "linecolor": "white",
                        "ticks": ""
                      },
                      "bgcolor": "#E5ECF6",
                      "radialaxis": {
                        "gridcolor": "white",
                        "linecolor": "white",
                        "ticks": ""
                      }
                    },
                    "scene": {
                      "xaxis": {
                        "backgroundcolor": "#E5ECF6",
                        "gridcolor": "white",
                        "gridwidth": 2,
                        "linecolor": "white",
                        "showbackground": true,
                        "ticks": "",
                        "zerolinecolor": "white"
                      },
                      "yaxis": {
                        "backgroundcolor": "#E5ECF6",
                        "gridcolor": "white",
                        "gridwidth": 2,
                        "linecolor": "white",
                        "showbackground": true,
                        "ticks": "",
                        "zerolinecolor": "white"
                      },
                      "zaxis": {
                        "backgroundcolor": "#E5ECF6",
                        "gridcolor": "white",
                        "gridwidth": 2,
                        "linecolor": "white",
                        "showbackground": true,
                        "ticks": "",
                        "zerolinecolor": "white"
                      }
                    },
                    "shapedefaults": {
                      "line": {
                        "color": "#2a3f5f"
                      }
                    },
                    "ternary": {
                      "aaxis": {
                        "gridcolor": "white",
                        "linecolor": "white",
                        "ticks": ""
                      },
                      "baxis": {
                        "gridcolor": "white",
                        "linecolor": "white",
                        "ticks": ""
                      },
                      "bgcolor": "#E5ECF6",
                      "caxis": {
                        "gridcolor": "white",
                        "linecolor": "white",
                        "ticks": ""
                      }
                    },
                    "title": {
                      "x": 0.05
                    },
                    "xaxis": {
                      "automargin": true,
                      "gridcolor": "white",
                      "linecolor": "white",
                      "ticks": "",
                      "title": {
                        "standoff": 15
                      },
                      "zerolinecolor": "white",
                      "zerolinewidth": 2
                    },
                    "yaxis": {
                      "automargin": true,
                      "gridcolor": "white",
                      "linecolor": "white",
                      "ticks": "",
                      "title": {
                        "standoff": 15
                      },
                      "zerolinecolor": "white",
                      "zerolinewidth": 2
                    }
                  }
                },
                "title": {
                  "text": "Treemap Interactivo: Población vs PIB per cápita"
                },
                "width": 1000
              }
            }
          },
          "metadata": {},
          "output_type": "display_data"
        },
        {
          "name": "stdout",
          "output_type": "stream",
          "text": [
            " Treemaps generados correctamente\n",
            "\n",
            " ANÁLISIS DE TREEMAPS:\n",
            "Regiones con mayor concentración poblacional:\n",
            "- Asia: 4,564,400,743 habitantes (59.2%)\n",
            "- Africa: 1,363,579,157 habitantes (17.7%)\n",
            "- Americas: 1,000,399,073 habitantes (13.0%)\n",
            "\n",
            "Total población mundial: 7,716,393,194 habitantes\n"
          ]
        }
      ],
      "source": [
        "# ============================================================================\n",
        "# PART 1: TREEMAP (STATIC & INTERACTIVE) - COMPLETO\n",
        "# ============================================================================\n",
        "\n",
        "print(\"=== PART 1: TREEMAP ANALYSIS ===\")\n",
        "\n",
        "# --- Treemap estático con Squarify ---\n",
        "print(\"\\n1. Treemap Estático con Squarify\")\n",
        "plt.figure(figsize=(12, 8))\n",
        "\n",
        "# Agrupar por continente\n",
        "continent_pop = data_clean.groupby('continent')['population'].sum().reset_index()\n",
        "continent_pop = continent_pop.sort_values('population', ascending=False)\n",
        "\n",
        "# Crear treemap estático\n",
        "squarify.plot(sizes=continent_pop['population'], \n",
        "              label=continent_pop['continent'],\n",
        "              alpha=0.8,\n",
        "              color=plt.cm.Set3.colors)\n",
        "\n",
        "plt.title('Treemap Estático: Distribución Poblacional por Continente', \n",
        "          fontsize=14, weight='bold', pad=20)\n",
        "plt.axis('off')\n",
        "plt.tight_layout()\n",
        "plt.show()\n",
        "\n",
        "# --- Treemap interactivo con Plotly ---\n",
        "print(\"\\n2. Treemap Interactivo con Plotly\")\n",
        "fig = px.treemap(data_clean,\n",
        "                 path=['continent', 'country'],\n",
        "                 values='population',\n",
        "                 color='gdp_per_capita',\n",
        "                 color_continuous_scale='Blues',\n",
        "                 title='Treemap Interactivo: Población vs PIB per cápita')\n",
        "\n",
        "fig.update_layout(width=1000, height=600)\n",
        "fig.show()\n",
        "\n",
        "print(\" Treemaps generados correctamente\")\n",
        "\n",
        "# --- Análisis de resultados ---\n",
        "print(\"\\n ANÁLISIS DE TREEMAPS:\")\n",
        "print(\"Regiones con mayor concentración poblacional:\")\n",
        "top_continents = continent_pop.head(3)\n",
        "for _, row in top_continents.iterrows():\n",
        "    percentage = (row['population'] / continent_pop['population'].sum()) * 100\n",
        "    print(f\"- {row['continent']}: {row['population']:,.0f} habitantes ({percentage:.1f}%)\")\n",
        "\n",
        "print(f\"\\nTotal población mundial: {continent_pop['population'].sum():,.0f} habitantes\")\n"
      ]
    },
    {
      "cell_type": "markdown",
      "metadata": {},
      "source": [
        "## Part 2 – Dendrogram (Hierarchical Clustering)\n",
        "\n",
        "El dendrograma nos permite identificar similitudes entre países basándose en población y PIB per cápita, agrupándolos jerárquicamente.\n"
      ]
    },
    {
      "cell_type": "code",
      "execution_count": 5,
      "metadata": {},
      "outputs": [
        {
          "name": "stdout",
          "output_type": "stream",
          "text": [
            "=== PART 2: DENDROGRAM ANALYSIS ===\n",
            "Estandarizando datos...\n",
            "Calculando clustering jerárquico...\n",
            "Generando dendrograma...\n"
          ]
        },
        {
          "data": {
            "image/png": "[encoded data removed]",
            "text/plain": [
              "<Figure size 2000x1000 with 1 Axes>"
            ]
          },
          "metadata": {},
          "output_type": "display_data"
        },
        {
          "name": "stdout",
          "output_type": "stream",
          "text": [
            "\n",
            " Dendrograma completado\n",
            " Número de clusters formados: 10\n",
            "\n",
            "🔍 ANÁLISIS DE SIMILITUD ENTRE PAÍSES:\n",
            "Países agrupados por similitud (primeros 5 clusters):\n",
            "\n",
            "Cluster 1 (2 países):\n",
            "  Países: China, India\n",
            "  Población promedio: 1,429,955,396\n",
            "  PIB per cápita promedio: $8,000\n",
            "\n",
            "Cluster 2 (15 países):\n",
            "  Países: Canada, Israel, Qatar, United Arab Emirates, Andorra...\n",
            "  Población promedio: 20,772,898\n",
            "  PIB per cápita promedio: $57,919\n",
            "\n",
            "Cluster 3 (5 países):\n",
            "  Países: Singapore, Iceland, Ireland, Norway, Switzerland\n",
            "  Población promedio: 5,285,620\n",
            "  PIB per cápita promedio: $94,235\n",
            "\n",
            "Cluster 4 (1 países):\n",
            "  Países: Luxembourg\n",
            "  Población promedio: 677,717\n",
            "  PIB per cápita promedio: $137,517\n",
            "\n",
            "Cluster 5 (1 países):\n",
            "  Países: United States\n",
            "  Población promedio: 340,110,988\n",
            "  PIB per cápita promedio: $85,810\n",
            "\n",
            " INTERPRETACIÓN:\n",
            "- Países cercanos en el dendrograma tienen características similares\n",
            "- La altura indica la distancia entre clusters\n",
            "- Cada color representa un grupo de países con patrones similares\n",
            "- La línea roja marca el threshold de separación entre grupos\n"
          ]
        }
      ],
      "source": [
        "# ============================================================================\n",
        "# PART 2: DENDROGRAM (HIERARCHICAL CLUSTERING) - COMPLETO\n",
        "# ============================================================================\n",
        "\n",
        "print(\"=== PART 2: DENDROGRAM ANALYSIS ===\")\n",
        "\n",
        "# Estandarizar las columnas Population y Gdp_per_capita\n",
        "print(\"Estandarizando datos...\")\n",
        "features = data_clean[['population', 'gdp_per_capita']].values\n",
        "scaler = StandardScaler()\n",
        "features_normalized = scaler.fit_transform(features)\n",
        "\n",
        "# Calcular matriz de distancias y linkage\n",
        "print(\"Calculando clustering jerárquico...\")\n",
        "distances = pdist(features_normalized, metric='euclidean')\n",
        "linkage_matrix = linkage(distances, method='ward')\n",
        "\n",
        "# Crear dendrograma\n",
        "print(\"Generando dendrograma...\")\n",
        "fig, ax = plt.subplots(figsize=(20, 10))\n",
        "\n",
        "# Configurar colores\n",
        "set_link_color_palette(['#FF6B6B', '#4ECDC4', '#45B7D1', '#FFA07A', '#98D8C8', '#F7DC6F', '#96CEB4', '#DDA0DD'])\n",
        "\n",
        "# Crear dendrograma con threshold\n",
        "my_threshold = 2.0\n",
        "dendro = dendrogram(linkage_matrix,\n",
        "                    labels=data_clean['country'].values,\n",
        "                    leaf_font_size=8,\n",
        "                    color_threshold=my_threshold,\n",
        "                    above_threshold_color='#888888',\n",
        "                    ax=ax)\n",
        "\n",
        "plt.title('Dendrograma de Agrupamiento Jerárquico\\n193 Países de la ONU agrupados por Población y PIB per cápita',\n",
        "          fontsize=16, weight='bold', pad=20)\n",
        "plt.xlabel('Países', fontsize=12, weight='bold')\n",
        "plt.ylabel('Distancia Euclidiana', fontsize=12, weight='bold')\n",
        "plt.xticks(rotation=90, fontsize=8)\n",
        "plt.grid(axis='y', alpha=0.3, linestyle='--')\n",
        "\n",
        "# Línea de threshold\n",
        "plt.axhline(y=my_threshold, color='red', linestyle='--', linewidth=2, alpha=0.7, label='Threshold')\n",
        "plt.legend()\n",
        "plt.tight_layout()\n",
        "plt.show()\n",
        "\n",
        "# Análisis de clusters\n",
        "clusters = fcluster(linkage_matrix, t=my_threshold, criterion='distance')\n",
        "n_clusters = len(np.unique(clusters))\n",
        "print(f\"\\n Dendrograma completado\")\n",
        "print(f\" Número de clusters formados: {n_clusters}\")\n",
        "\n",
        "# Mostrar países por cluster (primeros 5 clusters)\n",
        "print(\"\\n🔍 ANÁLISIS DE SIMILITUD ENTRE PAÍSES:\")\n",
        "print(\"Países agrupados por similitud (primeros 5 clusters):\")\n",
        "for i in range(1, min(6, n_clusters + 1)):\n",
        "    countries_in_cluster = data_clean.loc[clusters == i, 'country'].values\n",
        "    if len(countries_in_cluster) > 0:\n",
        "        cluster_stats = data_clean.loc[clusters == i, ['population', 'gdp_per_capita']].mean()\n",
        "        print(f\"\\nCluster {i} ({len(countries_in_cluster)} países):\")\n",
        "        print(f\"  Países: {', '.join(countries_in_cluster[:5])}{'...' if len(countries_in_cluster) > 5 else ''}\")\n",
        "        print(f\"  Población promedio: {cluster_stats['population']:,.0f}\")\n",
        "        print(f\"  PIB per cápita promedio: ${cluster_stats['gdp_per_capita']:,.0f}\")\n",
        "\n",
        "print(f\"\\n INTERPRETACIÓN:\")\n",
        "print(\"- Países cercanos en el dendrograma tienen características similares\")\n",
        "print(\"- La altura indica la distancia entre clusters\")\n",
        "print(\"- Cada color representa un grupo de países con patrones similares\")\n",
        "print(\"- La línea roja marca el threshold de separación entre grupos\")\n"
      ]
    },
    {
      "cell_type": "markdown",
      "metadata": {},
      "source": [
        "## Part 3 – Sunburst Chart\n",
        "\n",
        "El Sunburst Chart representa la jerarquía Continent → Country de forma circular, permitiendo visualizar múltiples niveles de la estructura jerárquica.\n"
      ]
    },
    {
      "cell_type": "code",
      "execution_count": 6,
      "metadata": {},
      "outputs": [
        {
          "name": "stdout",
          "output_type": "stream",
          "text": [
            "=== PART 3: SUNBURST CHART ANALYSIS ===\n",
            "Generando Sunburst Chart...\n"
          ]
        },
        {
          "data": {
            "application/vnd.plotly.v1+json": {
              "config": {
                "plotlyServerURL": "https://plot.ly"
              },
              "data": [
                {
                  "branchvalues": "total",
                  "customdata": {
                    "bdata": "rInlEy7/tUDRr2fZKpSgQK4uelCFNZdAyhDr9z0PvkBbqa4uktqOQOSlO1jEPWNATd9pP9qYtEDNZ/kweYmbQNFAigddIYBAMbk/4LXAj0AyxWY9duCbQLMq0VJ8O4RAEccJdn9ko0DGy7JMyiulQAGnejbxUKtAs9KiivIUqkA2hxRvZlm6QOj4mik4wK5AdEtMrGENwED7NaaUNGSMQPbLK96Wy6JAXIXQvBfUmkCCfecbRTyhQMeAvFeEXo5APcbqDDhyikDhDzQ0Z664QIyZ1Xn6B4FA5siDvPDFf0A7LmhytPiQQOS17EaRRaBA+zM16d0vx0ALAABgxjKvQNTUP1FJOoRAmbAHoCA9sUBP22E8/ZWGQBeykciQN4lAhk6wijw9j0BEYFlyqFmpQAxf9530P5tAv4UbprRw0UC/IE7NG0uLQDaSfyne54NAaI/+H19tuEAEAADAgOqOQAsAAGD7hpJA3zmqT5BMkEAPuRkuX/6wQNZQv9PawpBAZDxgslZMk0CeYs2Z0cCkQB/AdpVyK9dAvPEFHBoRy0AjH/9K7kPjQPwpVuByxdhAXXMJ/dZ2wED3kb40bEKvQH+baU0oFMRApuxrw1OB6kDBXOLreFHQQEMeh+786b5AU8Zczskm0kApVf2uo1LEQId3ULfUPcVAdX5cq7TaukBxT43hqMu1QKGSNEzOL8dAoB95pgYGuECV61eV6C7dQPA53iE/vaBA6Qh4ot7EqkDxU6YQv2u7QL5qHej4pstAk7DCThQ/pkBPMVeKtqfSQA1k5NoYELlAne3lki+CwEDIolyu2jzWQG6Q0q7QsstAl7yQ/px2xkC/59bCswa9QHltkdit3NJAPLj5Zx7z9EDsk/TZoFjXQKcpAnhNmsBAU2/R69VzvEBffPnvDVjdQGaFowfVQqRAETWpvjpR4EDjWLNnwoekQAgTufaS+8lAwOjt8tT0wUADMa7qUxGlQMQVbjRuPbNAUDFseWajskBK9yc+nLm3QIs26+YVdOpAbwu1Hvm230BSNIqOGAqyQA+RY6OsWstA2IPDLnd130BdG030h+aiQMYA00v1l6BADE47G6Etx0AzOcyGxM/JQIwFzGp7I7pAvK482Ak9lUAj11N8PZ2WQO0rDq0axtNA1gLy2v8yl0A393K/qSGvQOGp2YU+n/JAqAEXNSce4UDiX+0QISP2QJ3LI2CRo7FAP6suJc/0lECWgJS8IrG8QH3d1m6Y/JRAfXMOxaQ4zkDoeCSzzb3AQNV7Dw8yHOhAaDNWdGazqEAhJUVQSm2yQGuW1WHQjcNAqBJpjPUS6EDoyQRGJsDrQHQs5elSPsBAKsA/ilNS60CSQY+8r37BQJQJKFYaAdFA8mJN+9xe10AAAABgxd/iQIx5Kean9t5ANvJyGbyK8UAwW0nbhXDeQP2jxcuT+OlAHQEgm8+I5kBtXsYFBz/rQPkkeNYGLNhAOQLdFLDD1kC/ple6/TD0QCbxm2VFM/pAKtoAg0Gk40DkScFQ5tHWQP2R42uSstxAIx7XsmTJAEFyMxvWaa3kQAKQJyGEwb1AhekF5LlDyUCHER2eq6fwQGZxO5IDL8JApkVUmJsx9UDWnDn8qm/YQAR6/90fK9xA0vVuGxqa00AAAABgghTNQOP4ZsLcacpA4w8uyPmI2UBqaNpJK6XgQJAD0k0gPOFAu8EMgWcv7EDFz77zXU/5QAAAACB5DbVAA/3HK5mz6UC6ZAh/73LvQHoQaQ9mkLhAVY4E6EThoUCgJqHgpiq9QOgicTgBRrBA1+Sooeo2ykC/KRxwYM3nQH/NB8n5CKhADZsBe8Uis0BTcllXwsqgQJGAKBafratA0x3koUdUnkCLs0Hew5XiQHlGBZ4c3r9AAEXfOzTb4UBwya3FW/blQA==",
                    "dtype": "f8",
                    "shape": "179, 1"
                  },
                  "domain": {
                    "x": [
                      0,
                      1
                    ],
                    "y": [
                      0,
                      1
                    ]
                  },
                  "hovertemplate": "labels=%{label}<br>population=%{value}<br>parent=%{parent}<br>id=%{id}<br>gdp_per_capita=%{color}<extra></extra>",
                  "ids": [
                    "Africa/Algeria",
                    "Africa/Angola",
                    "Africa/Benin",
                    "Africa/Botswana",
                    "Africa/Burkina Faso",
                    "Africa/Burundi",
                    "Africa/Cabo Verde",
                    "Africa/Cameroon",
                    "Africa/Central African Republic",
                    "Africa/Chad",
                    "Africa/Comoros",
                    "Africa/Congo, Dem. Rep.",
                    "Africa/Congo, Rep.",
                    "Africa/Cote d'Ivoire",
                    "Africa/Djibouti",
                    "Africa/Egypt, Arab Rep.",
                    "Africa/Equatorial Guinea",
                    "Africa/Eswatini",
                    "Africa/Gabon",
                    "Africa/Gambia, The",
                    "Africa/Ghana",
                    "Africa/Guinea",
                    "Africa/Kenya",
                    "Africa/Lesotho",
                    "Africa/Liberia",
                    "Africa/Libya",
                    "Africa/Madagascar",
                    "Africa/Malawi",
                    "Africa/Mali",
                    "Africa/Mauritania",
                    "Africa/Mauritius",
                    "Africa/Morocco",
                    "Africa/Mozambique",
                    "Africa/Namibia",
                    "Africa/Niger",
                    "Africa/Nigeria",
                    "Africa/Rwanda",
                    "Africa/Sao Tome and Principe",
                    "Africa/Senegal",
                    "Africa/Seychelles",
                    "Africa/Sierra Leone",
                    "Africa/Somalia, Fed. Rep.",
                    "Africa/South Africa",
                    "Africa/Sudan",
                    "Africa/Tanzania",
                    "Africa/Togo",
                    "Africa/Tunisia",
                    "Africa/Uganda",
                    "Africa/Zambia",
                    "Africa/Zimbabwe",
                    "Americas/Antigua and Barbuda",
                    "Americas/Argentina",
                    "Americas/Bahamas, The",
                    "Americas/Barbados",
                    "Americas/Belize",
                    "Americas/Bolivia",
                    "Americas/Brazil",
                    "Americas/Canada",
                    "Americas/Chile",
                    "Americas/Colombia",
                    "Americas/Costa Rica",
                    "Americas/Dominica",
                    "Americas/Dominican Republic",
                    "Americas/Ecuador",
                    "Americas/El Salvador",
                    "Americas/Grenada",
                    "Americas/Guatemala",
                    "Americas/Guyana",
                    "Americas/Haiti",
                    "Americas/Honduras",
                    "Americas/Jamaica",
                    "Americas/Mexico",
                    "Americas/Nicaragua",
                    "Americas/Panama",
                    "Americas/Paraguay",
                    "Americas/Peru",
                    "Americas/St. Kitts and Nevis",
                    "Americas/St. Lucia",
                    "Americas/St. Vincent and the Grenadines",
                    "Americas/Suriname",
                    "Americas/Trinidad and Tobago",
                    "Americas/United States",
                    "Americas/Uruguay",
                    "Asia/Armenia",
                    "Asia/Azerbaijan",
                    "Asia/Bahrain",
                    "Asia/Bangladesh",
                    "Asia/Brunei Darussalam",
                    "Asia/Cambodia",
                    "Asia/China",
                    "Asia/Georgia",
                    "Asia/India",
                    "Asia/Indonesia",
                    "Asia/Iran, Islamic Rep.",
                    "Asia/Iraq",
                    "Asia/Israel",
                    "Asia/Japan",
                    "Asia/Jordan",
                    "Asia/Kazakhstan",
                    "Asia/Kuwait",
                    "Asia/Kyrgyz Republic",
                    "Asia/Lao PDR",
                    "Asia/Malaysia",
                    "Asia/Maldives",
                    "Asia/Mongolia",
                    "Asia/Myanmar",
                    "Asia/Nepal",
                    "Asia/Oman",
                    "Asia/Pakistan",
                    "Asia/Philippines",
                    "Asia/Qatar",
                    "Asia/Saudi Arabia",
                    "Asia/Singapore",
                    "Asia/Sri Lanka",
                    "Asia/Tajikistan",
                    "Asia/Thailand",
                    "Asia/Timor-Leste",
                    "Asia/Turkiye",
                    "Asia/Turkmenistan",
                    "Asia/United Arab Emirates",
                    "Asia/Uzbekistan",
                    "Asia/Viet Nam",
                    "Europe/Albania",
                    "Europe/Andorra",
                    "Europe/Austria",
                    "Europe/Belarus",
                    "Europe/Belgium",
                    "Europe/Bosnia and Herzegovina",
                    "Europe/Bulgaria",
                    "Europe/Croatia",
                    "Europe/Cyprus",
                    "Europe/Czechia",
                    "Europe/Denmark",
                    "Europe/Estonia",
                    "Europe/Finland",
                    "Europe/France",
                    "Europe/Germany",
                    "Europe/Greece",
                    "Europe/Hungary",
                    "Europe/Iceland",
                    "Europe/Ireland",
                    "Europe/Italy",
                    "Europe/Latvia",
                    "Europe/Lithuania",
                    "Europe/Luxembourg",
                    "Europe/Malta",
                    "Europe/Moldova",
                    "Europe/Montenegro",
                    "Europe/Netherlands",
                    "Europe/North Macedonia",
                    "Europe/Norway",
                    "Europe/Poland",
                    "Europe/Portugal",
                    "Europe/Romania",
                    "Europe/Russian Federation",
                    "Europe/Serbia",
                    "Europe/Slovak Republic",
                    "Europe/Slovenia",
                    "Europe/Spain",
                    "Europe/Sweden",
                    "Europe/Switzerland",
                    "Europe/Ukraine",
                    "Europe/United Kingdom",
                    "Oceania/Australia",
                    "Oceania/Fiji",
                    "Oceania/Kiribati",
                    "Oceania/Marshall Islands",
                    "Oceania/Micronesia, Fed. Sts.",
                    "Oceania/Nauru",
                    "Oceania/New Zealand",
                    "Oceania/Papua New Guinea",
                    "Oceania/Samoa",
                    "Oceania/Solomon Islands",
                    "Oceania/Vanuatu",
                    "Africa",
                    "Americas",
                    "Asia",
                    "Europe",
                    "Oceania"
                  ],
                  "labels": [
                    "Algeria",
                    "Angola",
                    "Benin",
                    "Botswana",
                    "Burkina Faso",
                    "Burundi",
                    "Cabo Verde",
                    "Cameroon",
                    "Central African Republic",
                    "Chad",
                    "Comoros",
                    "Congo, Dem. Rep.",
                    "Congo, Rep.",
                    "Cote d'Ivoire",
                    "Djibouti",
                    "Egypt, Arab Rep.",
                    "Equatorial Guinea",
                    "Eswatini",
                    "Gabon",
                    "Gambia, The",
                    "Ghana",
                    "Guinea",
                    "Kenya",
                    "Lesotho",
                    "Liberia",
                    "Libya",
                    "Madagascar",
                    "Malawi",
                    "Mali",
                    "Mauritania",
                    "Mauritius",
                    "Morocco",
                    "Mozambique",
                    "Namibia",
                    "Niger",
                    "Nigeria",
                    "Rwanda",
                    "Sao Tome and Principe",
                    "Senegal",
                    "Seychelles",
                    "Sierra Leone",
                    "Somalia, Fed. Rep.",
                    "South Africa",
                    "Sudan",
                    "Tanzania",
                    "Togo",
                    "Tunisia",
                    "Uganda",
                    "Zambia",
                    "Zimbabwe",
                    "Antigua and Barbuda",
                    "Argentina",
                    "Bahamas, The",
                    "Barbados",
                    "Belize",
                    "Bolivia",
                    "Brazil",
                    "Canada",
                    "Chile",
                    "Colombia",
                    "Costa Rica",
                    "Dominica",
                    "Dominican Republic",
                    "Ecuador",
                    "El Salvador",
                    "Grenada",
                    "Guatemala",
                    "Guyana",
                    "Haiti",
                    "Honduras",
                    "Jamaica",
                    "Mexico",
                    "Nicaragua",
                    "Panama",
                    "Paraguay",
                    "Peru",
                    "St. Kitts and Nevis",
                    "St. Lucia",
                    "St. Vincent and the Grenadines",
                    "Suriname",
                    "Trinidad and Tobago",
                    "United States",
                    "Uruguay",
                    "Armenia",
                    "Azerbaijan",
                    "Bahrain",
                    "Bangladesh",
                    "Brunei Darussalam",
                    "Cambodia",
                    "China",
                    "Georgia",
                    "India",
                    "Indonesia",
                    "Iran, Islamic Rep.",
                    "Iraq",
                    "Israel",
                    "Japan",
                    "Jordan",
                    "Kazakhstan",
                    "Kuwait",
                    "Kyrgyz Republic",
                    "Lao PDR",
                    "Malaysia",
                    "Maldives",
                    "Mongolia",
                    "Myanmar",
                    "Nepal",
                    "Oman",
                    "Pakistan",
                    "Philippines",
                    "Qatar",
                    "Saudi Arabia",
                    "Singapore",
                    "Sri Lanka",
                    "Tajikistan",
                    "Thailand",
                    "Timor-Leste",
                    "Turkiye",
                    "Turkmenistan",
                    "United Arab Emirates",
                    "Uzbekistan",
                    "Viet Nam",
                    "Albania",
                    "Andorra",
                    "Austria",
                    "Belarus",
                    "Belgium",
                    "Bosnia and Herzegovina",
                    "Bulgaria",
                    "Croatia",
                    "Cyprus",
                    "Czechia",
                    "Denmark",
                    "Estonia",
                    "Finland",
                    "France",
                    "Germany",
                    "Greece",
                    "Hungary",
                    "Iceland",
                    "Ireland",
                    "Italy",
                    "Latvia",
                    "Lithuania",
                    "Luxembourg",
                    "Malta",
                    "Moldova",
                    "Montenegro",
                    "Netherlands",
                    "North Macedonia",
                    "Norway",
                    "Poland",
                    "Portugal",
                    "Romania",
                    "Russian Federation",
                    "Serbia",
                    "Slovak Republic",
                    "Slovenia",
                    "Spain",
                    "Sweden",
                    "Switzerland",
                    "Ukraine",
                    "United Kingdom",
                    "Australia",
                    "Fiji",
                    "Kiribati",
                    "Marshall Islands",
                    "Micronesia, Fed. Sts.",
                    "Nauru",
                    "New Zealand",
                    "Papua New Guinea",
                    "Samoa",
                    "Solomon Islands",
                    "Vanuatu",
                    "Africa",
                    "Americas",
                    "Asia",
                    "Europe",
                    "Oceania"
                  ],
                  "marker": {
                    "coloraxis": "coloraxis",
                    "colors": {
                      "bdata": "rInlEy7/tUDRr2fZKpSgQK4uelCFNZdAyhDr9z0PvkBbqa4uktqOQOSlO1jEPWNATd9pP9qYtEDNZ/kweYmbQNFAigddIYBAMbk/4LXAj0AyxWY9duCbQLMq0VJ8O4RAEccJdn9ko0DGy7JMyiulQAGnejbxUKtAs9KiivIUqkA2hxRvZlm6QOj4mik4wK5AdEtMrGENwED7NaaUNGSMQPbLK96Wy6JAXIXQvBfUmkCCfecbRTyhQMeAvFeEXo5APcbqDDhyikDhDzQ0Z664QIyZ1Xn6B4FA5siDvPDFf0A7LmhytPiQQOS17EaRRaBA+zM16d0vx0ALAABgxjKvQNTUP1FJOoRAmbAHoCA9sUBP22E8/ZWGQBeykciQN4lAhk6wijw9j0BEYFlyqFmpQAxf9530P5tAv4UbprRw0UC/IE7NG0uLQDaSfyne54NAaI/+H19tuEAEAADAgOqOQAsAAGD7hpJA3zmqT5BMkEAPuRkuX/6wQNZQv9PawpBAZDxgslZMk0CeYs2Z0cCkQB/AdpVyK9dAvPEFHBoRy0AjH/9K7kPjQPwpVuByxdhAXXMJ/dZ2wED3kb40bEKvQH+baU0oFMRApuxrw1OB6kDBXOLreFHQQEMeh+786b5AU8Zczskm0kApVf2uo1LEQId3ULfUPcVAdX5cq7TaukBxT43hqMu1QKGSNEzOL8dAoB95pgYGuECV61eV6C7dQPA53iE/vaBA6Qh4ot7EqkDxU6YQv2u7QL5qHej4pstAk7DCThQ/pkBPMVeKtqfSQA1k5NoYELlAne3lki+CwEDIolyu2jzWQG6Q0q7QsstAl7yQ/px2xkC/59bCswa9QHltkdit3NJAPLj5Zx7z9EDsk/TZoFjXQKcpAnhNmsBAU2/R69VzvEBffPnvDVjdQGaFowfVQqRAETWpvjpR4EDjWLNnwoekQAgTufaS+8lAwOjt8tT0wUADMa7qUxGlQMQVbjRuPbNAUDFseWajskBK9yc+nLm3QIs26+YVdOpAbwu1Hvm230BSNIqOGAqyQA+RY6OsWstA2IPDLnd130BdG030h+aiQMYA00v1l6BADE47G6Etx0AzOcyGxM/JQIwFzGp7I7pAvK482Ak9lUAj11N8PZ2WQO0rDq0axtNA1gLy2v8yl0A393K/qSGvQOGp2YU+n/JAqAEXNSce4UDiX+0QISP2QJ3LI2CRo7FAP6suJc/0lECWgJS8IrG8QH3d1m6Y/JRAfXMOxaQ4zkDoeCSzzb3AQNV7Dw8yHOhAaDNWdGazqEAhJUVQSm2yQGuW1WHQjcNAqBJpjPUS6EDoyQRGJsDrQHQs5elSPsBAKsA/ilNS60CSQY+8r37BQJQJKFYaAdFA8mJN+9xe10AAAABgxd/iQIx5Kean9t5ANvJyGbyK8UAwW0nbhXDeQP2jxcuT+OlAHQEgm8+I5kBtXsYFBz/rQPkkeNYGLNhAOQLdFLDD1kC/ple6/TD0QCbxm2VFM/pAKtoAg0Gk40DkScFQ5tHWQP2R42uSstxAIx7XsmTJAEFyMxvWaa3kQAKQJyGEwb1AhekF5LlDyUCHER2eq6fwQGZxO5IDL8JApkVUmJsx9UDWnDn8qm/YQAR6/90fK9xA0vVuGxqa00AAAABgghTNQOP4ZsLcacpA4w8uyPmI2UBqaNpJK6XgQJAD0k0gPOFAu8EMgWcv7EDFz77zXU/5QAAAACB5DbVAA/3HK5mz6UC6ZAh/73LvQHoQaQ9mkLhAVY4E6EThoUCgJqHgpiq9QOgicTgBRrBA1+Sooeo2ykC/KRxwYM3nQH/NB8n5CKhADZsBe8Uis0BTcllXwsqgQJGAKBafratA0x3koUdUnkCLs0Hew5XiQHlGBZ4c3r9AAEXfOzTb4UBwya3FW/blQA==",
                      "dtype": "f8"
                    }
                  },
                  "name": "",
                  "parents": [
                    "Africa",
                    "Africa",
                    "Africa",
                    "Africa",
                    "Africa",
                    "Africa",
                    "Africa",
                    "Africa",
                    "Africa",
                    "Africa",
                    "Africa",
                    "Africa",
                    "Africa",
                    "Africa",
                    "Africa",
                    "Africa",
                    "Africa",
                    "Africa",
                    "Africa",
                    "Africa",
                    "Africa",
                    "Africa",
                    "Africa",
                    "Africa",
                    "Africa",
                    "Africa",
                    "Africa",
                    "Africa",
                    "Africa",
                    "Africa",
                    "Africa",
                    "Africa",
                    "Africa",
                    "Africa",
                    "Africa",
                    "Africa",
                    "Africa",
                    "Africa",
                    "Africa",
                    "Africa",
                    "Africa",
                    "Africa",
                    "Africa",
                    "Africa",
                    "Africa",
                    "Africa",
                    "Africa",
                    "Africa",
                    "Africa",
                    "Africa",
                    "Americas",
                    "Americas",
                    "Americas",
                    "Americas",
                    "Americas",
                    "Americas",
                    "Americas",
                    "Americas",
                    "Americas",
                    "Americas",
                    "Americas",
                    "Americas",
                    "Americas",
                    "Americas",
                    "Americas",
                    "Americas",
                    "Americas",
                    "Americas",
                    "Americas",
                    "Americas",
                    "Americas",
                    "Americas",
                    "Americas",
                    "Americas",
                    "Americas",
                    "Americas",
                    "Americas",
                    "Americas",
                    "Americas",
                    "Americas",
                    "Americas",
                    "Americas",
                    "Americas",
                    "Asia",
                    "Asia",
                    "Asia",
                    "Asia",
                    "Asia",
                    "Asia",
                    "Asia",
                    "Asia",
                    "Asia",
                    "Asia",
                    "Asia",
                    "Asia",
                    "Asia",
                    "Asia",
                    "Asia",
                    "Asia",
                    "Asia",
                    "Asia",
                    "Asia",
                    "Asia",
                    "Asia",
                    "Asia",
                    "Asia",
                    "Asia",
                    "Asia",
                    "Asia",
                    "Asia",
                    "Asia",
                    "Asia",
                    "Asia",
                    "Asia",
                    "Asia",
                    "Asia",
                    "Asia",
                    "Asia",
                    "Asia",
                    "Asia",
                    "Asia",
                    "Asia",
                    "Europe",
                    "Europe",
                    "Europe",
                    "Europe",
                    "Europe",
                    "Europe",
                    "Europe",
                    "Europe",
                    "Europe",
                    "Europe",
                    "Europe",
                    "Europe",
                    "Europe",
                    "Europe",
                    "Europe",
                    "Europe",
                    "Europe",
                    "Europe",
                    "Europe",
                    "Europe",
                    "Europe",
                    "Europe",
                    "Europe",
                    "Europe",
                    "Europe",
                    "Europe",
                    "Europe",
                    "Europe",
                    "Europe",
                    "Europe",
                    "Europe",
                    "Europe",
                    "Europe",
                    "Europe",
                    "Europe",
                    "Europe",
                    "Europe",
                    "Europe",
                    "Europe",
                    "Europe",
                    "Europe",
                    "Oceania",
                    "Oceania",
                    "Oceania",
                    "Oceania",
                    "Oceania",
                    "Oceania",
                    "Oceania",
                    "Oceania",
                    "Oceania",
                    "Oceania",
                    "Oceania",
                    "",
                    "",
                    "",
                    "",
                    ""
                  ],
                  "type": "sunburst",
                  "values": {
                    "bdata": "AAAAIKNShkEAAADIvBCCQQAAAIDglWtBAAAAgBk8Q0EAAADQNnV2QQAAAEBFy2pBAAAAAJoEIEEAAAAASsZ7QQAAAIDAVVRBAAAAMNdbc0EAAAAAiHIqQQAAAKSxDZpBAAAAQIgoWEEAAABgcXR+QQAAAABS1TFBAAAASO7Im0EAAAAApOA8QQAAAADG9jJBAAAAAOReQ0EAAAAAmg5FQQAAALCQaoBBAAAAIHwkbEEAAACAyeiKQQAAAIBH1UFBAAAAQERpVUEAAADAByhcQQAAAMDxe35BAAAAYO+mdEEAAAAwOFh3QQAAAMA8uFNBAAAAAPU3M0EAAAColCiCQQAAALCCg4BBAAAAgDkeR0EAAADAtcd5QQAAAGzQvKtBAAAA4DYxa0EAAAAAgMAMQQAAAAAWpXFBAAAAAKCg/UAAAADAvHtgQQAAAPDnIHJBAAAAmGCFjkEAAAAYUg6IQQAAAHSUWJBBAAAAgBwmYkEAAACgrmpnQQAAAKBb2YdBAAAAwNhTdEEAAACgQLpvQQAAAADA5PZAAAAA+CTKhUEAAAAADH4YQQAAAACMPRFBAAAAAMB0GUEAAABgMK1nQQAAANquRalBAAAAuBywg0EAAAAwYtlyQQAAANjaN4lBAAAAgK2RU0EAAAAA0CnwQAAAAKDcy2VBAAAAYJtLcUEAAABApC1YQQAAAABwnfxAAAAAcL2NcUEAAAAA3lwpQQAAAKBRdGZBAAAA4PylZEEAAACAQ6lFQQAAADwfM59BAAAAAAtiWkEAAABAvjlRQQAAAEDAblpBAAAAwPtQgEEAAAAAYN/mQAAAAAAA8QVBAAAAAICQ+EAAAAAAflwjQQAAAAAN4TRBAAAAjK5FtEEAAAAAbtZJQQAAAADOJEdBAAAAQNx1Y0EAAAAAvj04QQAAAPizsKRBAAAAAAQ+HEEAAAAQWdJwQQAAACbQ/tRBAAAAAH0HTEEAAMB74Z7VQQAAALuu5bBBAAAA6NnUlUEAAAD4XPSFQQAAAABQBmNBAAAALNuOnUEAAACADQlmQQAAALB7o3NBAAAAQEn5UkEAAACASY9bQQAAAMC2o11BAAAASIn0gEEAAAAAbhsgQQAAAABa5EpBAAAA2Nf8iUEAAADgBkd8QQAAAIDAJVRBAAAAWCD0rUEAAABYiZ6bQQAAAACvzUVBAAAAwB3VgEEAAAAAXwdXQQAAAACW5nRBAAAA4FkzZEEAAACsRBaRQQAAAAA+XzVBAAAAFKVjlEEAAACA2JZcQQAAAKAGv2RBAAAAGLRWgUEAAACYzBOYQQAAAID8tURBAAAAACAB9EAAAABAroFhQQAAAADSa2FBAAAAgD2nZkEAAACALiRIQQAAAIBTlVhBAAAAAF5/TUEAAAAAyrk0QQAAAICOwWRBAAAAAOjMVkEAAAAAUu80QQAAAIAXgVVBAAAAbO1VkEEAAACYGumTQQAAAKCo0GNBAAAAQBk9YkEAAAAACLIYQQAAAEAohlRBAAAAOHEgjEEAAAAAKWs8QQAAAIC7CEZBAAAAAKquJEEAAAAAFIchQQAAAICNOkJBAAAAAK4JI0EAAADQHylxQQAAAACzWDtBAAAAAKxBVUEAAACYPm6BQQAAAIBoaWRBAAAAwJkvckEAAAA2ThyhQQAAAIDQIFlBAAAAQP2uVEEAAAAA+jhAQQAAAAjnRYdBAAAAoP0oZEEAAADALjthQQAAAOibDYJBAAAAQDiBkEEAAACQzPF5QQAAAAAgWCxBAAAAALBrAEEAAAAAgFXiQAAAAACAoPtAAAAAAIBVx0AAAAAAYV1UQQAAAMBOLGRBAAAAABidCkEAAAAA/P8oQQAAAACEARRBAABARaRR1EEAAIBwcNDNQQAAcKbzAPFBAACAcVMfxkEAAABQ7cuFQQ==",
                    "dtype": "f8"
                  }
                }
              ],
              "layout": {
                "coloraxis": {
                  "colorbar": {
                    "title": {
                      "text": "gdp_per_capita"
                    }
                  },
                  "colorscale": [
                    [
                      0,
                      "rgb(247,251,255)"
                    ],
                    [
                      0.125,
                      "rgb(222,235,247)"
                    ],
                    [
                      0.25,
                      "rgb(198,219,239)"
                    ],
                    [
                      0.375,
                      "rgb(158,202,225)"
                    ],
                    [
                      0.5,
                      "rgb(107,174,214)"
                    ],
                    [
                      0.625,
                      "rgb(66,146,198)"
                    ],
                    [
                      0.75,
                      "rgb(33,113,181)"
                    ],
                    [
                      0.875,
                      "rgb(8,81,156)"
                    ],
                    [
                      1,
                      "rgb(8,48,107)"
                    ]
                  ]
                },
                "height": 900,
                "legend": {
                  "tracegroupgap": 0
                },
                "template": {
                  "data": {
                    "bar": [
                      {
                        "error_x": {
                          "color": "#2a3f5f"
                        },
                        "error_y": {
                          "color": "#2a3f5f"
                        },
                        "marker": {
                          "line": {
                            "color": "#E5ECF6",
                            "width": 0.5
                          },
                          "pattern": {
                            "fillmode": "overlay",
                            "size": 10,
                            "solidity": 0.2
                          }
                        },
                        "type": "bar"
                      }
                    ],
                    "barpolar": [
                      {
                        "marker": {
                          "line": {
                            "color": "#E5ECF6",
                            "width": 0.5
                          },
                          "pattern": {
                            "fillmode": "overlay",
                            "size": 10,
                            "solidity": 0.2
                          }
                        },
                        "type": "barpolar"
                      }
                    ],
                    "carpet": [
                      {
                        "aaxis": {
                          "endlinecolor": "#2a3f5f",
                          "gridcolor": "white",
                          "linecolor": "white",
                          "minorgridcolor": "white",
                          "startlinecolor": "#2a3f5f"
                        },
                        "baxis": {
                          "endlinecolor": "#2a3f5f",
                          "gridcolor": "white",
                          "linecolor": "white",
                          "minorgridcolor": "white",
                          "startlinecolor": "#2a3f5f"
                        },
                        "type": "carpet"
                      }
                    ],
                    "choropleth": [
                      {
                        "colorbar": {
                          "outlinewidth": 0,
                          "ticks": ""
                        },
                        "type": "choropleth"
                      }
                    ],
                    "contour": [
                      {
                        "colorbar": {
                          "outlinewidth": 0,
                          "ticks": ""
                        },
                        "colorscale": [
                          [
                            0,
                            "#0d0887"
                          ],
                          [
                            0.1111111111111111,
                            "#46039f"
                          ],
                          [
                            0.2222222222222222,
                            "#7201a8"
                          ],
                          [
                            0.3333333333333333,
                            "#9c179e"
                          ],
                          [
                            0.4444444444444444,
                            "#bd3786"
                          ],
                          [
                            0.5555555555555556,
                            "#d8576b"
                          ],
                          [
                            0.6666666666666666,
                            "#ed7953"
                          ],
                          [
                            0.7777777777777778,
                            "#fb9f3a"
                          ],
                          [
                            0.8888888888888888,
                            "#fdca26"
                          ],
                          [
                            1,
                            "#f0f921"
                          ]
                        ],
                        "type": "contour"
                      }
                    ],
                    "contourcarpet": [
                      {
                        "colorbar": {
                          "outlinewidth": 0,
                          "ticks": ""
                        },
                        "type": "contourcarpet"
                      }
                    ],
                    "heatmap": [
                      {
                        "colorbar": {
                          "outlinewidth": 0,
                          "ticks": ""
                        },
                        "colorscale": [
                          [
                            0,
                            "#0d0887"
                          ],
                          [
                            0.1111111111111111,
                            "#46039f"
                          ],
                          [
                            0.2222222222222222,
                            "#7201a8"
                          ],
                          [
                            0.3333333333333333,
                            "#9c179e"
                          ],
                          [
                            0.4444444444444444,
                            "#bd3786"
                          ],
                          [
                            0.5555555555555556,
                            "#d8576b"
                          ],
                          [
                            0.6666666666666666,
                            "#ed7953"
                          ],
                          [
                            0.7777777777777778,
                            "#fb9f3a"
                          ],
                          [
                            0.8888888888888888,
                            "#fdca26"
                          ],
                          [
                            1,
                            "#f0f921"
                          ]
                        ],
                        "type": "heatmap"
                      }
                    ],
                    "histogram": [
                      {
                        "marker": {
                          "pattern": {
                            "fillmode": "overlay",
                            "size": 10,
                            "solidity": 0.2
                          }
                        },
                        "type": "histogram"
                      }
                    ],
                    "histogram2d": [
                      {
                        "colorbar": {
                          "outlinewidth": 0,
                          "ticks": ""
                        },
                        "colorscale": [
                          [
                            0,
                            "#0d0887"
                          ],
                          [
                            0.1111111111111111,
                            "#46039f"
                          ],
                          [
                            0.2222222222222222,
                            "#7201a8"
                          ],
                          [
                            0.3333333333333333,
                            "#9c179e"
                          ],
                          [
                            0.4444444444444444,
                            "#bd3786"
                          ],
                          [
                            0.5555555555555556,
                            "#d8576b"
                          ],
                          [
                            0.6666666666666666,
                            "#ed7953"
                          ],
                          [
                            0.7777777777777778,
                            "#fb9f3a"
                          ],
                          [
                            0.8888888888888888,
                            "#fdca26"
                          ],
                          [
                            1,
                            "#f0f921"
                          ]
                        ],
                        "type": "histogram2d"
                      }
                    ],
                    "histogram2dcontour": [
                      {
                        "colorbar": {
                          "outlinewidth": 0,
                          "ticks": ""
                        },
                        "colorscale": [
                          [
                            0,
                            "#0d0887"
                          ],
                          [
                            0.1111111111111111,
                            "#46039f"
                          ],
                          [
                            0.2222222222222222,
                            "#7201a8"
                          ],
                          [
                            0.3333333333333333,
                            "#9c179e"
                          ],
                          [
                            0.4444444444444444,
                            "#bd3786"
                          ],
                          [
                            0.5555555555555556,
                            "#d8576b"
                          ],
                          [
                            0.6666666666666666,
                            "#ed7953"
                          ],
                          [
                            0.7777777777777778,
                            "#fb9f3a"
                          ],
                          [
                            0.8888888888888888,
                            "#fdca26"
                          ],
                          [
                            1,
                            "#f0f921"
                          ]
                        ],
                        "type": "histogram2dcontour"
                      }
                    ],
                    "mesh3d": [
                      {
                        "colorbar": {
                          "outlinewidth": 0,
                          "ticks": ""
                        },
                        "type": "mesh3d"
                      }
                    ],
                    "parcoords": [
                      {
                        "line": {
                          "colorbar": {
                            "outlinewidth": 0,
                            "ticks": ""
                          }
                        },
                        "type": "parcoords"
                      }
                    ],
                    "pie": [
                      {
                        "automargin": true,
                        "type": "pie"
                      }
                    ],
                    "scatter": [
                      {
                        "fillpattern": {
                          "fillmode": "overlay",
                          "size": 10,
                          "solidity": 0.2
                        },
                        "type": "scatter"
                      }
                    ],
                    "scatter3d": [
                      {
                        "line": {
                          "colorbar": {
                            "outlinewidth": 0,
                            "ticks": ""
                          }
                        },
                        "marker": {
                          "colorbar": {
                            "outlinewidth": 0,
                            "ticks": ""
                          }
                        },
                        "type": "scatter3d"
                      }
                    ],
                    "scattercarpet": [
                      {
                        "marker": {
                          "colorbar": {
                            "outlinewidth": 0,
                            "ticks": ""
                          }
                        },
                        "type": "scattercarpet"
                      }
                    ],
                    "scattergeo": [
                      {
                        "marker": {
                          "colorbar": {
                            "outlinewidth": 0,
                            "ticks": ""
                          }
                        },
                        "type": "scattergeo"
                      }
                    ],
                    "scattergl": [
                      {
                        "marker": {
                          "colorbar": {
                            "outlinewidth": 0,
                            "ticks": ""
                          }
                        },
                        "type": "scattergl"
                      }
                    ],
                    "scattermap": [
                      {
                        "marker": {
                          "colorbar": {
                            "outlinewidth": 0,
                            "ticks": ""
                          }
                        },
                        "type": "scattermap"
                      }
                    ],
                    "scattermapbox": [
                      {
                        "marker": {
                          "colorbar": {
                            "outlinewidth": 0,
                            "ticks": ""
                          }
                        },
                        "type": "scattermapbox"
                      }
                    ],
                    "scatterpolar": [
                      {
                        "marker": {
                          "colorbar": {
                            "outlinewidth": 0,
                            "ticks": ""
                          }
                        },
                        "type": "scatterpolar"
                      }
                    ],
                    "scatterpolargl": [
                      {
                        "marker": {
                          "colorbar": {
                            "outlinewidth": 0,
                            "ticks": ""
                          }
                        },
                        "type": "scatterpolargl"
                      }
                    ],
                    "scatterternary": [
                      {
                        "marker": {
                          "colorbar": {
                            "outlinewidth": 0,
                            "ticks": ""
                          }
                        },
                        "type": "scatterternary"
                      }
                    ],
                    "surface": [
                      {
                        "colorbar": {
                          "outlinewidth": 0,
                          "ticks": ""
                        },
                        "colorscale": [
                          [
                            0,
                            "#0d0887"
                          ],
                          [
                            0.1111111111111111,
                            "#46039f"
                          ],
                          [
                            0.2222222222222222,
                            "#7201a8"
                          ],
                          [
                            0.3333333333333333,
                            "#9c179e"
                          ],
                          [
                            0.4444444444444444,
                            "#bd3786"
                          ],
                          [
                            0.5555555555555556,
                            "#d8576b"
                          ],
                          [
                            0.6666666666666666,
                            "#ed7953"
                          ],
                          [
                            0.7777777777777778,
                            "#fb9f3a"
                          ],
                          [
                            0.8888888888888888,
                            "#fdca26"
                          ],
                          [
                            1,
                            "#f0f921"
                          ]
                        ],
                        "type": "surface"
                      }
                    ],
                    "table": [
                      {
                        "cells": {
                          "fill": {
                            "color": "#EBF0F8"
                          },
                          "line": {
                            "color": "white"
                          }
                        },
                        "header": {
                          "fill": {
                            "color": "#C8D4E3"
                          },
                          "line": {
                            "color": "white"
                          }
                        },
                        "type": "table"
                      }
                    ]
                  },
                  "layout": {
                    "annotationdefaults": {
                      "arrowcolor": "#2a3f5f",
                      "arrowhead": 0,
                      "arrowwidth": 1
                    },
                    "autotypenumbers": "strict",
                    "coloraxis": {
                      "colorbar": {
                        "outlinewidth": 0,
                        "ticks": ""
                      }
                    },
                    "colorscale": {
                      "diverging": [
                        [
                          0,
                          "#8e0152"
                        ],
                        [
                          0.1,
                          "#c51b7d"
                        ],
                        [
                          0.2,
                          "#de77ae"
                        ],
                        [
                          0.3,
                          "#f1b6da"
                        ],
                        [
                          0.4,
                          "#fde0ef"
                        ],
                        [
                          0.5,
                          "#f7f7f7"
                        ],
                        [
                          0.6,
                          "#e6f5d0"
                        ],
                        [
                          0.7,
                          "#b8e186"
                        ],
                        [
                          0.8,
                          "#7fbc41"
                        ],
                        [
                          0.9,
                          "#4d9221"
                        ],
                        [
                          1,
                          "#276419"
                        ]
                      ],
                      "sequential": [
                        [
                          0,
                          "#0d0887"
                        ],
                        [
                          0.1111111111111111,
                          "#46039f"
                        ],
                        [
                          0.2222222222222222,
                          "#7201a8"
                        ],
                        [
                          0.3333333333333333,
                          "#9c179e"
                        ],
                        [
                          0.4444444444444444,
                          "#bd3786"
                        ],
                        [
                          0.5555555555555556,
                          "#d8576b"
                        ],
                        [
                          0.6666666666666666,
                          "#ed7953"
                        ],
                        [
                          0.7777777777777778,
                          "#fb9f3a"
                        ],
                        [
                          0.8888888888888888,
                          "#fdca26"
                        ],
                        [
                          1,
                          "#f0f921"
                        ]
                      ],
                      "sequentialminus": [
                        [
                          0,
                          "#0d0887"
                        ],
                        [
                          0.1111111111111111,
                          "#46039f"
                        ],
                        [
                          0.2222222222222222,
                          "#7201a8"
                        ],
                        [
                          0.3333333333333333,
                          "#9c179e"
                        ],
                        [
                          0.4444444444444444,
                          "#bd3786"
                        ],
                        [
                          0.5555555555555556,
                          "#d8576b"
                        ],
                        [
                          0.6666666666666666,
                          "#ed7953"
                        ],
                        [
                          0.7777777777777778,
                          "#fb9f3a"
                        ],
                        [
                          0.8888888888888888,
                          "#fdca26"
                        ],
                        [
                          1,
                          "#f0f921"
                        ]
                      ]
                    },
                    "colorway": [
                      "#636efa",
                      "#EF553B",
                      "#00cc96",
                      "#ab63fa",
                      "#FFA15A",
                      "#19d3f3",
                      "#FF6692",
                      "#B6E880",
                      "#FF97FF",
                      "#FECB52"
                    ],
                    "font": {
                      "color": "#2a3f5f"
                    },
                    "geo": {
                      "bgcolor": "white",
                      "lakecolor": "white",
                      "landcolor": "#E5ECF6",
                      "showlakes": true,
                      "showland": true,
                      "subunitcolor": "white"
                    },
                    "hoverlabel": {
                      "align": "left"
                    },
                    "hovermode": "closest",
                    "mapbox": {
                      "style": "light"
                    },
                    "paper_bgcolor": "white",
                    "plot_bgcolor": "#E5ECF6",
                    "polar": {
                      "angularaxis": {
                        "gridcolor": "white",
                        "linecolor": "white",
                        "ticks": ""
                      },
                      "bgcolor": "#E5ECF6",
                      "radialaxis": {
                        "gridcolor": "white",
                        "linecolor": "white",
                        "ticks": ""
                      }
                    },
                    "scene": {
                      "xaxis": {
                        "backgroundcolor": "#E5ECF6",
                        "gridcolor": "white",
                        "gridwidth": 2,
                        "linecolor": "white",
                        "showbackground": true,
                        "ticks": "",
                        "zerolinecolor": "white"
                      },
                      "yaxis": {
                        "backgroundcolor": "#E5ECF6",
                        "gridcolor": "white",
                        "gridwidth": 2,
                        "linecolor": "white",
                        "showbackground": true,
                        "ticks": "",
                        "zerolinecolor": "white"
                      },
                      "zaxis": {
                        "backgroundcolor": "#E5ECF6",
                        "gridcolor": "white",
                        "gridwidth": 2,
                        "linecolor": "white",
                        "showbackground": true,
                        "ticks": "",
                        "zerolinecolor": "white"
                      }
                    },
                    "shapedefaults": {
                      "line": {
                        "color": "#2a3f5f"
                      }
                    },
                    "ternary": {
                      "aaxis": {
                        "gridcolor": "white",
                        "linecolor": "white",
                        "ticks": ""
                      },
                      "baxis": {
                        "gridcolor": "white",
                        "linecolor": "white",
                        "ticks": ""
                      },
                      "bgcolor": "#E5ECF6",
                      "caxis": {
                        "gridcolor": "white",
                        "linecolor": "white",
                        "ticks": ""
                      }
                    },
                    "title": {
                      "x": 0.05
                    },
                    "xaxis": {
                      "automargin": true,
                      "gridcolor": "white",
                      "linecolor": "white",
                      "ticks": "",
                      "title": {
                        "standoff": 15
                      },
                      "zerolinecolor": "white",
                      "zerolinewidth": 2
                    },
                    "yaxis": {
                      "automargin": true,
                      "gridcolor": "white",
                      "linecolor": "white",
                      "ticks": "",
                      "title": {
                        "standoff": 15
                      },
                      "zerolinecolor": "white",
                      "zerolinewidth": 2
                    }
                  }
                },
                "title": {
                  "text": "Sunburst Chart – Jerarquía Continental de Población"
                },
                "width": 900
              }
            }
          },
          "metadata": {},
          "output_type": "display_data"
        },
        {
          "name": "stdout",
          "output_type": "stream",
          "text": [
            " Sunburst Chart generado correctamente\n",
            "\n",
            " ANÁLISIS DE JERARQUÍA CONTINENTAL:\n",
            "Distribución por continente:\n",
            "\n",
            "Asia:\n",
            "  Población total: 4,564,400,743 (59.2%)\n",
            "  Número de países: 39\n",
            "  PIB per cápita promedio: $16,042\n",
            "\n",
            "Africa:\n",
            "  Población total: 1,363,579,157 (17.7%)\n",
            "  Número de países: 50\n",
            "  PIB per cápita promedio: $2,924\n",
            "\n",
            "Americas:\n",
            "  Población total: 1,000,399,073 (13.0%)\n",
            "  Número de países: 33\n",
            "  PIB per cápita promedio: $16,749\n",
            "\n",
            "Europe:\n",
            "  Población total: 742,303,459 (9.6%)\n",
            "  Número de países: 41\n",
            "  PIB per cápita promedio: $40,789\n",
            "\n",
            "Oceania:\n",
            "  Población total: 45,710,762 (0.6%)\n",
            "  Número de países: 11\n",
            "  PIB per cápita promedio: $14,587\n",
            "\n",
            "💡 INTERPRETACIÓN DE LA JERARQUÍA:\n",
            "- El centro representa el total mundial\n",
            "- Cada anillo muestra un nivel de la jerarquía (Continente → País)\n",
            "- El tamaño de los segmentos es proporcional a la población\n",
            "- El color indica el PIB per cápita (azul más oscuro = mayor PIB)\n",
            "- Permite identificar rápidamente las regiones más pobladas y prósperas\n"
          ]
        }
      ],
      "source": [
        "# ============================================================================\n",
        "# PART 3: SUNBURST CHART - COMPLETO\n",
        "# ============================================================================\n",
        "\n",
        "print(\"=== PART 3: SUNBURST CHART ANALYSIS ===\")\n",
        "\n",
        "# Crear Sunburst Chart con Plotly\n",
        "print(\"Generando Sunburst Chart...\")\n",
        "fig = px.sunburst(data_clean,\n",
        "                  path=['continent', 'country'],\n",
        "                  values='population',\n",
        "                  color='gdp_per_capita',\n",
        "                  color_continuous_scale='Blues',\n",
        "                  title='Sunburst Chart – Jerarquía Continental de Población')\n",
        "\n",
        "fig.update_layout(width=900, height=900)\n",
        "fig.show()\n",
        "\n",
        "print(\" Sunburst Chart generado correctamente\")\n",
        "\n",
        "# Análisis de la jerarquía continental\n",
        "print(\"\\n ANÁLISIS DE JERARQUÍA CONTINENTAL:\")\n",
        "continent_analysis = data_clean.groupby('continent').agg({\n",
        "    'population': ['sum', 'count'],\n",
        "    'gdp_per_capita': 'mean'\n",
        "}).round(2)\n",
        "\n",
        "continent_analysis.columns = ['Total_Population', 'Num_Countries', 'Avg_GDP_per_capita']\n",
        "continent_analysis = continent_analysis.sort_values('Total_Population', ascending=False)\n",
        "\n",
        "print(\"Distribución por continente:\")\n",
        "for continent, row in continent_analysis.iterrows():\n",
        "    pop_percentage = (row['Total_Population'] / continent_analysis['Total_Population'].sum()) * 100\n",
        "    print(f\"\\n{continent}:\")\n",
        "    print(f\"  Población total: {row['Total_Population']:,.0f} ({pop_percentage:.1f}%)\")\n",
        "    print(f\"  Número de países: {row['Num_Countries']:.0f}\")\n",
        "    print(f\"  PIB per cápita promedio: ${row['Avg_GDP_per_capita']:,.0f}\")\n",
        "\n",
        "print(f\"\\n💡 INTERPRETACIÓN DE LA JERARQUÍA:\")\n",
        "print(\"- El centro representa el total mundial\")\n",
        "print(\"- Cada anillo muestra un nivel de la jerarquía (Continente → País)\")\n",
        "print(\"- El tamaño de los segmentos es proporcional a la población\")\n",
        "print(\"- El color indica el PIB per cápita (azul más oscuro = mayor PIB)\")\n",
        "print(\"- Permite identificar rápidamente las regiones más pobladas y prósperas\")\n"
      ]
    },
    {
      "cell_type": "markdown",
      "metadata": {},
      "source": [
        "## Part 4 – Circular Treemap\n",
        "\n",
        "El Treemap Circular (Icicle) muestra la distribución del PIB total jerárquicamente, revelando patrones de concentración económica global.\n"
      ]
    },
    {
      "cell_type": "code",
      "execution_count": 7,
      "metadata": {},
      "outputs": [
        {
          "name": "stdout",
          "output_type": "stream",
          "text": [
            "=== PART 4: CIRCULAR TREEMAP ANALYSIS ===\n",
            "Generando Treemap Circular (Icicle)...\n"
          ]
        },
        {
          "data": {
            "application/vnd.plotly.v1+json": {
              "config": {
                "plotlyServerURL": "https://plot.ly"
              },
              "data": [
                {
                  "branchvalues": "total",
                  "customdata": {
                    "bdata": "rInlEy7/tUDRr2fZKpSgQK4uelCFNZdAyxDr9z0PvkBbqa4uktqOQOSlO1jEPWNATd9pP9qYtEDNZ/kweYmbQNFAigddIYBAMLk/4LXAj0AzxWY9duCbQLMq0VJ8O4RAEccJdn9ko0DGy7JMyiulQAGnejbxUKtAs9KiivIUqkA2hxRvZlm6QOn4mik4wK5AdEtMrGENwED7NaaUNGSMQPbLK96Wy6JAXIXQvBfUmkCCfecbRTyhQMWAvFeEXo5APcbqDDhyikDhDzQ0Z664QIyZ1Xn6B4FA58iDvPDFf0A7LmhytPiQQOS17EaRRaBA+zM16d0vx0ALAABgxjKvQNTUP1FJOoRAmbAHoCA9sUBP22E8/ZWGQBiykciQN4lAh06wijw9j0BEYFlyqFmpQAxf9530P5tAv4UbprRw0UC/IE7NG0uLQDaSfyne54NAaI/+H19tuEADAADAgOqOQAsAAGD7hpJA3zmqT5BMkEAPuRkuX/6wQNZQv9PawpBAZDxgslZMk0CeYs2Z0cCkQB/AdpVyK9dAvPEFHBoRy0AjH/9K7kPjQP0pVuByxdhAXXMJ/dZ2wED5kb40bEKvQH+baU0oFMRApexrw1OB6kDBXOLreFHQQEMeh+786b5AU8Zczskm0kApVf2uo1LEQId3ULfUPcVAdn5cq7TaukBxT43hqMu1QKGSNEzOL8dAoB95pgYGuECV61eV6C7dQPA53iE/vaBA6Qh4ot7EqkDxU6YQv2u7QL5qHej4pstAk7DCThQ/pkBPMVeKtqfSQA5k5NoYELlAne3lki+CwEDIolyu2jzWQG+Q0q7QsstAl7yQ/px2xkC/59bCswa9QHltkdit3NJAPLj5Zx7z9EDrk/TZoFjXQKcpAnhNmsBAU2/R69VzvEBffPnvDVjdQGaFowfVQqRAETWpvjpR4EDjWLNnwoekQAgTufaS+8lAwOjt8tT0wUADMa7qUxGlQMQVbjRuPbNAUDFseWajskBL9yc+nLm3QIs26+YVdOpAbwu1Hvm230BSNIqOGAqyQA6RY6OsWstA2IPDLnd130BdG030h+aiQMYA00v1l6BADE47G6Etx0A0OcyGxM/JQIsFzGp7I7pAvK482Ak9lUAj11N8PZ2WQO0rDq0axtNA1gLy2v8yl0A393K/qSGvQOGp2YU+n/JAqAEXNSce4UDiX+0QISP2QJ3LI2CRo7FAP6suJc/0lECWgJS8IrG8QH3d1m6Y/JRAfXMOxaQ4zkDoeCSzzb3AQNV7Dw8yHOhAaDNWdGazqEAhJUVQSm2yQGuW1WHQjcNAqBJpjPUS6EDoyQRGJsDrQHQs5elSPsBAKsA/ilNS60CSQY+8r37BQJQJKFYaAdFA8mJN+9xe10AAAABgxd/iQIx5Kean9t5ANvJyGbyK8UAwW0nbhXDeQPyjxcuT+OlAHQEgm8+I5kBtXsYFBz/rQPkkeNYGLNhAOALdFLDD1kC/ple6/TD0QCfxm2VFM/pAKtoAg0Gk40DkScFQ5tHWQP2R42uSstxAIx7XsmTJAEFyMxvWaa3kQAKQJyGEwb1AhekF5LlDyUCHER2eq6fwQGZxO5IDL8JApkVUmJsx9UDVnDn8qm/YQAN6/90fK9xA0vVuGxqa00AAAABgghTNQOL4ZsLcacpA4w8uyPmI2UBqaNpJK6XgQJAD0k0gPOFAusEMgWcv7EDFz77zXU/5QAAAACB5DbVAA/3HK5mz6UC6ZAh/73LvQHoQaQ9mkLhAVY4E6EThoUCfJqHgpiq9QOgicTgBRrBA1+Sooeo2ykC/KRxwYM3nQH/NB8n5CKhADZsBe8Uis0BTcllXwsqgQJKAKBafratAf6oW9RmrqkCFF8ugGlrxQLXX95vFONBAN58rzEe750A9Fw6MA9rtQA==",
                    "dtype": "f8",
                    "shape": "179, 1"
                  },
                  "domain": {
                    "x": [
                      0,
                      1
                    ],
                    "y": [
                      0,
                      1
                    ]
                  },
                  "hovertemplate": "labels=%{label}<br>gdp_total=%{value}<br>parent=%{parent}<br>id=%{id}<br>gdp_per_capita=%{color}<extra></extra>",
                  "ids": [
                    "Africa/Algeria",
                    "Africa/Angola",
                    "Africa/Benin",
                    "Africa/Botswana",
                    "Africa/Burkina Faso",
                    "Africa/Burundi",
                    "Africa/Cabo Verde",
                    "Africa/Cameroon",
                    "Africa/Central African Republic",
                    "Africa/Chad",
                    "Africa/Comoros",
                    "Africa/Congo, Dem. Rep.",
                    "Africa/Congo, Rep.",
                    "Africa/Cote d'Ivoire",
                    "Africa/Djibouti",
                    "Africa/Egypt, Arab Rep.",
                    "Africa/Equatorial Guinea",
                    "Africa/Eswatini",
                    "Africa/Gabon",
                    "Africa/Gambia, The",
                    "Africa/Ghana",
                    "Africa/Guinea",
                    "Africa/Kenya",
                    "Africa/Lesotho",
                    "Africa/Liberia",
                    "Africa/Libya",
                    "Africa/Madagascar",
                    "Africa/Malawi",
                    "Africa/Mali",
                    "Africa/Mauritania",
                    "Africa/Mauritius",
                    "Africa/Morocco",
                    "Africa/Mozambique",
                    "Africa/Namibia",
                    "Africa/Niger",
                    "Africa/Nigeria",
                    "Africa/Rwanda",
                    "Africa/Sao Tome and Principe",
                    "Africa/Senegal",
                    "Africa/Seychelles",
                    "Africa/Sierra Leone",
                    "Africa/Somalia, Fed. Rep.",
                    "Africa/South Africa",
                    "Africa/Sudan",
                    "Africa/Tanzania",
                    "Africa/Togo",
                    "Africa/Tunisia",
                    "Africa/Uganda",
                    "Africa/Zambia",
                    "Africa/Zimbabwe",
                    "Americas/Antigua and Barbuda",
                    "Americas/Argentina",
                    "Americas/Bahamas, The",
                    "Americas/Barbados",
                    "Americas/Belize",
                    "Americas/Bolivia",
                    "Americas/Brazil",
                    "Americas/Canada",
                    "Americas/Chile",
                    "Americas/Colombia",
                    "Americas/Costa Rica",
                    "Americas/Dominica",
                    "Americas/Dominican Republic",
                    "Americas/Ecuador",
                    "Americas/El Salvador",
                    "Americas/Grenada",
                    "Americas/Guatemala",
                    "Americas/Guyana",
                    "Americas/Haiti",
                    "Americas/Honduras",
                    "Americas/Jamaica",
                    "Americas/Mexico",
                    "Americas/Nicaragua",
                    "Americas/Panama",
                    "Americas/Paraguay",
                    "Americas/Peru",
                    "Americas/St. Kitts and Nevis",
                    "Americas/St. Lucia",
                    "Americas/St. Vincent and the Grenadines",
                    "Americas/Suriname",
                    "Americas/Trinidad and Tobago",
                    "Americas/United States",
                    "Americas/Uruguay",
                    "Asia/Armenia",
                    "Asia/Azerbaijan",
                    "Asia/Bahrain",
                    "Asia/Bangladesh",
                    "Asia/Brunei Darussalam",
                    "Asia/Cambodia",
                    "Asia/China",
                    "Asia/Georgia",
                    "Asia/India",
                    "Asia/Indonesia",
                    "Asia/Iran, Islamic Rep.",
                    "Asia/Iraq",
                    "Asia/Israel",
                    "Asia/Japan",
                    "Asia/Jordan",
                    "Asia/Kazakhstan",
                    "Asia/Kuwait",
                    "Asia/Kyrgyz Republic",
                    "Asia/Lao PDR",
                    "Asia/Malaysia",
                    "Asia/Maldives",
                    "Asia/Mongolia",
                    "Asia/Myanmar",
                    "Asia/Nepal",
                    "Asia/Oman",
                    "Asia/Pakistan",
                    "Asia/Philippines",
                    "Asia/Qatar",
                    "Asia/Saudi Arabia",
                    "Asia/Singapore",
                    "Asia/Sri Lanka",
                    "Asia/Tajikistan",
                    "Asia/Thailand",
                    "Asia/Timor-Leste",
                    "Asia/Turkiye",
                    "Asia/Turkmenistan",
                    "Asia/United Arab Emirates",
                    "Asia/Uzbekistan",
                    "Asia/Viet Nam",
                    "Europe/Albania",
                    "Europe/Andorra",
                    "Europe/Austria",
                    "Europe/Belarus",
                    "Europe/Belgium",
                    "Europe/Bosnia and Herzegovina",
                    "Europe/Bulgaria",
                    "Europe/Croatia",
                    "Europe/Cyprus",
                    "Europe/Czechia",
                    "Europe/Denmark",
                    "Europe/Estonia",
                    "Europe/Finland",
                    "Europe/France",
                    "Europe/Germany",
                    "Europe/Greece",
                    "Europe/Hungary",
                    "Europe/Iceland",
                    "Europe/Ireland",
                    "Europe/Italy",
                    "Europe/Latvia",
                    "Europe/Lithuania",
                    "Europe/Luxembourg",
                    "Europe/Malta",
                    "Europe/Moldova",
                    "Europe/Montenegro",
                    "Europe/Netherlands",
                    "Europe/North Macedonia",
                    "Europe/Norway",
                    "Europe/Poland",
                    "Europe/Portugal",
                    "Europe/Romania",
                    "Europe/Russian Federation",
                    "Europe/Serbia",
                    "Europe/Slovak Republic",
                    "Europe/Slovenia",
                    "Europe/Spain",
                    "Europe/Sweden",
                    "Europe/Switzerland",
                    "Europe/Ukraine",
                    "Europe/United Kingdom",
                    "Oceania/Australia",
                    "Oceania/Fiji",
                    "Oceania/Kiribati",
                    "Oceania/Marshall Islands",
                    "Oceania/Micronesia, Fed. Sts.",
                    "Oceania/Nauru",
                    "Oceania/New Zealand",
                    "Oceania/Papua New Guinea",
                    "Oceania/Samoa",
                    "Oceania/Solomon Islands",
                    "Oceania/Vanuatu",
                    "Africa",
                    "Americas",
                    "Asia",
                    "Europe",
                    "Oceania"
                  ],
                  "labels": [
                    "Algeria",
                    "Angola",
                    "Benin",
                    "Botswana",
                    "Burkina Faso",
                    "Burundi",
                    "Cabo Verde",
                    "Cameroon",
                    "Central African Republic",
                    "Chad",
                    "Comoros",
                    "Congo, Dem. Rep.",
                    "Congo, Rep.",
                    "Cote d'Ivoire",
                    "Djibouti",
                    "Egypt, Arab Rep.",
                    "Equatorial Guinea",
                    "Eswatini",
                    "Gabon",
                    "Gambia, The",
                    "Ghana",
                    "Guinea",
                    "Kenya",
                    "Lesotho",
                    "Liberia",
                    "Libya",
                    "Madagascar",
                    "Malawi",
                    "Mali",
                    "Mauritania",
                    "Mauritius",
                    "Morocco",
                    "Mozambique",
                    "Namibia",
                    "Niger",
                    "Nigeria",
                    "Rwanda",
                    "Sao Tome and Principe",
                    "Senegal",
                    "Seychelles",
                    "Sierra Leone",
                    "Somalia, Fed. Rep.",
                    "South Africa",
                    "Sudan",
                    "Tanzania",
                    "Togo",
                    "Tunisia",
                    "Uganda",
                    "Zambia",
                    "Zimbabwe",
                    "Antigua and Barbuda",
                    "Argentina",
                    "Bahamas, The",
                    "Barbados",
                    "Belize",
                    "Bolivia",
                    "Brazil",
                    "Canada",
                    "Chile",
                    "Colombia",
                    "Costa Rica",
                    "Dominica",
                    "Dominican Republic",
                    "Ecuador",
                    "El Salvador",
                    "Grenada",
                    "Guatemala",
                    "Guyana",
                    "Haiti",
                    "Honduras",
                    "Jamaica",
                    "Mexico",
                    "Nicaragua",
                    "Panama",
                    "Paraguay",
                    "Peru",
                    "St. Kitts and Nevis",
                    "St. Lucia",
                    "St. Vincent and the Grenadines",
                    "Suriname",
                    "Trinidad and Tobago",
                    "United States",
                    "Uruguay",
                    "Armenia",
                    "Azerbaijan",
                    "Bahrain",
                    "Bangladesh",
                    "Brunei Darussalam",
                    "Cambodia",
                    "China",
                    "Georgia",
                    "India",
                    "Indonesia",
                    "Iran, Islamic Rep.",
                    "Iraq",
                    "Israel",
                    "Japan",
                    "Jordan",
                    "Kazakhstan",
                    "Kuwait",
                    "Kyrgyz Republic",
                    "Lao PDR",
                    "Malaysia",
                    "Maldives",
                    "Mongolia",
                    "Myanmar",
                    "Nepal",
                    "Oman",
                    "Pakistan",
                    "Philippines",
                    "Qatar",
                    "Saudi Arabia",
                    "Singapore",
                    "Sri Lanka",
                    "Tajikistan",
                    "Thailand",
                    "Timor-Leste",
                    "Turkiye",
                    "Turkmenistan",
                    "United Arab Emirates",
                    "Uzbekistan",
                    "Viet Nam",
                    "Albania",
                    "Andorra",
                    "Austria",
                    "Belarus",
                    "Belgium",
                    "Bosnia and Herzegovina",
                    "Bulgaria",
                    "Croatia",
                    "Cyprus",
                    "Czechia",
                    "Denmark",
                    "Estonia",
                    "Finland",
                    "France",
                    "Germany",
                    "Greece",
                    "Hungary",
                    "Iceland",
                    "Ireland",
                    "Italy",
                    "Latvia",
                    "Lithuania",
                    "Luxembourg",
                    "Malta",
                    "Moldova",
                    "Montenegro",
                    "Netherlands",
                    "North Macedonia",
                    "Norway",
                    "Poland",
                    "Portugal",
                    "Romania",
                    "Russian Federation",
                    "Serbia",
                    "Slovak Republic",
                    "Slovenia",
                    "Spain",
                    "Sweden",
                    "Switzerland",
                    "Ukraine",
                    "United Kingdom",
                    "Australia",
                    "Fiji",
                    "Kiribati",
                    "Marshall Islands",
                    "Micronesia, Fed. Sts.",
                    "Nauru",
                    "New Zealand",
                    "Papua New Guinea",
                    "Samoa",
                    "Solomon Islands",
                    "Vanuatu",
                    "Africa",
                    "Americas",
                    "Asia",
                    "Europe",
                    "Oceania"
                  ],
                  "marker": {
                    "coloraxis": "coloraxis",
                    "colors": {
                      "bdata": "rInlEy7/tUDRr2fZKpSgQK4uelCFNZdAyxDr9z0PvkBbqa4uktqOQOSlO1jEPWNATd9pP9qYtEDNZ/kweYmbQNFAigddIYBAMLk/4LXAj0AzxWY9duCbQLMq0VJ8O4RAEccJdn9ko0DGy7JMyiulQAGnejbxUKtAs9KiivIUqkA2hxRvZlm6QOn4mik4wK5AdEtMrGENwED7NaaUNGSMQPbLK96Wy6JAXIXQvBfUmkCCfecbRTyhQMWAvFeEXo5APcbqDDhyikDhDzQ0Z664QIyZ1Xn6B4FA58iDvPDFf0A7LmhytPiQQOS17EaRRaBA+zM16d0vx0ALAABgxjKvQNTUP1FJOoRAmbAHoCA9sUBP22E8/ZWGQBiykciQN4lAh06wijw9j0BEYFlyqFmpQAxf9530P5tAv4UbprRw0UC/IE7NG0uLQDaSfyne54NAaI/+H19tuEADAADAgOqOQAsAAGD7hpJA3zmqT5BMkEAPuRkuX/6wQNZQv9PawpBAZDxgslZMk0CeYs2Z0cCkQB/AdpVyK9dAvPEFHBoRy0AjH/9K7kPjQP0pVuByxdhAXXMJ/dZ2wED5kb40bEKvQH+baU0oFMRApexrw1OB6kDBXOLreFHQQEMeh+786b5AU8Zczskm0kApVf2uo1LEQId3ULfUPcVAdn5cq7TaukBxT43hqMu1QKGSNEzOL8dAoB95pgYGuECV61eV6C7dQPA53iE/vaBA6Qh4ot7EqkDxU6YQv2u7QL5qHej4pstAk7DCThQ/pkBPMVeKtqfSQA5k5NoYELlAne3lki+CwEDIolyu2jzWQG+Q0q7QsstAl7yQ/px2xkC/59bCswa9QHltkdit3NJAPLj5Zx7z9EDrk/TZoFjXQKcpAnhNmsBAU2/R69VzvEBffPnvDVjdQGaFowfVQqRAETWpvjpR4EDjWLNnwoekQAgTufaS+8lAwOjt8tT0wUADMa7qUxGlQMQVbjRuPbNAUDFseWajskBL9yc+nLm3QIs26+YVdOpAbwu1Hvm230BSNIqOGAqyQA6RY6OsWstA2IPDLnd130BdG030h+aiQMYA00v1l6BADE47G6Etx0A0OcyGxM/JQIsFzGp7I7pAvK482Ak9lUAj11N8PZ2WQO0rDq0axtNA1gLy2v8yl0A393K/qSGvQOGp2YU+n/JAqAEXNSce4UDiX+0QISP2QJ3LI2CRo7FAP6suJc/0lECWgJS8IrG8QH3d1m6Y/JRAfXMOxaQ4zkDoeCSzzb3AQNV7Dw8yHOhAaDNWdGazqEAhJUVQSm2yQGuW1WHQjcNAqBJpjPUS6EDoyQRGJsDrQHQs5elSPsBAKsA/ilNS60CSQY+8r37BQJQJKFYaAdFA8mJN+9xe10AAAABgxd/iQIx5Kean9t5ANvJyGbyK8UAwW0nbhXDeQPyjxcuT+OlAHQEgm8+I5kBtXsYFBz/rQPkkeNYGLNhAOALdFLDD1kC/ple6/TD0QCfxm2VFM/pAKtoAg0Gk40DkScFQ5tHWQP2R42uSstxAIx7XsmTJAEFyMxvWaa3kQAKQJyGEwb1AhekF5LlDyUCHER2eq6fwQGZxO5IDL8JApkVUmJsx9UDVnDn8qm/YQAN6/90fK9xA0vVuGxqa00AAAABgghTNQOL4ZsLcacpA4w8uyPmI2UBqaNpJK6XgQJAD0k0gPOFAusEMgWcv7EDFz77zXU/5QAAAACB5DbVAA/3HK5mz6UC6ZAh/73LvQHoQaQ9mkLhAVY4E6EThoUCfJqHgpiq9QOgicTgBRrBA1+Sooeo2ykC/KRxwYM3nQH/NB8n5CKhADZsBe8Uis0BTcllXwsqgQJKAKBafratAf6oW9RmrqkCFF8ugGlrxQLXX95vFONBAN58rzEe750A9Fw6MA9rtQA==",
                      "dtype": "f8"
                    }
                  },
                  "name": "",
                  "parents": [
                    "Africa",
                    "Africa",
                    "Africa",
                    "Africa",
                    "Africa",
                    "Africa",
                    "Africa",
                    "Africa",
                    "Africa",
                    "Africa",
                    "Africa",
                    "Africa",
                    "Africa",
                    "Africa",
                    "Africa",
                    "Africa",
                    "Africa",
                    "Africa",
                    "Africa",
                    "Africa",
                    "Africa",
                    "Africa",
                    "Africa",
                    "Africa",
                    "Africa",
                    "Africa",
                    "Africa",
                    "Africa",
                    "Africa",
                    "Africa",
                    "Africa",
                    "Africa",
                    "Africa",
                    "Africa",
                    "Africa",
                    "Africa",
                    "Africa",
                    "Africa",
                    "Africa",
                    "Africa",
                    "Africa",
                    "Africa",
                    "Africa",
                    "Africa",
                    "Africa",
                    "Africa",
                    "Africa",
                    "Africa",
                    "Africa",
                    "Africa",
                    "Americas",
                    "Americas",
                    "Americas",
                    "Americas",
                    "Americas",
                    "Americas",
                    "Americas",
                    "Americas",
                    "Americas",
                    "Americas",
                    "Americas",
                    "Americas",
                    "Americas",
                    "Americas",
                    "Americas",
                    "Americas",
                    "Americas",
                    "Americas",
                    "Americas",
                    "Americas",
                    "Americas",
                    "Americas",
                    "Americas",
                    "Americas",
                    "Americas",
                    "Americas",
                    "Americas",
                    "Americas",
                    "Americas",
                    "Americas",
                    "Americas",
                    "Americas",
                    "Americas",
                    "Asia",
                    "Asia",
                    "Asia",
                    "Asia",
                    "Asia",
                    "Asia",
                    "Asia",
                    "Asia",
                    "Asia",
                    "Asia",
                    "Asia",
                    "Asia",
                    "Asia",
                    "Asia",
                    "Asia",
                    "Asia",
                    "Asia",
                    "Asia",
                    "Asia",
                    "Asia",
                    "Asia",
                    "Asia",
                    "Asia",
                    "Asia",
                    "Asia",
                    "Asia",
                    "Asia",
                    "Asia",
                    "Asia",
                    "Asia",
                    "Asia",
                    "Asia",
                    "Asia",
                    "Asia",
                    "Asia",
                    "Asia",
                    "Asia",
                    "Asia",
                    "Asia",
                    "Europe",
                    "Europe",
                    "Europe",
                    "Europe",
                    "Europe",
                    "Europe",
                    "Europe",
                    "Europe",
                    "Europe",
                    "Europe",
                    "Europe",
                    "Europe",
                    "Europe",
                    "Europe",
                    "Europe",
                    "Europe",
                    "Europe",
                    "Europe",
                    "Europe",
                    "Europe",
                    "Europe",
                    "Europe",
                    "Europe",
                    "Europe",
                    "Europe",
                    "Europe",
                    "Europe",
                    "Europe",
                    "Europe",
                    "Europe",
                    "Europe",
                    "Europe",
                    "Europe",
                    "Europe",
                    "Europe",
                    "Europe",
                    "Europe",
                    "Europe",
                    "Europe",
                    "Europe",
                    "Europe",
                    "Oceania",
                    "Oceania",
                    "Oceania",
                    "Oceania",
                    "Oceania",
                    "Oceania",
                    "Oceania",
                    "Oceania",
                    "Oceania",
                    "Oceania",
                    "Oceania",
                    "",
                    "",
                    "",
                    "",
                    ""
                  ],
                  "type": "icicle",
                  "values": {
                    "bdata": "iFwla3uwTkKbn6H7B7gyQuUYIYTcARRCR8yJU4EREkIAKPZ/SKcVQh8Y6wBpHOBBIFwutcae5EEIuBmNoOYnQjUiDJkngORBqJbCiI01E0JMwxQxJgrXQegehH79eDBCNiyDk99HDULqZGNnFyY0QnXJ29Mxcu5BP+RWx3GlVkJLf2h4MscHQsuEgoxDOfJBFLEeWRdvE0KEJ8v6tq7iQTP5uJzFSDNCq/KacCuYF0L6H3NGs/w8QizXs0qf7OBB////9/Ox8UGdzetIerclQmXRQidyORBCYBtU9HaBBEI3rUzeFsMYQnVTDFP6DQRCm9e2HO/ZC0J+DZj8H7RBQhfqncGL4BRCY1vkdm/oCELVQODdIjISQpLmHdqs20VCDvK7a7aLCkLjFV698sbGQTU1ZOocDR5CW7lOca4l4EFQYxQtLx78QTH/LznKjQZCSYSAfVlMV0KTzG14tj0nQoPWd62N7TJCTMO9OPV8AkKUMRGB994oQoL3E0TN+yhCJhfczo2EGELyPLS4lZMkQvcS2lt/k+BBCbY2XDRuYkIJAADYqn0NQg4AAJQTsfpBNyUdFNMx6kHrsk8g7CAnQmDJi1Pxtn9CutJL0qhOgELx5VYlXTlTQiMMyi/DXFhCBqqI/lMzNkIxob2kv4fEQYmRBpLM7zxCAQDM7EUHPUIEAADu1HcgQvTsJTbou9RBBXrUmjhbOkLkmMcGVyEXQpYtuz3ofRdCYhY8y+VFIUKgHERDwI8SQtqhKDvu9XpCx17eU2lXEkL4/38/hRU0QnNV/xnSsyRCm/YoQb7VUEIcob1EIsrPQZjQXqbz/eJBBRPaW2U+0UGikuNK4I/xQeGFuO4nnRhC/39SACOLukJmlKGertkyQtqJdk0ABBhC8PBwX5JNMUK2UV+JqDomQueYm1ZNM1pCNpyZpWXNDEIPjvWGqpUlQiQL0LohDLFCSEkKD9x0H0K1MVAn8neMQo3vqIqfUXRC8vaFY2luWUKb2KO9+kZQQpJr285JdF9CcdYg7WZLjULz7VKqFtgoQtWqXRuWyVBCj6yUFCWnQkLKDC1PJEcQQg2lCDQ2vQ5CmWQb09+PWEKQ0NaWBPz5QYfO6Zla9xVCrm3sn38/MUL6a/2Ix/sjQsDZcl1J5jhCdOIcMDS3VUKulmUNo95aQsV7fA5mYElCpaoacygCckIw9mBXstxfQmOmZV+qCjdCrW3k+UR1CkKz62SdI6ReQvjLWi11CNxB8avfH4JBc0KJqTbq/ektQt3dEyQZQ19Ca5yaKXfEOkI6yyjhvLpbQi5EnlWtTxlCtTbHRGQZ7kGvb5oXFF1eQrTp/xSurzFCgt49lWNXY0Kv4G1+l2UaQtjUP4RaIDpC/55sZ/2KNUIA3EFb4HIoQg3D4XZyFVRCnffp3Gn/WELLpiIR+ukjQgCyEyTmc1FCRL6mzNQBh0J96jC75fOQQhfWkjeD701CBQ6aExTzSUJpZru2JyofQog9mAbjzWBC/4iKEqNDgUJuPradFEQkQmxdGXWZwjNCQbVzYv6yNULNtz950aYWQlGb1qVM8xBCYtjcl7UP/kF8RiQd9dxxQkWKYAgkFA9CTxdSlRkoXEJ1rF78BJ9qQoErJGi991FCHUpgaK5HVkIEzEiQPBl/QhE8ZW7KvTRCoQ5WAT+BQELMRiF2ceAwQn3y3Ze6EXlC2aLAVbvBYUKREFRx8kFrQlDCMloQwUdCVncfiiuDikJ5RS/BbX95QsFejPb+wfVB/yTKEpxZskFN1DrU67WwQc4ZfUtgGbxBvlMZX4Mdo0GMf8eZoktOQsb/XzbHTR5COdTRzWLUz0HLLMt1yzzaQQY9AgfTTdFBxdwRzA1Cg0JERBRIyFDBQkDbW9jx7sBClPBQp12wuEJJUM/eQ+t9Qg==",
                    "dtype": "f8"
                  }
                }
              ],
              "layout": {
                "coloraxis": {
                  "colorbar": {
                    "title": {
                      "text": "gdp_per_capita"
                    }
                  },
                  "colorscale": [
                    [
                      0,
                      "rgb(255,245,240)"
                    ],
                    [
                      0.125,
                      "rgb(254,224,210)"
                    ],
                    [
                      0.25,
                      "rgb(252,187,161)"
                    ],
                    [
                      0.375,
                      "rgb(252,146,114)"
                    ],
                    [
                      0.5,
                      "rgb(251,106,74)"
                    ],
                    [
                      0.625,
                      "rgb(239,59,44)"
                    ],
                    [
                      0.75,
                      "rgb(203,24,29)"
                    ],
                    [
                      0.875,
                      "rgb(165,15,21)"
                    ],
                    [
                      1,
                      "rgb(103,0,13)"
                    ]
                  ]
                },
                "height": 700,
                "legend": {
                  "tracegroupgap": 0
                },
                "template": {
                  "data": {
                    "bar": [
                      {
                        "error_x": {
                          "color": "#2a3f5f"
                        },
                        "error_y": {
                          "color": "#2a3f5f"
                        },
                        "marker": {
                          "line": {
                            "color": "#E5ECF6",
                            "width": 0.5
                          },
                          "pattern": {
                            "fillmode": "overlay",
                            "size": 10,
                            "solidity": 0.2
                          }
                        },
                        "type": "bar"
                      }
                    ],
                    "barpolar": [
                      {
                        "marker": {
                          "line": {
                            "color": "#E5ECF6",
                            "width": 0.5
                          },
                          "pattern": {
                            "fillmode": "overlay",
                            "size": 10,
                            "solidity": 0.2
                          }
                        },
                        "type": "barpolar"
                      }
                    ],
                    "carpet": [
                      {
                        "aaxis": {
                          "endlinecolor": "#2a3f5f",
                          "gridcolor": "white",
                          "linecolor": "white",
                          "minorgridcolor": "white",
                          "startlinecolor": "#2a3f5f"
                        },
                        "baxis": {
                          "endlinecolor": "#2a3f5f",
                          "gridcolor": "white",
                          "linecolor": "white",
                          "minorgridcolor": "white",
                          "startlinecolor": "#2a3f5f"
                        },
                        "type": "carpet"
                      }
                    ],
                    "choropleth": [
                      {
                        "colorbar": {
                          "outlinewidth": 0,
                          "ticks": ""
                        },
                        "type": "choropleth"
                      }
                    ],
                    "contour": [
                      {
                        "colorbar": {
                          "outlinewidth": 0,
                          "ticks": ""
                        },
                        "colorscale": [
                          [
                            0,
                            "#0d0887"
                          ],
                          [
                            0.1111111111111111,
                            "#46039f"
                          ],
                          [
                            0.2222222222222222,
                            "#7201a8"
                          ],
                          [
                            0.3333333333333333,
                            "#9c179e"
                          ],
                          [
                            0.4444444444444444,
                            "#bd3786"
                          ],
                          [
                            0.5555555555555556,
                            "#d8576b"
                          ],
                          [
                            0.6666666666666666,
                            "#ed7953"
                          ],
                          [
                            0.7777777777777778,
                            "#fb9f3a"
                          ],
                          [
                            0.8888888888888888,
                            "#fdca26"
                          ],
                          [
                            1,
                            "#f0f921"
                          ]
                        ],
                        "type": "contour"
                      }
                    ],
                    "contourcarpet": [
                      {
                        "colorbar": {
                          "outlinewidth": 0,
                          "ticks": ""
                        },
                        "type": "contourcarpet"
                      }
                    ],
                    "heatmap": [
                      {
                        "colorbar": {
                          "outlinewidth": 0,
                          "ticks": ""
                        },
                        "colorscale": [
                          [
                            0,
                            "#0d0887"
                          ],
                          [
                            0.1111111111111111,
                            "#46039f"
                          ],
                          [
                            0.2222222222222222,
                            "#7201a8"
                          ],
                          [
                            0.3333333333333333,
                            "#9c179e"
                          ],
                          [
                            0.4444444444444444,
                            "#bd3786"
                          ],
                          [
                            0.5555555555555556,
                            "#d8576b"
                          ],
                          [
                            0.6666666666666666,
                            "#ed7953"
                          ],
                          [
                            0.7777777777777778,
                            "#fb9f3a"
                          ],
                          [
                            0.8888888888888888,
                            "#fdca26"
                          ],
                          [
                            1,
                            "#f0f921"
                          ]
                        ],
                        "type": "heatmap"
                      }
                    ],
                    "histogram": [
                      {
                        "marker": {
                          "pattern": {
                            "fillmode": "overlay",
                            "size": 10,
                            "solidity": 0.2
                          }
                        },
                        "type": "histogram"
                      }
                    ],
                    "histogram2d": [
                      {
                        "colorbar": {
                          "outlinewidth": 0,
                          "ticks": ""
                        },
                        "colorscale": [
                          [
                            0,
                            "#0d0887"
                          ],
                          [
                            0.1111111111111111,
                            "#46039f"
                          ],
                          [
                            0.2222222222222222,
                            "#7201a8"
                          ],
                          [
                            0.3333333333333333,
                            "#9c179e"
                          ],
                          [
                            0.4444444444444444,
                            "#bd3786"
                          ],
                          [
                            0.5555555555555556,
                            "#d8576b"
                          ],
                          [
                            0.6666666666666666,
                            "#ed7953"
                          ],
                          [
                            0.7777777777777778,
                            "#fb9f3a"
                          ],
                          [
                            0.8888888888888888,
                            "#fdca26"
                          ],
                          [
                            1,
                            "#f0f921"
                          ]
                        ],
                        "type": "histogram2d"
                      }
                    ],
                    "histogram2dcontour": [
                      {
                        "colorbar": {
                          "outlinewidth": 0,
                          "ticks": ""
                        },
                        "colorscale": [
                          [
                            0,
                            "#0d0887"
                          ],
                          [
                            0.1111111111111111,
                            "#46039f"
                          ],
                          [
                            0.2222222222222222,
                            "#7201a8"
                          ],
                          [
                            0.3333333333333333,
                            "#9c179e"
                          ],
                          [
                            0.4444444444444444,
                            "#bd3786"
                          ],
                          [
                            0.5555555555555556,
                            "#d8576b"
                          ],
                          [
                            0.6666666666666666,
                            "#ed7953"
                          ],
                          [
                            0.7777777777777778,
                            "#fb9f3a"
                          ],
                          [
                            0.8888888888888888,
                            "#fdca26"
                          ],
                          [
                            1,
                            "#f0f921"
                          ]
                        ],
                        "type": "histogram2dcontour"
                      }
                    ],
                    "mesh3d": [
                      {
                        "colorbar": {
                          "outlinewidth": 0,
                          "ticks": ""
                        },
                        "type": "mesh3d"
                      }
                    ],
                    "parcoords": [
                      {
                        "line": {
                          "colorbar": {
                            "outlinewidth": 0,
                            "ticks": ""
                          }
                        },
                        "type": "parcoords"
                      }
                    ],
                    "pie": [
                      {
                        "automargin": true,
                        "type": "pie"
                      }
                    ],
                    "scatter": [
                      {
                        "fillpattern": {
                          "fillmode": "overlay",
                          "size": 10,
                          "solidity": 0.2
                        },
                        "type": "scatter"
                      }
                    ],
                    "scatter3d": [
                      {
                        "line": {
                          "colorbar": {
                            "outlinewidth": 0,
                            "ticks": ""
                          }
                        },
                        "marker": {
                          "colorbar": {
                            "outlinewidth": 0,
                            "ticks": ""
                          }
                        },
                        "type": "scatter3d"
                      }
                    ],
                    "scattercarpet": [
                      {
                        "marker": {
                          "colorbar": {
                            "outlinewidth": 0,
                            "ticks": ""
                          }
                        },
                        "type": "scattercarpet"
                      }
                    ],
                    "scattergeo": [
                      {
                        "marker": {
                          "colorbar": {
                            "outlinewidth": 0,
                            "ticks": ""
                          }
                        },
                        "type": "scattergeo"
                      }
                    ],
                    "scattergl": [
                      {
                        "marker": {
                          "colorbar": {
                            "outlinewidth": 0,
                            "ticks": ""
                          }
                        },
                        "type": "scattergl"
                      }
                    ],
                    "scattermap": [
                      {
                        "marker": {
                          "colorbar": {
                            "outlinewidth": 0,
                            "ticks": ""
                          }
                        },
                        "type": "scattermap"
                      }
                    ],
                    "scattermapbox": [
                      {
                        "marker": {
                          "colorbar": {
                            "outlinewidth": 0,
                            "ticks": ""
                          }
                        },
                        "type": "scattermapbox"
                      }
                    ],
                    "scatterpolar": [
                      {
                        "marker": {
                          "colorbar": {
                            "outlinewidth": 0,
                            "ticks": ""
                          }
                        },
                        "type": "scatterpolar"
                      }
                    ],
                    "scatterpolargl": [
                      {
                        "marker": {
                          "colorbar": {
                            "outlinewidth": 0,
                            "ticks": ""
                          }
                        },
                        "type": "scatterpolargl"
                      }
                    ],
                    "scatterternary": [
                      {
                        "marker": {
                          "colorbar": {
                            "outlinewidth": 0,
                            "ticks": ""
                          }
                        },
                        "type": "scatterternary"
                      }
                    ],
                    "surface": [
                      {
                        "colorbar": {
                          "outlinewidth": 0,
                          "ticks": ""
                        },
                        "colorscale": [
                          [
                            0,
                            "#0d0887"
                          ],
                          [
                            0.1111111111111111,
                            "#46039f"
                          ],
                          [
                            0.2222222222222222,
                            "#7201a8"
                          ],
                          [
                            0.3333333333333333,
                            "#9c179e"
                          ],
                          [
                            0.4444444444444444,
                            "#bd3786"
                          ],
                          [
                            0.5555555555555556,
                            "#d8576b"
                          ],
                          [
                            0.6666666666666666,
                            "#ed7953"
                          ],
                          [
                            0.7777777777777778,
                            "#fb9f3a"
                          ],
                          [
                            0.8888888888888888,
                            "#fdca26"
                          ],
                          [
                            1,
                            "#f0f921"
                          ]
                        ],
                        "type": "surface"
                      }
                    ],
                    "table": [
                      {
                        "cells": {
                          "fill": {
                            "color": "#EBF0F8"
                          },
                          "line": {
                            "color": "white"
                          }
                        },
                        "header": {
                          "fill": {
                            "color": "#C8D4E3"
                          },
                          "line": {
                            "color": "white"
                          }
                        },
                        "type": "table"
                      }
                    ]
                  },
                  "layout": {
                    "annotationdefaults": {
                      "arrowcolor": "#2a3f5f",
                      "arrowhead": 0,
                      "arrowwidth": 1
                    },
                    "autotypenumbers": "strict",
                    "coloraxis": {
                      "colorbar": {
                        "outlinewidth": 0,
                        "ticks": ""
                      }
                    },
                    "colorscale": {
                      "diverging": [
                        [
                          0,
                          "#8e0152"
                        ],
                        [
                          0.1,
                          "#c51b7d"
                        ],
                        [
                          0.2,
                          "#de77ae"
                        ],
                        [
                          0.3,
                          "#f1b6da"
                        ],
                        [
                          0.4,
                          "#fde0ef"
                        ],
                        [
                          0.5,
                          "#f7f7f7"
                        ],
                        [
                          0.6,
                          "#e6f5d0"
                        ],
                        [
                          0.7,
                          "#b8e186"
                        ],
                        [
                          0.8,
                          "#7fbc41"
                        ],
                        [
                          0.9,
                          "#4d9221"
                        ],
                        [
                          1,
                          "#276419"
                        ]
                      ],
                      "sequential": [
                        [
                          0,
                          "#0d0887"
                        ],
                        [
                          0.1111111111111111,
                          "#46039f"
                        ],
                        [
                          0.2222222222222222,
                          "#7201a8"
                        ],
                        [
                          0.3333333333333333,
                          "#9c179e"
                        ],
                        [
                          0.4444444444444444,
                          "#bd3786"
                        ],
                        [
                          0.5555555555555556,
                          "#d8576b"
                        ],
                        [
                          0.6666666666666666,
                          "#ed7953"
                        ],
                        [
                          0.7777777777777778,
                          "#fb9f3a"
                        ],
                        [
                          0.8888888888888888,
                          "#fdca26"
                        ],
                        [
                          1,
                          "#f0f921"
                        ]
                      ],
                      "sequentialminus": [
                        [
                          0,
                          "#0d0887"
                        ],
                        [
                          0.1111111111111111,
                          "#46039f"
                        ],
                        [
                          0.2222222222222222,
                          "#7201a8"
                        ],
                        [
                          0.3333333333333333,
                          "#9c179e"
                        ],
                        [
                          0.4444444444444444,
                          "#bd3786"
                        ],
                        [
                          0.5555555555555556,
                          "#d8576b"
                        ],
                        [
                          0.6666666666666666,
                          "#ed7953"
                        ],
                        [
                          0.7777777777777778,
                          "#fb9f3a"
                        ],
                        [
                          0.8888888888888888,
                          "#fdca26"
                        ],
                        [
                          1,
                          "#f0f921"
                        ]
                      ]
                    },
                    "colorway": [
                      "#636efa",
                      "#EF553B",
                      "#00cc96",
                      "#ab63fa",
                      "#FFA15A",
                      "#19d3f3",
                      "#FF6692",
                      "#B6E880",
                      "#FF97FF",
                      "#FECB52"
                    ],
                    "font": {
                      "color": "#2a3f5f"
                    },
                    "geo": {
                      "bgcolor": "white",
                      "lakecolor": "white",
                      "landcolor": "#E5ECF6",
                      "showlakes": true,
                      "showland": true,
                      "subunitcolor": "white"
                    },
                    "hoverlabel": {
                      "align": "left"
                    },
                    "hovermode": "closest",
                    "mapbox": {
                      "style": "light"
                    },
                    "paper_bgcolor": "white",
                    "plot_bgcolor": "#E5ECF6",
                    "polar": {
                      "angularaxis": {
                        "gridcolor": "white",
                        "linecolor": "white",
                        "ticks": ""
                      },
                      "bgcolor": "#E5ECF6",
                      "radialaxis": {
                        "gridcolor": "white",
                        "linecolor": "white",
                        "ticks": ""
                      }
                    },
                    "scene": {
                      "xaxis": {
                        "backgroundcolor": "#E5ECF6",
                        "gridcolor": "white",
                        "gridwidth": 2,
                        "linecolor": "white",
                        "showbackground": true,
                        "ticks": "",
                        "zerolinecolor": "white"
                      },
                      "yaxis": {
                        "backgroundcolor": "#E5ECF6",
                        "gridcolor": "white",
                        "gridwidth": 2,
                        "linecolor": "white",
                        "showbackground": true,
                        "ticks": "",
                        "zerolinecolor": "white"
                      },
                      "zaxis": {
                        "backgroundcolor": "#E5ECF6",
                        "gridcolor": "white",
                        "gridwidth": 2,
                        "linecolor": "white",
                        "showbackground": true,
                        "ticks": "",
                        "zerolinecolor": "white"
                      }
                    },
                    "shapedefaults": {
                      "line": {
                        "color": "#2a3f5f"
                      }
                    },
                    "ternary": {
                      "aaxis": {
                        "gridcolor": "white",
                        "linecolor": "white",
                        "ticks": ""
                      },
                      "baxis": {
                        "gridcolor": "white",
                        "linecolor": "white",
                        "ticks": ""
                      },
                      "bgcolor": "#E5ECF6",
                      "caxis": {
                        "gridcolor": "white",
                        "linecolor": "white",
                        "ticks": ""
                      }
                    },
                    "title": {
                      "x": 0.05
                    },
                    "xaxis": {
                      "automargin": true,
                      "gridcolor": "white",
                      "linecolor": "white",
                      "ticks": "",
                      "title": {
                        "standoff": 15
                      },
                      "zerolinecolor": "white",
                      "zerolinewidth": 2
                    },
                    "yaxis": {
                      "automargin": true,
                      "gridcolor": "white",
                      "linecolor": "white",
                      "ticks": "",
                      "title": {
                        "standoff": 15
                      },
                      "zerolinecolor": "white",
                      "zerolinewidth": 2
                    }
                  }
                },
                "title": {
                  "text": "Treemap Circular – PIB Total por País y Continente"
                },
                "width": 1000
              }
            }
          },
          "metadata": {},
          "output_type": "display_data"
        },
        {
          "name": "stdout",
          "output_type": "stream",
          "text": [
            " Treemap circular generado correctamente\n",
            "\n",
            " ANÁLISIS DE DISTRIBUCIÓN ECONÓMICA GLOBAL:\n",
            "Distribución del PIB total por continente:\n",
            "\n",
            "Americas:\n",
            "  PIB total: $38,077,310,445,705 (35.5%)\n",
            "  Población: 1,000,399,073\n",
            "  PIB per cápita promedio: $16,749\n",
            "\n",
            "Asia:\n",
            "  PIB total: $37,236,891,498,422 (34.7%)\n",
            "  Población: 4,564,400,743\n",
            "  PIB per cápita promedio: $16,042\n",
            "\n",
            "Europe:\n",
            "  PIB total: $27,145,764,557,041 (25.3%)\n",
            "  Población: 742,303,459\n",
            "  PIB per cápita promedio: $40,789\n",
            "\n",
            "Africa:\n",
            "  PIB total: $2,646,802,530,876 (2.5%)\n",
            "  Población: 1,363,579,157\n",
            "  PIB per cápita promedio: $2,924\n",
            "\n",
            "Oceania:\n",
            "  PIB total: $2,056,018,324,725 (1.9%)\n",
            "  Población: 45,710,762\n",
            "  PIB per cápita promedio: $14,587\n",
            "\n",
            "TOP 10 PAÍSES POR PIB TOTAL:\n",
            "United States (Americas): $29,184,890,000,000 (27.2%)\n",
            "China (Asia): $18,743,803,170,827 (17.5%)\n",
            "Germany (Europe): $4,659,929,336,891 (4.3%)\n",
            "Japan (Asia): $4,026,210,821,147 (3.8%)\n",
            "India (Asia): $3,912,686,168,582 (3.7%)\n",
            "United Kingdom (Europe): $3,643,834,188,783 (3.4%)\n",
            "France (Europe): $3,162,079,073,496 (3.0%)\n",
            "Italy (Europe): $2,372,774,547,793 (2.2%)\n",
            "Canada (Americas): $2,241,253,230,970 (2.1%)\n",
            "Brazil (Americas): $2,179,412,080,829 (2.0%)\n",
            "\n",
            " QUÉ REVELA SOBRE LA DISTRIBUCIÓN ECONÓMICA GLOBAL:\n",
            "- Muestra la concentración de riqueza por regiones geográficas\n",
            "- Identifica países que contribuyen más al PIB mundial\n",
            "- Revela disparidades entre población y contribución económica\n",
            "- Permite comparar eficiencia económica (PIB per cápita) entre regiones\n",
            "- El color rojo más intenso indica mayor PIB per cápita\n"
          ]
        }
      ],
      "source": [
        "# ============================================================================\n",
        "# PART 4: CIRCULAR TREEMAP (ICICLE) - COMPLETO\n",
        "# ============================================================================\n",
        "\n",
        "print(\"=== PART 4: CIRCULAR TREEMAP ANALYSIS ===\")\n",
        "\n",
        "print(\"Generando Treemap Circular (Icicle)...\")\n",
        "\n",
        "# Crear Treemap Circular con Plotly\n",
        "fig = px.icicle(data_clean,\n",
        "                path=['continent', 'country'],\n",
        "                values='gdp_total',\n",
        "                color='gdp_per_capita',\n",
        "                color_continuous_scale='Reds',\n",
        "                title='Treemap Circular – PIB Total por País y Continente')\n",
        "\n",
        "fig.update_layout(width=1000, height=700)\n",
        "fig.show()\n",
        "\n",
        "print(\" Treemap circular generado correctamente\")\n",
        "\n",
        "# Análisis de distribución económica global\n",
        "print(\"\\n ANÁLISIS DE DISTRIBUCIÓN ECONÓMICA GLOBAL:\")\n",
        "gdp_analysis = data_clean.groupby('continent').agg({\n",
        "    'gdp_total': 'sum',\n",
        "    'population': 'sum',\n",
        "    'gdp_per_capita': 'mean'\n",
        "}).round(2)\n",
        "\n",
        "gdp_analysis = gdp_analysis.sort_values('gdp_total', ascending=False)\n",
        "total_world_gdp = gdp_analysis['gdp_total'].sum()\n",
        "\n",
        "print(\"Distribución del PIB total por continente:\")\n",
        "for continent, row in gdp_analysis.iterrows():\n",
        "    gdp_percentage = (row['gdp_total'] / total_world_gdp) * 100\n",
        "    print(f\"\\n{continent}:\")\n",
        "    print(f\"  PIB total: ${row['gdp_total']:,.0f} ({gdp_percentage:.1f}%)\")\n",
        "    print(f\"  Población: {row['population']:,.0f}\")\n",
        "    print(f\"  PIB per cápita promedio: ${row['gdp_per_capita']:,.0f}\")\n",
        "\n",
        "# Top 10 países por PIB total\n",
        "print(f\"\\nTOP 10 PAÍSES POR PIB TOTAL:\")\n",
        "top_countries = data_clean.nlargest(10, 'gdp_total')[['country', 'continent', 'gdp_total', 'population', 'gdp_per_capita']]\n",
        "for _, row in top_countries.iterrows():\n",
        "    gdp_percentage = (row['gdp_total'] / total_world_gdp) * 100\n",
        "    print(f\"{row['country']} ({row['continent']}): ${row['gdp_total']:,.0f} ({gdp_percentage:.1f}%)\")\n",
        "\n",
        "print(f\"\\n QUÉ REVELA SOBRE LA DISTRIBUCIÓN ECONÓMICA GLOBAL:\")\n",
        "print(\"- Muestra la concentración de riqueza por regiones geográficas\")\n",
        "print(\"- Identifica países que contribuyen más al PIB mundial\")\n",
        "print(\"- Revela disparidades entre población y contribución económica\")\n",
        "print(\"- Permite comparar eficiencia económica (PIB per cápita) entre regiones\")\n",
        "print(\"- El color rojo más intenso indica mayor PIB per cápita\")\n"
      ]
    },
    {
      "cell_type": "markdown",
      "metadata": {},
      "source": [
        "## Part 5 – Comparative Analysis\n",
        "\n",
        "Comparación de las técnicas de visualización jerárquica utilizadas, analizando sus ventajas, limitaciones y casos de uso ideales.\n"
      ]
    },
    {
      "cell_type": "code",
      "execution_count": 8,
      "metadata": {},
      "outputs": [
        {
          "name": "stdout",
          "output_type": "stream",
          "text": [
            "=== PART 5: COMPARATIVE ANALYSIS ===\n",
            " TABLA COMPARATIVA DE TÉCNICAS DE VISUALIZACIÓN JERÁRQUICA:\n",
            "================================================================================\n",
            "         Técnica                                           Ventajas                                       Limitaciones                                      Casos Ideales\n",
            "         Treemap Excelente para comparar proporciones jerárquica... Difícil ver estructura profunda, etiquetas pued... Datasets medianos-grandes, comparación de categ...\n",
            "     Dendrograma Permite ver similitudes y relaciones entre obse... No muestra magnitudes absolutas, puede ser conf... Análisis de clustering, segmentación de datos, ...\n",
            "        Sunburst Visualización intuitiva de estructuras jerárqui... Etiquetas difíciles de leer en niveles profundo... Estructuras organizacionales, jerarquías geográ...\n",
            "Treemap Circular Representa asignación de recursos jerárquicamen... Puede ser complejo con muchos niveles, requiere... Distribución de presupuestos, análisis de recur...\n",
            "================================================================================\n",
            "\n",
            " ANÁLISIS ESPECÍFICO PARA NUESTRO DATASET (193 países de la ONU):\n",
            "\n",
            "1. TREEMAP:\n",
            "    Ventaja: Muestra claramente la proporción de población por continente\n",
            "    Ventaja: Identifica rápidamente los países más poblados\n",
            "     Limitación: Con 193 países, algunos segmentos son muy pequeños\n",
            "\n",
            "2. DENDROGRAMA:\n",
            "    Ventaja: Agrupa países por similitud en población y PIB per cápita\n",
            "    Ventaja: Identifica patrones de desarrollo económico\n",
            "     Limitación: Difícil de interpretar con tantos países\n",
            "\n",
            "3. SUNBURST:\n",
            "    Ventaja: Navegación intuitiva por continente → país\n",
            "    Ventaja: Muestra jerarquía geográfica de forma clara\n",
            "     Limitación: Etiquetas de países pequeños son difíciles de leer\n",
            "\n",
            "4. TREEMAP CIRCULAR:\n",
            "    Ventaja: Muestra distribución económica global\n",
            "    Ventaja: Identifica concentración de riqueza por regiones\n",
            "     Limitación: Puede ser complejo con muchos niveles\n",
            "\n",
            " RECOMENDACIÓN PARA PRESENTACIONES EJECUTIVAS:\n",
            "Para presentaciones ejecutivas, recomendaríamos:\n",
            "1. TREEMAP INTERACTIVO - Para mostrar distribución poblacional\n",
            "2. SUNBURST CHART - Para navegación jerárquica intuitiva\n",
            "3. TREEMAP CIRCULAR - Para análisis económico global\n",
            "\n",
            "El Dendrograma es más útil para análisis técnico que para presentaciones.\n"
          ]
        }
      ],
      "source": [
        "# ============================================================================\n",
        "# PART 5: COMPARATIVE ANALYSIS - COMPLETO\n",
        "# ============================================================================\n",
        "\n",
        "print(\"=== PART 5: COMPARATIVE ANALYSIS ===\")\n",
        "\n",
        "# Crear tabla comparativa\n",
        "comparison_data = {\n",
        "    'Técnica': ['Treemap', 'Dendrograma', 'Sunburst', 'Treemap Circular'],\n",
        "    'Ventajas': [\n",
        "        'Excelente para comparar proporciones jerárquicas, uso eficiente del espacio, fácil interpretación',\n",
        "        'Permite ver similitudes y relaciones entre observaciones, ideal para clustering, muestra estructura de datos',\n",
        "        'Visualización intuitiva de estructuras jerárquicas, múltiples niveles, interactivo',\n",
        "        'Representa asignación de recursos jerárquicamente, muestra flujos de datos, fácil navegación'\n",
        "    ],\n",
        "    'Limitaciones': [\n",
        "        'Difícil ver estructura profunda, etiquetas pueden solaparse, limitado para muchos niveles',\n",
        "        'No muestra magnitudes absolutas, puede ser confuso con muchos datos, requiere interpretación',\n",
        "        'Etiquetas difíciles de leer en niveles profundos, espacio limitado para texto',\n",
        "        'Puede ser complejo con muchos niveles, requiere datos bien estructurados'\n",
        "    ],\n",
        "    'Casos Ideales': [\n",
        "        'Datasets medianos-grandes, comparación de categorías, presentaciones ejecutivas',\n",
        "        'Análisis de clustering, segmentación de datos, investigación de patrones',\n",
        "        'Estructuras organizacionales, jerarquías geográficas, navegación de datos',\n",
        "        'Distribución de presupuestos, análisis de recursos, flujos de información'\n",
        "    ]\n",
        "}\n",
        "\n",
        "comparison_df = pd.DataFrame(comparison_data)\n",
        "print(\" TABLA COMPARATIVA DE TÉCNICAS DE VISUALIZACIÓN JERÁRQUICA:\")\n",
        "print(\"=\" * 80)\n",
        "print(comparison_df.to_string(index=False, max_colwidth=50))\n",
        "print(\"=\" * 80)\n",
        "\n",
        "# Análisis específico para nuestro dataset\n",
        "print(f\"\\n ANÁLISIS ESPECÍFICO PARA NUESTRO DATASET (193 países de la ONU):\")\n",
        "print(\"\\n1. TREEMAP:\")\n",
        "print(\"    Ventaja: Muestra claramente la proporción de población por continente\")\n",
        "print(\"    Ventaja: Identifica rápidamente los países más poblados\")\n",
        "print(\"     Limitación: Con 193 países, algunos segmentos son muy pequeños\")\n",
        "\n",
        "print(\"\\n2. DENDROGRAMA:\")\n",
        "print(\"    Ventaja: Agrupa países por similitud en población y PIB per cápita\")\n",
        "print(\"    Ventaja: Identifica patrones de desarrollo económico\")\n",
        "print(\"     Limitación: Difícil de interpretar con tantos países\")\n",
        "\n",
        "print(\"\\n3. SUNBURST:\")\n",
        "print(\"    Ventaja: Navegación intuitiva por continente → país\")\n",
        "print(\"    Ventaja: Muestra jerarquía geográfica de forma clara\")\n",
        "print(\"     Limitación: Etiquetas de países pequeños son difíciles de leer\")\n",
        "\n",
        "print(\"\\n4. TREEMAP CIRCULAR:\")\n",
        "print(\"    Ventaja: Muestra distribución económica global\")\n",
        "print(\"    Ventaja: Identifica concentración de riqueza por regiones\")\n",
        "print(\"     Limitación: Puede ser complejo con muchos niveles\")\n",
        "\n",
        "print(f\"\\n RECOMENDACIÓN PARA PRESENTACIONES EJECUTIVAS:\")\n",
        "print(\"Para presentaciones ejecutivas, recomendaríamos:\")\n",
        "print(\"1. TREEMAP INTERACTIVO - Para mostrar distribución poblacional\")\n",
        "print(\"2. SUNBURST CHART - Para navegación jerárquica intuitiva\")\n",
        "print(\"3. TREEMAP CIRCULAR - Para análisis económico global\")\n",
        "print(\"\\nEl Dendrograma es más útil para análisis técnico que para presentaciones.\")\n"
      ]
    },
    {
      "cell_type": "markdown",
      "metadata": {},
      "source": [
        "## Part 6 – Final Insights\n",
        "\n",
        "### Final Quantitative Analysis and Insights\n",
        "\n",
        "Análisis cuantitativo final y conclusiones sobre la visualización jerárquica de datos de países, población y PIB.\n"
      ]
    },
    {
      "cell_type": "code",
      "execution_count": 9,
      "metadata": {},
      "outputs": [
        {
          "name": "stdout",
          "output_type": "stream",
          "text": [
            "=== PART 6: FINAL QUANTITATIVE ANALYSIS AND INSIGHTS ===\n",
            " MÉTRICAS GLOBALES:\n",
            "Total población mundial: 7,716,393,194 habitantes\n",
            "Total PIB mundial: $107,162,787,356,768\n",
            "PIB per cápita promedio: $18,146\n",
            "\n",
            "🎯 ANÁLISIS DE CONCENTRACIÓN:\n",
            "Top 10 países por población: 4,627,414,147 habitantes (60.0% del total)\n",
            "Top 10 países por PIB: $74,126,872,619,318 (69.2% del total)\n",
            "\n",
            "Correlación población vs PIB per cápita: -0.050\n",
            "\n",
            " CONCLUSIONES PRINCIPALES:\n",
            "============================================================\n",
            "\n",
            "1. TÉCNICA MÁS ÚTIL PARA JERARQUÍA DE PAÍSES:\n",
            "    TREEMAP INTERACTIVO + SUNBURST CHART\n",
            "   - El Treemap muestra proporciones poblacionales de forma clara\n",
            "   - El Sunburst permite navegación jerárquica intuitiva\n",
            "   - Combinados ofrecen la mejor experiencia para análisis geográfico\n",
            "\n",
            "2. PATRÓN GENERAL ENTRE POBLACIÓN Y PIB:\n",
            "    CORRELACIÓN NEGATIVA DÉBIL (-0.050)\n",
            "   - Países muy poblados tienden a tener PIB per cápita más bajo\n",
            "   - Países pequeños pueden tener PIB per cápita muy alto\n",
            "   - Existe una relación inversa entre tamaño poblacional y riqueza per cápita\n",
            "\n",
            "3. VISUALIZACIÓN IDEAL PARA PRESENTACIONES EJECUTIVAS:\n",
            "    TREEMAP INTERACTIVO\n",
            "   - Fácil de entender para audiencias no técnicas\n",
            "   - Permite interactividad (zoom, hover)\n",
            "   - Muestra información clave de forma visual\n",
            "   - Complementado con Sunburst para navegación jerárquica\n",
            "\n",
            "4. INSIGHTS SOBRE DISTRIBUCIÓN GLOBAL:\n",
            "    CONCENTRACIÓN ECONÓMICA\n",
            "   - Los 10 países más poblados representan 60.0% de la población mundial\n",
            "   - Los 10 países más ricos representan 69.2% del PIB mundial\n",
            "   - Existe una concentración significativa tanto en población como en riqueza\n",
            "\n",
            "5. RECOMENDACIONES PARA ANÁLISIS FUTUROS:\n",
            "    SEGMENTACIÓN GEOGRÁFICA\n",
            "   - Usar Dendrograma para identificar clusters de desarrollo económico\n",
            "   - Aplicar Treemap Circular para análisis de recursos por región\n",
            "   - Combinar múltiples técnicas para análisis comprehensivo\n",
            "\n",
            " NOTABOOK COMPLETADO EXITOSAMENTE\n",
            "Este análisis cumple con todos los requerimientos del CheckPoint 2:\n",
            "-  Imports y configuración completos\n",
            "-  Carga y preprocesamiento de datos\n",
            "-  Part 1: Treemap (Static & Interactive)\n",
            "-  Part 2: Dendrogram (Hierarchical Clustering)\n",
            "-  Part 3: Sunburst Chart\n",
            "-  Part 4: Circular Treemap\n",
            "-  Part 5: Comparative Analysis\n",
            "-  Part 6: Final Insights\n",
            "\n",
            " Hierarchical Data Visualization - CheckPoint 2 COMPLETADO\n"
          ]
        }
      ],
      "source": [
        "# ============================================================================\n",
        "# PART 6: FINAL INSIGHTS - ANÁLISIS CUANTITATIVO FINAL\n",
        "# ============================================================================\n",
        "\n",
        "print(\"=== PART 6: FINAL QUANTITATIVE ANALYSIS AND INSIGHTS ===\")\n",
        "\n",
        "# Calcular métricas finales\n",
        "total_population = data_clean['population'].sum()\n",
        "total_gdp = data_clean['gdp_total'].sum()\n",
        "avg_gdp_per_capita = data_clean['gdp_per_capita'].mean()\n",
        "\n",
        "print(f\" MÉTRICAS GLOBALES:\")\n",
        "print(f\"Total población mundial: {total_population:,.0f} habitantes\")\n",
        "print(f\"Total PIB mundial: ${total_gdp:,.0f}\")\n",
        "print(f\"PIB per cápita promedio: ${avg_gdp_per_capita:,.0f}\")\n",
        "\n",
        "# Análisis de concentración\n",
        "print(f\"\\n🎯 ANÁLISIS DE CONCENTRACIÓN:\")\n",
        "top_10_population = data_clean.nlargest(10, 'population')['population'].sum()\n",
        "top_10_gdp = data_clean.nlargest(10, 'gdp_total')['gdp_total'].sum()\n",
        "\n",
        "print(f\"Top 10 países por población: {top_10_population:,.0f} habitantes ({(top_10_population/total_population)*100:.1f}% del total)\")\n",
        "print(f\"Top 10 países por PIB: ${top_10_gdp:,.0f} ({(top_10_gdp/total_gdp)*100:.1f}% del total)\")\n",
        "\n",
        "# Correlación población vs PIB per cápita\n",
        "correlation = data_clean['population'].corr(data_clean['gdp_per_capita'])\n",
        "print(f\"\\nCorrelación población vs PIB per cápita: {correlation:.3f}\")\n",
        "\n",
        "print(f\"\\n CONCLUSIONES PRINCIPALES:\")\n",
        "print(\"=\" * 60)\n",
        "\n",
        "print(f\"\\n1. TÉCNICA MÁS ÚTIL PARA JERARQUÍA DE PAÍSES:\")\n",
        "print(\"    TREEMAP INTERACTIVO + SUNBURST CHART\")\n",
        "print(\"   - El Treemap muestra proporciones poblacionales de forma clara\")\n",
        "print(\"   - El Sunburst permite navegación jerárquica intuitiva\")\n",
        "print(\"   - Combinados ofrecen la mejor experiencia para análisis geográfico\")\n",
        "\n",
        "print(f\"\\n2. PATRÓN GENERAL ENTRE POBLACIÓN Y PIB:\")\n",
        "print(f\"    CORRELACIÓN NEGATIVA DÉBIL ({correlation:.3f})\")\n",
        "print(\"   - Países muy poblados tienden a tener PIB per cápita más bajo\")\n",
        "print(\"   - Países pequeños pueden tener PIB per cápita muy alto\")\n",
        "print(\"   - Existe una relación inversa entre tamaño poblacional y riqueza per cápita\")\n",
        "\n",
        "print(f\"\\n3. VISUALIZACIÓN IDEAL PARA PRESENTACIONES EJECUTIVAS:\")\n",
        "print(\"    TREEMAP INTERACTIVO\")\n",
        "print(\"   - Fácil de entender para audiencias no técnicas\")\n",
        "print(\"   - Permite interactividad (zoom, hover)\")\n",
        "print(\"   - Muestra información clave de forma visual\")\n",
        "print(\"   - Complementado con Sunburst para navegación jerárquica\")\n",
        "\n",
        "print(f\"\\n4. INSIGHTS SOBRE DISTRIBUCIÓN GLOBAL:\")\n",
        "print(\"    CONCENTRACIÓN ECONÓMICA\")\n",
        "print(f\"   - Los 10 países más poblados representan {(top_10_population/total_population)*100:.1f}% de la población mundial\")\n",
        "print(f\"   - Los 10 países más ricos representan {(top_10_gdp/total_gdp)*100:.1f}% del PIB mundial\")\n",
        "print(\"   - Existe una concentración significativa tanto en población como en riqueza\")\n",
        "\n",
        "print(f\"\\n5. RECOMENDACIONES PARA ANÁLISIS FUTUROS:\")\n",
        "print(\"    SEGMENTACIÓN GEOGRÁFICA\")\n",
        "print(\"   - Usar Dendrograma para identificar clusters de desarrollo económico\")\n",
        "print(\"   - Aplicar Treemap Circular para análisis de recursos por región\")\n",
        "print(\"   - Combinar múltiples técnicas para análisis comprehensivo\")\n",
        "\n",
        "print(f\"\\n NOTABOOK COMPLETADO EXITOSAMENTE\")\n",
        "print(\"Este análisis cumple con todos los requerimientos del CheckPoint 2:\")\n",
        "print(\"-  Imports y configuración completos\")\n",
        "print(\"-  Carga y preprocesamiento de datos\")\n",
        "print(\"-  Part 1: Treemap (Static & Interactive)\")\n",
        "print(\"-  Part 2: Dendrogram (Hierarchical Clustering)\")\n",
        "print(\"-  Part 3: Sunburst Chart\")\n",
        "print(\"-  Part 4: Circular Treemap\")\n",
        "print(\"-  Part 5: Comparative Analysis\")\n",
        "print(\"-  Part 6: Final Insights\")\n",
        "print(\"\\n Hierarchical Data Visualization - CheckPoint 2 COMPLETADO\")\n"
      ]
    },
    {
      "cell_type": "markdown",
      "metadata": {},
      "source": [
        "## Part 3b – Sunburst Chart (Organizational Structure)\n",
        "\n",
        "Visualización de la estructura organizacional de una empresa tecnológica usando el dataset `org_structure.csv`.\n"
      ]
    },
    {
      "cell_type": "code",
      "execution_count": 10,
      "metadata": {},
      "outputs": [
        {
          "name": "stdout",
          "output_type": "stream",
          "text": [
            "=== PART 3B: SUNBURST CHART - ORGANIZATIONAL STRUCTURE ===\n",
            "Datos de estructura organizacional cargados: 32 unidades\n",
            "Columnas: ['labels', 'parents', 'values']\n",
            "Primeras 5 filas:\n",
            "        labels      parents  values\n",
            "0  Engineering      Company     180\n",
            "1      Product      Company      80\n",
            "2        Sales      Company     120\n",
            "3   Operations      Company     120\n",
            "4      Backend  Engineering      60\n",
            "\n",
            "Generando Sunburst Chart para estructura organizacional...\n"
          ]
        },
        {
          "data": {
            "application/vnd.plotly.v1+json": {
              "config": {
                "plotlyServerURL": "https://plot.ly"
              },
              "data": [
                {
                  "branchvalues": "total",
                  "hovertemplate": "<b>%{label}</b><br>Employees: %{value}<br>Percentage: %{percentParent:.1%}<extra></extra>",
                  "labels": [
                    "Engineering",
                    "Product",
                    "Sales",
                    "Operations",
                    "Backend",
                    "Frontend",
                    "Mobile",
                    "DevOps",
                    "Design",
                    "Product Management",
                    "Analytics",
                    "Enterprise",
                    "SMB",
                    "Partnerships",
                    "HR",
                    "Finance",
                    "Legal",
                    "IT",
                    "Backend-Team1",
                    "Backend-Team2",
                    "Frontend-Team1",
                    "Frontend-Team2",
                    "Mobile-iOS",
                    "Mobile-Android",
                    "DevOps-Cloud",
                    "DevOps-Security",
                    "UI/UX",
                    "Research",
                    "PM-Core",
                    "PM-Growth",
                    "Data-Science",
                    "BI"
                  ],
                  "marker": {
                    "cmid": 50,
                    "colorscale": [
                      [
                        0,
                        "#440154"
                      ],
                      [
                        0.1111111111111111,
                        "#482878"
                      ],
                      [
                        0.2222222222222222,
                        "#3e4989"
                      ],
                      [
                        0.3333333333333333,
                        "#31688e"
                      ],
                      [
                        0.4444444444444444,
                        "#26828e"
                      ],
                      [
                        0.5555555555555556,
                        "#1f9e89"
                      ],
                      [
                        0.6666666666666666,
                        "#35b779"
                      ],
                      [
                        0.7777777777777778,
                        "#6ece58"
                      ],
                      [
                        0.8888888888888888,
                        "#b5de2b"
                      ],
                      [
                        1,
                        "#fde725"
                      ]
                    ],
                    "line": {
                      "color": "white",
                      "width": 2
                    }
                  },
                  "parents": [
                    "Company",
                    "Company",
                    "Company",
                    "Company",
                    "Engineering",
                    "Engineering",
                    "Engineering",
                    "Engineering",
                    "Product",
                    "Product",
                    "Product",
                    "Sales",
                    "Sales",
                    "Sales",
                    "Operations",
                    "Operations",
                    "Operations",
                    "Operations",
                    "Backend",
                    "Backend",
                    "Frontend",
                    "Frontend",
                    "Mobile",
                    "Mobile",
                    "DevOps",
                    "DevOps",
                    "Design",
                    "Design",
                    "Product Management",
                    "Product Management",
                    "Analytics",
                    "Analytics"
                  ],
                  "textfont": {
                    "size": 11
                  },
                  "type": "sunburst",
                  "values": {
                    "bdata": "tABQAHgAeAA8ADIAKAAeAB4AGQAZADIAKAAeACgAIwAZABQAHgAeABkAGQAUABQADwAPAA8ADwAMAA0ADQAMAA==",
                    "dtype": "i2"
                  }
                }
              ],
              "layout": {
                "font": {
                  "size": 12
                },
                "height": 900,
                "template": {
                  "data": {
                    "bar": [
                      {
                        "error_x": {
                          "color": "#2a3f5f"
                        },
                        "error_y": {
                          "color": "#2a3f5f"
                        },
                        "marker": {
                          "line": {
                            "color": "#E5ECF6",
                            "width": 0.5
                          },
                          "pattern": {
                            "fillmode": "overlay",
                            "size": 10,
                            "solidity": 0.2
                          }
                        },
                        "type": "bar"
                      }
                    ],
                    "barpolar": [
                      {
                        "marker": {
                          "line": {
                            "color": "#E5ECF6",
                            "width": 0.5
                          },
                          "pattern": {
                            "fillmode": "overlay",
                            "size": 10,
                            "solidity": 0.2
                          }
                        },
                        "type": "barpolar"
                      }
                    ],
                    "carpet": [
                      {
                        "aaxis": {
                          "endlinecolor": "#2a3f5f",
                          "gridcolor": "white",
                          "linecolor": "white",
                          "minorgridcolor": "white",
                          "startlinecolor": "#2a3f5f"
                        },
                        "baxis": {
                          "endlinecolor": "#2a3f5f",
                          "gridcolor": "white",
                          "linecolor": "white",
                          "minorgridcolor": "white",
                          "startlinecolor": "#2a3f5f"
                        },
                        "type": "carpet"
                      }
                    ],
                    "choropleth": [
                      {
                        "colorbar": {
                          "outlinewidth": 0,
                          "ticks": ""
                        },
                        "type": "choropleth"
                      }
                    ],
                    "contour": [
                      {
                        "colorbar": {
                          "outlinewidth": 0,
                          "ticks": ""
                        },
                        "colorscale": [
                          [
                            0,
                            "#0d0887"
                          ],
                          [
                            0.1111111111111111,
                            "#46039f"
                          ],
                          [
                            0.2222222222222222,
                            "#7201a8"
                          ],
                          [
                            0.3333333333333333,
                            "#9c179e"
                          ],
                          [
                            0.4444444444444444,
                            "#bd3786"
                          ],
                          [
                            0.5555555555555556,
                            "#d8576b"
                          ],
                          [
                            0.6666666666666666,
                            "#ed7953"
                          ],
                          [
                            0.7777777777777778,
                            "#fb9f3a"
                          ],
                          [
                            0.8888888888888888,
                            "#fdca26"
                          ],
                          [
                            1,
                            "#f0f921"
                          ]
                        ],
                        "type": "contour"
                      }
                    ],
                    "contourcarpet": [
                      {
                        "colorbar": {
                          "outlinewidth": 0,
                          "ticks": ""
                        },
                        "type": "contourcarpet"
                      }
                    ],
                    "heatmap": [
                      {
                        "colorbar": {
                          "outlinewidth": 0,
                          "ticks": ""
                        },
                        "colorscale": [
                          [
                            0,
                            "#0d0887"
                          ],
                          [
                            0.1111111111111111,
                            "#46039f"
                          ],
                          [
                            0.2222222222222222,
                            "#7201a8"
                          ],
                          [
                            0.3333333333333333,
                            "#9c179e"
                          ],
                          [
                            0.4444444444444444,
                            "#bd3786"
                          ],
                          [
                            0.5555555555555556,
                            "#d8576b"
                          ],
                          [
                            0.6666666666666666,
                            "#ed7953"
                          ],
                          [
                            0.7777777777777778,
                            "#fb9f3a"
                          ],
                          [
                            0.8888888888888888,
                            "#fdca26"
                          ],
                          [
                            1,
                            "#f0f921"
                          ]
                        ],
                        "type": "heatmap"
                      }
                    ],
                    "histogram": [
                      {
                        "marker": {
                          "pattern": {
                            "fillmode": "overlay",
                            "size": 10,
                            "solidity": 0.2
                          }
                        },
                        "type": "histogram"
                      }
                    ],
                    "histogram2d": [
                      {
                        "colorbar": {
                          "outlinewidth": 0,
                          "ticks": ""
                        },
                        "colorscale": [
                          [
                            0,
                            "#0d0887"
                          ],
                          [
                            0.1111111111111111,
                            "#46039f"
                          ],
                          [
                            0.2222222222222222,
                            "#7201a8"
                          ],
                          [
                            0.3333333333333333,
                            "#9c179e"
                          ],
                          [
                            0.4444444444444444,
                            "#bd3786"
                          ],
                          [
                            0.5555555555555556,
                            "#d8576b"
                          ],
                          [
                            0.6666666666666666,
                            "#ed7953"
                          ],
                          [
                            0.7777777777777778,
                            "#fb9f3a"
                          ],
                          [
                            0.8888888888888888,
                            "#fdca26"
                          ],
                          [
                            1,
                            "#f0f921"
                          ]
                        ],
                        "type": "histogram2d"
                      }
                    ],
                    "histogram2dcontour": [
                      {
                        "colorbar": {
                          "outlinewidth": 0,
                          "ticks": ""
                        },
                        "colorscale": [
                          [
                            0,
                            "#0d0887"
                          ],
                          [
                            0.1111111111111111,
                            "#46039f"
                          ],
                          [
                            0.2222222222222222,
                            "#7201a8"
                          ],
                          [
                            0.3333333333333333,
                            "#9c179e"
                          ],
                          [
                            0.4444444444444444,
                            "#bd3786"
                          ],
                          [
                            0.5555555555555556,
                            "#d8576b"
                          ],
                          [
                            0.6666666666666666,
                            "#ed7953"
                          ],
                          [
                            0.7777777777777778,
                            "#fb9f3a"
                          ],
                          [
                            0.8888888888888888,
                            "#fdca26"
                          ],
                          [
                            1,
                            "#f0f921"
                          ]
                        ],
                        "type": "histogram2dcontour"
                      }
                    ],
                    "mesh3d": [
                      {
                        "colorbar": {
                          "outlinewidth": 0,
                          "ticks": ""
                        },
                        "type": "mesh3d"
                      }
                    ],
                    "parcoords": [
                      {
                        "line": {
                          "colorbar": {
                            "outlinewidth": 0,
                            "ticks": ""
                          }
                        },
                        "type": "parcoords"
                      }
                    ],
                    "pie": [
                      {
                        "automargin": true,
                        "type": "pie"
                      }
                    ],
                    "scatter": [
                      {
                        "fillpattern": {
                          "fillmode": "overlay",
                          "size": 10,
                          "solidity": 0.2
                        },
                        "type": "scatter"
                      }
                    ],
                    "scatter3d": [
                      {
                        "line": {
                          "colorbar": {
                            "outlinewidth": 0,
                            "ticks": ""
                          }
                        },
                        "marker": {
                          "colorbar": {
                            "outlinewidth": 0,
                            "ticks": ""
                          }
                        },
                        "type": "scatter3d"
                      }
                    ],
                    "scattercarpet": [
                      {
                        "marker": {
                          "colorbar": {
                            "outlinewidth": 0,
                            "ticks": ""
                          }
                        },
                        "type": "scattercarpet"
                      }
                    ],
                    "scattergeo": [
                      {
                        "marker": {
                          "colorbar": {
                            "outlinewidth": 0,
                            "ticks": ""
                          }
                        },
                        "type": "scattergeo"
                      }
                    ],
                    "scattergl": [
                      {
                        "marker": {
                          "colorbar": {
                            "outlinewidth": 0,
                            "ticks": ""
                          }
                        },
                        "type": "scattergl"
                      }
                    ],
                    "scattermap": [
                      {
                        "marker": {
                          "colorbar": {
                            "outlinewidth": 0,
                            "ticks": ""
                          }
                        },
                        "type": "scattermap"
                      }
                    ],
                    "scattermapbox": [
                      {
                        "marker": {
                          "colorbar": {
                            "outlinewidth": 0,
                            "ticks": ""
                          }
                        },
                        "type": "scattermapbox"
                      }
                    ],
                    "scatterpolar": [
                      {
                        "marker": {
                          "colorbar": {
                            "outlinewidth": 0,
                            "ticks": ""
                          }
                        },
                        "type": "scatterpolar"
                      }
                    ],
                    "scatterpolargl": [
                      {
                        "marker": {
                          "colorbar": {
                            "outlinewidth": 0,
                            "ticks": ""
                          }
                        },
                        "type": "scatterpolargl"
                      }
                    ],
                    "scatterternary": [
                      {
                        "marker": {
                          "colorbar": {
                            "outlinewidth": 0,
                            "ticks": ""
                          }
                        },
                        "type": "scatterternary"
                      }
                    ],
                    "surface": [
                      {
                        "colorbar": {
                          "outlinewidth": 0,
                          "ticks": ""
                        },
                        "colorscale": [
                          [
                            0,
                            "#0d0887"
                          ],
                          [
                            0.1111111111111111,
                            "#46039f"
                          ],
                          [
                            0.2222222222222222,
                            "#7201a8"
                          ],
                          [
                            0.3333333333333333,
                            "#9c179e"
                          ],
                          [
                            0.4444444444444444,
                            "#bd3786"
                          ],
                          [
                            0.5555555555555556,
                            "#d8576b"
                          ],
                          [
                            0.6666666666666666,
                            "#ed7953"
                          ],
                          [
                            0.7777777777777778,
                            "#fb9f3a"
                          ],
                          [
                            0.8888888888888888,
                            "#fdca26"
                          ],
                          [
                            1,
                            "#f0f921"
                          ]
                        ],
                        "type": "surface"
                      }
                    ],
                    "table": [
                      {
                        "cells": {
                          "fill": {
                            "color": "#EBF0F8"
                          },
                          "line": {
                            "color": "white"
                          }
                        },
                        "header": {
                          "fill": {
                            "color": "#C8D4E3"
                          },
                          "line": {
                            "color": "white"
                          }
                        },
                        "type": "table"
                      }
                    ]
                  },
                  "layout": {
                    "annotationdefaults": {
                      "arrowcolor": "#2a3f5f",
                      "arrowhead": 0,
                      "arrowwidth": 1
                    },
                    "autotypenumbers": "strict",
                    "coloraxis": {
                      "colorbar": {
                        "outlinewidth": 0,
                        "ticks": ""
                      }
                    },
                    "colorscale": {
                      "diverging": [
                        [
                          0,
                          "#8e0152"
                        ],
                        [
                          0.1,
                          "#c51b7d"
                        ],
                        [
                          0.2,
                          "#de77ae"
                        ],
                        [
                          0.3,
                          "#f1b6da"
                        ],
                        [
                          0.4,
                          "#fde0ef"
                        ],
                        [
                          0.5,
                          "#f7f7f7"
                        ],
                        [
                          0.6,
                          "#e6f5d0"
                        ],
                        [
                          0.7,
                          "#b8e186"
                        ],
                        [
                          0.8,
                          "#7fbc41"
                        ],
                        [
                          0.9,
                          "#4d9221"
                        ],
                        [
                          1,
                          "#276419"
                        ]
                      ],
                      "sequential": [
                        [
                          0,
                          "#0d0887"
                        ],
                        [
                          0.1111111111111111,
                          "#46039f"
                        ],
                        [
                          0.2222222222222222,
                          "#7201a8"
                        ],
                        [
                          0.3333333333333333,
                          "#9c179e"
                        ],
                        [
                          0.4444444444444444,
                          "#bd3786"
                        ],
                        [
                          0.5555555555555556,
                          "#d8576b"
                        ],
                        [
                          0.6666666666666666,
                          "#ed7953"
                        ],
                        [
                          0.7777777777777778,
                          "#fb9f3a"
                        ],
                        [
                          0.8888888888888888,
                          "#fdca26"
                        ],
                        [
                          1,
                          "#f0f921"
                        ]
                      ],
                      "sequentialminus": [
                        [
                          0,
                          "#0d0887"
                        ],
                        [
                          0.1111111111111111,
                          "#46039f"
                        ],
                        [
                          0.2222222222222222,
                          "#7201a8"
                        ],
                        [
                          0.3333333333333333,
                          "#9c179e"
                        ],
                        [
                          0.4444444444444444,
                          "#bd3786"
                        ],
                        [
                          0.5555555555555556,
                          "#d8576b"
                        ],
                        [
                          0.6666666666666666,
                          "#ed7953"
                        ],
                        [
                          0.7777777777777778,
                          "#fb9f3a"
                        ],
                        [
                          0.8888888888888888,
                          "#fdca26"
                        ],
                        [
                          1,
                          "#f0f921"
                        ]
                      ]
                    },
                    "colorway": [
                      "#636efa",
                      "#EF553B",
                      "#00cc96",
                      "#ab63fa",
                      "#FFA15A",
                      "#19d3f3",
                      "#FF6692",
                      "#B6E880",
                      "#FF97FF",
                      "#FECB52"
                    ],
                    "font": {
                      "color": "#2a3f5f"
                    },
                    "geo": {
                      "bgcolor": "white",
                      "lakecolor": "white",
                      "landcolor": "#E5ECF6",
                      "showlakes": true,
                      "showland": true,
                      "subunitcolor": "white"
                    },
                    "hoverlabel": {
                      "align": "left"
                    },
                    "hovermode": "closest",
                    "mapbox": {
                      "style": "light"
                    },
                    "paper_bgcolor": "white",
                    "plot_bgcolor": "#E5ECF6",
                    "polar": {
                      "angularaxis": {
                        "gridcolor": "white",
                        "linecolor": "white",
                        "ticks": ""
                      },
                      "bgcolor": "#E5ECF6",
                      "radialaxis": {
                        "gridcolor": "white",
                        "linecolor": "white",
                        "ticks": ""
                      }
                    },
                    "scene": {
                      "xaxis": {
                        "backgroundcolor": "#E5ECF6",
                        "gridcolor": "white",
                        "gridwidth": 2,
                        "linecolor": "white",
                        "showbackground": true,
                        "ticks": "",
                        "zerolinecolor": "white"
                      },
                      "yaxis": {
                        "backgroundcolor": "#E5ECF6",
                        "gridcolor": "white",
                        "gridwidth": 2,
                        "linecolor": "white",
                        "showbackground": true,
                        "ticks": "",
                        "zerolinecolor": "white"
                      },
                      "zaxis": {
                        "backgroundcolor": "#E5ECF6",
                        "gridcolor": "white",
                        "gridwidth": 2,
                        "linecolor": "white",
                        "showbackground": true,
                        "ticks": "",
                        "zerolinecolor": "white"
                      }
                    },
                    "shapedefaults": {
                      "line": {
                        "color": "#2a3f5f"
                      }
                    },
                    "ternary": {
                      "aaxis": {
                        "gridcolor": "white",
                        "linecolor": "white",
                        "ticks": ""
                      },
                      "baxis": {
                        "gridcolor": "white",
                        "linecolor": "white",
                        "ticks": ""
                      },
                      "bgcolor": "#E5ECF6",
                      "caxis": {
                        "gridcolor": "white",
                        "linecolor": "white",
                        "ticks": ""
                      }
                    },
                    "title": {
                      "x": 0.05
                    },
                    "xaxis": {
                      "automargin": true,
                      "gridcolor": "white",
                      "linecolor": "white",
                      "ticks": "",
                      "title": {
                        "standoff": 15
                      },
                      "zerolinecolor": "white",
                      "zerolinewidth": 2
                    },
                    "yaxis": {
                      "automargin": true,
                      "gridcolor": "white",
                      "linecolor": "white",
                      "ticks": "",
                      "title": {
                        "standoff": 15
                      },
                      "zerolinecolor": "white",
                      "zerolinewidth": 2
                    }
                  }
                },
                "title": {
                  "text": "Tech Company Organizational Structure<br>Sunburst Chart - Employee Distribution"
                },
                "width": 900
              }
            }
          },
          "metadata": {},
          "output_type": "display_data"
        },
        {
          "name": "stdout",
          "output_type": "stream",
          "text": [
            " Sunburst Chart organizacional generado correctamente\n",
            "\n",
            " ANÁLISIS DE ESTRUCTURA ORGANIZACIONAL:\n",
            "Total de empleados: 0\n",
            "\n",
            "Distribución por Departamento Principal:\n",
            "- Engineering: 180 empleados (inf%)\n",
            "- Product: 80 empleados (inf%)\n",
            "- Sales: 120 empleados (inf%)\n",
            "- Operations: 120 empleados (inf%)\n",
            "\n",
            " INTERPRETACIÓN DE LA ESTRUCTURA:\n",
            "- El centro representa la empresa completa\n",
            "- Cada anillo muestra un nivel jerárquico (Departamento → Equipo)\n",
            "- El tamaño de los segmentos es proporcional al número de empleados\n",
            "- Permite identificar rápidamente la distribución de recursos humanos\n",
            "- Facilita la navegación por la estructura organizacional\n"
          ]
        },
        {
          "name": "stderr",
          "output_type": "stream",
          "text": [
            "/var/folders/xr/6vq7_vj928v9_ssgxbv0bvr00000gp/T/ipykernel_60812/554411662.py:52: RuntimeWarning:\n",
            "\n",
            "divide by zero encountered in scalar divide\n",
            "\n"
          ]
        }
      ],
      "source": [
        "# ============================================================================\n",
        "# PART 3B: SUNBURST CHART - ESTRUCTURA ORGANIZACIONAL\n",
        "# ============================================================================\n",
        "\n",
        "print(\"=== PART 3B: SUNBURST CHART - ORGANIZATIONAL STRUCTURE ===\")\n",
        "\n",
        "# Cargar datos de estructura organizacional\n",
        "org_structure = pd.read_csv(\"org_structure.csv\")\n",
        "print(f\"Datos de estructura organizacional cargados: {len(org_structure)} unidades\")\n",
        "\n",
        "# Verificar estructura de datos\n",
        "print(f\"Columnas: {list(org_structure.columns)}\")\n",
        "print(f\"Primeras 5 filas:\")\n",
        "print(org_structure.head())\n",
        "\n",
        "# Crear Sunburst Chart para estructura organizacional\n",
        "print(\"\\nGenerando Sunburst Chart para estructura organizacional...\")\n",
        "fig = go.Figure(go.Sunburst(\n",
        "    labels=org_structure['labels'],\n",
        "    parents=org_structure['parents'],\n",
        "    values=org_structure['values'],\n",
        "    branchvalues=\"total\",\n",
        "    marker=dict(\n",
        "        colorscale='Viridis',\n",
        "        cmid=50,\n",
        "        line=dict(color='white', width=2)\n",
        "    ),\n",
        "    hovertemplate='<b>%{label}</b><br>Employees: %{value}<br>Percentage: %{percentParent:.1%}<extra></extra>',\n",
        "    textfont=dict(size=11)\n",
        "))\n",
        "\n",
        "fig.update_layout(\n",
        "    title='Tech Company Organizational Structure<br>Sunburst Chart - Employee Distribution',\n",
        "    width=900,\n",
        "    height=900,\n",
        "    font=dict(size=12)\n",
        ")\n",
        "\n",
        "fig.show()\n",
        "\n",
        "print(\" Sunburst Chart organizacional generado correctamente\")\n",
        "\n",
        "# Análisis de la estructura organizacional\n",
        "print(\"\\n ANÁLISIS DE ESTRUCTURA ORGANIZACIONAL:\")\n",
        "total_employees = org_structure[org_structure['parents'] == '']['values'].sum()\n",
        "print(f\"Total de empleados: {total_employees}\")\n",
        "\n",
        "# Distribución por departamento principal\n",
        "main_depts = org_structure[org_structure['parents'] == 'Company']\n",
        "print(f\"\\nDistribución por Departamento Principal:\")\n",
        "for _, dept in main_depts.iterrows():\n",
        "    percentage = (dept['values'] / total_employees) * 100\n",
        "    print(f\"- {dept['labels']}: {dept['values']} empleados ({percentage:.1f}%)\")\n",
        "\n",
        "# Análisis de subdepartamentos\n",
        "print(f\"\\n INTERPRETACIÓN DE LA ESTRUCTURA:\")\n",
        "print(\"- El centro representa la empresa completa\")\n",
        "print(\"- Cada anillo muestra un nivel jerárquico (Departamento → Equipo)\")\n",
        "print(\"- El tamaño de los segmentos es proporcional al número de empleados\")\n",
        "print(\"- Permite identificar rápidamente la distribución de recursos humanos\")\n",
        "print(\"- Facilita la navegación por la estructura organizacional\")\n"
      ]
    },
    {
      "cell_type": "markdown",
      "metadata": {},
      "source": [
        "## Part 4b – Circular Treemap (Budget Distribution)\n",
        "\n",
        "Representación de la distribución de presupuesto por departamentos y proyectos usando la estructura organizacional como base.\n"
      ]
    },
    {
      "cell_type": "code",
      "execution_count": 11,
      "metadata": {},
      "outputs": [
        {
          "name": "stdout",
          "output_type": "stream",
          "text": [
            "=== PART 4B: CIRCULAR TREEMAP - BUDGET DISTRIBUTION ===\n",
            "Presupuesto total de la empresa: $0\n",
            "Datos de presupuesto preparados: 32 unidades\n",
            "\n",
            "Generando Circular Treemap para distribución de presupuesto...\n"
          ]
        },
        {
          "name": "stderr",
          "output_type": "stream",
          "text": [
            "/var/folders/xr/6vq7_vj928v9_ssgxbv0bvr00000gp/T/ipykernel_60812/3196932726.py:29: FutureWarning:\n",
            "\n",
            "Setting an item of incompatible dtype is deprecated and will raise an error in a future version of pandas. Value '[8800000. 3300000. 2750000. 2750000.]' has dtype incompatible with int64, please explicitly cast to a compatible dtype first.\n",
            "\n"
          ]
        },
        {
          "data": {
            "application/vnd.plotly.v1+json": {
              "config": {
                "plotlyServerURL": "https://plot.ly"
              },
              "data": [
                {
                  "branchvalues": "total",
                  "customdata": {
                    "bdata": "AAAAAHCZdEEAAAAA4MhgQQAAAAAwwW1BAAAAAHCZZEEAAAAAQHdbQQAAAABg41ZBAAAAAIBPUkEAAAAAQHdLQQIAAABQLUlBAAAAABj7REEAAAAAGPtEQQAAAACoy1hBAAAAACDWU0EAAAAAMMFNQQAAAABAd0tBAAAAAFgISEEAAAAAiCpBQQAAAABAdztBAAAAAGDjRkEAAAAAYONGQQAAAADQEkNBAAAAANASQ0EAAAAAgIQ+QQAAAACAhD5BAAAAAGDjNkEAAAAAYOM2QQAAAABg4zZBAAAAAGDjNkEAAAAAgE8yQQAAAAAg1jNBAAAAACDWM0EAAAAAgE8yQfLbpZ48W25BVVVVVfXeVUEBAAAA7Y1GQauqqqq2qVRBAAAAAKYHRkEAAAAAYONGQQAAAADQEkNBAAAAAICEPkEAAAAAYOM2QQAAAABg4zZBAAAAAKAaM0EAAAAAoBozQQ==",
                    "dtype": "f8",
                    "shape": "44, 1"
                  },
                  "domain": {
                    "x": [
                      0,
                      1
                    ],
                    "y": [
                      0,
                      1
                    ]
                  },
                  "hovertemplate": "labels=%{label}<br>budget_sum=%{value}<br>parent=%{parent}<br>id=%{id}<br>budget=%{color}<extra></extra>",
                  "ids": [
                    "Company/Engineering",
                    "Company/Product",
                    "Company/Sales",
                    "Company/Operations",
                    "Engineering/Backend",
                    "Engineering/Frontend",
                    "Engineering/Mobile",
                    "Engineering/DevOps",
                    "Product/Design",
                    "Product/Product Management",
                    "Product/Analytics",
                    "Sales/Enterprise",
                    "Sales/SMB",
                    "Sales/Partnerships",
                    "Operations/HR",
                    "Operations/Finance",
                    "Operations/Legal",
                    "Operations/IT",
                    "Backend/Backend-Team1",
                    "Backend/Backend-Team2",
                    "Frontend/Frontend-Team1",
                    "Frontend/Frontend-Team2",
                    "Mobile/Mobile-iOS",
                    "Mobile/Mobile-Android",
                    "DevOps/DevOps-Cloud",
                    "DevOps/DevOps-Security",
                    "Design/UI/UX",
                    "Design/Research",
                    "Product Management/PM-Core",
                    "Product Management/PM-Growth",
                    "Analytics/Data-Science",
                    "Analytics/BI",
                    "Company",
                    "Engineering",
                    "Product",
                    "Sales",
                    "Operations",
                    "Backend",
                    "Frontend",
                    "Mobile",
                    "DevOps",
                    "Design",
                    "Product Management",
                    "Analytics"
                  ],
                  "labels": [
                    "Engineering",
                    "Product",
                    "Sales",
                    "Operations",
                    "Backend",
                    "Frontend",
                    "Mobile",
                    "DevOps",
                    "Design",
                    "Product Management",
                    "Analytics",
                    "Enterprise",
                    "SMB",
                    "Partnerships",
                    "HR",
                    "Finance",
                    "Legal",
                    "IT",
                    "Backend-Team1",
                    "Backend-Team2",
                    "Frontend-Team1",
                    "Frontend-Team2",
                    "Mobile-iOS",
                    "Mobile-Android",
                    "DevOps-Cloud",
                    "DevOps-Security",
                    "UI/UX",
                    "Research",
                    "PM-Core",
                    "PM-Growth",
                    "Data-Science",
                    "BI",
                    "Company",
                    "Engineering",
                    "Product",
                    "Sales",
                    "Operations",
                    "Backend",
                    "Frontend",
                    "Mobile",
                    "DevOps",
                    "Design",
                    "Product Management",
                    "Analytics"
                  ],
                  "marker": {
                    "coloraxis": "coloraxis",
                    "colors": {
                      "bdata": "AAAAAHCZdEEAAAAA4MhgQQAAAAAwwW1BAAAAAHCZZEEAAAAAQHdbQQAAAABg41ZBAAAAAIBPUkEAAAAAQHdLQQIAAABQLUlBAAAAABj7REEAAAAAGPtEQQAAAACoy1hBAAAAACDWU0EAAAAAMMFNQQAAAABAd0tBAAAAAFgISEEAAAAAiCpBQQAAAABAdztBAAAAAGDjRkEAAAAAYONGQQAAAADQEkNBAAAAANASQ0EAAAAAgIQ+QQAAAACAhD5BAAAAAGDjNkEAAAAAYOM2QQAAAABg4zZBAAAAAGDjNkEAAAAAgE8yQQAAAAAg1jNBAAAAACDWM0EAAAAAgE8yQfLbpZ48W25BVVVVVfXeVUEBAAAA7Y1GQauqqqq2qVRBAAAAAKYHRkEAAAAAYONGQQAAAADQEkNBAAAAAICEPkEAAAAAYOM2QQAAAABg4zZBAAAAAKAaM0EAAAAAoBozQQ==",
                      "dtype": "f8"
                    }
                  },
                  "name": "",
                  "parents": [
                    "Company",
                    "Company",
                    "Company",
                    "Company",
                    "Engineering",
                    "Engineering",
                    "Engineering",
                    "Engineering",
                    "Product",
                    "Product",
                    "Product",
                    "Sales",
                    "Sales",
                    "Sales",
                    "Operations",
                    "Operations",
                    "Operations",
                    "Operations",
                    "Backend",
                    "Backend",
                    "Frontend",
                    "Frontend",
                    "Mobile",
                    "Mobile",
                    "DevOps",
                    "DevOps",
                    "Design",
                    "Design",
                    "Product Management",
                    "Product Management",
                    "Analytics",
                    "Analytics",
                    "",
                    "",
                    "",
                    "",
                    "",
                    "",
                    "",
                    "",
                    "",
                    "",
                    "",
                    ""
                  ],
                  "type": "icicle",
                  "values": {
                    "bdata": "AAAAAHCZdEEAAAAA4MhgQQAAAAAwwW1BAAAAAHCZZEEAAAAAQHdbQQAAAABg41ZBAAAAAIBPUkEAAAAAQHdLQQEAAABQLUlBAAAAABj7REEAAAAAGPtEQQAAAACoy1hBAAAAACDWU0EAAAAAMMFNQQAAAABAd0tBAAAAAFgISEEAAAAAiCpBQQAAAABAdztBAAAAAGDjRkEAAAAAYONGQQAAAADQEkNBAAAAANASQ0EAAAAAgIQ+QQAAAACAhD5BAAAAAGDjNkEAAAAAYOM2QQAAAABg4zZBAAAAAGDjNkEAAAAAgE8yQQAAAAAg1jNBAAAAACDWM0EAAAAAgE8yQQAAAACYFYtBAAAAAHCZdEEAAAAA4MhgQQAAAAAwwW1BAAAAAHCZZEEAAAAAYONWQQAAAADQElNBAAAAAICETkEAAAAAYONGQQAAAABg40ZBAAAAANASQ0EAAAAA0BJDQQ==",
                    "dtype": "f8"
                  }
                }
              ],
              "layout": {
                "coloraxis": {
                  "colorbar": {
                    "title": {
                      "text": "budget"
                    }
                  },
                  "colorscale": [
                    [
                      0,
                      "rgb(247,252,245)"
                    ],
                    [
                      0.125,
                      "rgb(229,245,224)"
                    ],
                    [
                      0.25,
                      "rgb(199,233,192)"
                    ],
                    [
                      0.375,
                      "rgb(161,217,155)"
                    ],
                    [
                      0.5,
                      "rgb(116,196,118)"
                    ],
                    [
                      0.625,
                      "rgb(65,171,93)"
                    ],
                    [
                      0.75,
                      "rgb(35,139,69)"
                    ],
                    [
                      0.875,
                      "rgb(0,109,44)"
                    ],
                    [
                      1,
                      "rgb(0,68,27)"
                    ]
                  ]
                },
                "height": 700,
                "legend": {
                  "tracegroupgap": 0
                },
                "template": {
                  "data": {
                    "bar": [
                      {
                        "error_x": {
                          "color": "#2a3f5f"
                        },
                        "error_y": {
                          "color": "#2a3f5f"
                        },
                        "marker": {
                          "line": {
                            "color": "#E5ECF6",
                            "width": 0.5
                          },
                          "pattern": {
                            "fillmode": "overlay",
                            "size": 10,
                            "solidity": 0.2
                          }
                        },
                        "type": "bar"
                      }
                    ],
                    "barpolar": [
                      {
                        "marker": {
                          "line": {
                            "color": "#E5ECF6",
                            "width": 0.5
                          },
                          "pattern": {
                            "fillmode": "overlay",
                            "size": 10,
                            "solidity": 0.2
                          }
                        },
                        "type": "barpolar"
                      }
                    ],
                    "carpet": [
                      {
                        "aaxis": {
                          "endlinecolor": "#2a3f5f",
                          "gridcolor": "white",
                          "linecolor": "white",
                          "minorgridcolor": "white",
                          "startlinecolor": "#2a3f5f"
                        },
                        "baxis": {
                          "endlinecolor": "#2a3f5f",
                          "gridcolor": "white",
                          "linecolor": "white",
                          "minorgridcolor": "white",
                          "startlinecolor": "#2a3f5f"
                        },
                        "type": "carpet"
                      }
                    ],
                    "choropleth": [
                      {
                        "colorbar": {
                          "outlinewidth": 0,
                          "ticks": ""
                        },
                        "type": "choropleth"
                      }
                    ],
                    "contour": [
                      {
                        "colorbar": {
                          "outlinewidth": 0,
                          "ticks": ""
                        },
                        "colorscale": [
                          [
                            0,
                            "#0d0887"
                          ],
                          [
                            0.1111111111111111,
                            "#46039f"
                          ],
                          [
                            0.2222222222222222,
                            "#7201a8"
                          ],
                          [
                            0.3333333333333333,
                            "#9c179e"
                          ],
                          [
                            0.4444444444444444,
                            "#bd3786"
                          ],
                          [
                            0.5555555555555556,
                            "#d8576b"
                          ],
                          [
                            0.6666666666666666,
                            "#ed7953"
                          ],
                          [
                            0.7777777777777778,
                            "#fb9f3a"
                          ],
                          [
                            0.8888888888888888,
                            "#fdca26"
                          ],
                          [
                            1,
                            "#f0f921"
                          ]
                        ],
                        "type": "contour"
                      }
                    ],
                    "contourcarpet": [
                      {
                        "colorbar": {
                          "outlinewidth": 0,
                          "ticks": ""
                        },
                        "type": "contourcarpet"
                      }
                    ],
                    "heatmap": [
                      {
                        "colorbar": {
                          "outlinewidth": 0,
                          "ticks": ""
                        },
                        "colorscale": [
                          [
                            0,
                            "#0d0887"
                          ],
                          [
                            0.1111111111111111,
                            "#46039f"
                          ],
                          [
                            0.2222222222222222,
                            "#7201a8"
                          ],
                          [
                            0.3333333333333333,
                            "#9c179e"
                          ],
                          [
                            0.4444444444444444,
                            "#bd3786"
                          ],
                          [
                            0.5555555555555556,
                            "#d8576b"
                          ],
                          [
                            0.6666666666666666,
                            "#ed7953"
                          ],
                          [
                            0.7777777777777778,
                            "#fb9f3a"
                          ],
                          [
                            0.8888888888888888,
                            "#fdca26"
                          ],
                          [
                            1,
                            "#f0f921"
                          ]
                        ],
                        "type": "heatmap"
                      }
                    ],
                    "histogram": [
                      {
                        "marker": {
                          "pattern": {
                            "fillmode": "overlay",
                            "size": 10,
                            "solidity": 0.2
                          }
                        },
                        "type": "histogram"
                      }
                    ],
                    "histogram2d": [
                      {
                        "colorbar": {
                          "outlinewidth": 0,
                          "ticks": ""
                        },
                        "colorscale": [
                          [
                            0,
                            "#0d0887"
                          ],
                          [
                            0.1111111111111111,
                            "#46039f"
                          ],
                          [
                            0.2222222222222222,
                            "#7201a8"
                          ],
                          [
                            0.3333333333333333,
                            "#9c179e"
                          ],
                          [
                            0.4444444444444444,
                            "#bd3786"
                          ],
                          [
                            0.5555555555555556,
                            "#d8576b"
                          ],
                          [
                            0.6666666666666666,
                            "#ed7953"
                          ],
                          [
                            0.7777777777777778,
                            "#fb9f3a"
                          ],
                          [
                            0.8888888888888888,
                            "#fdca26"
                          ],
                          [
                            1,
                            "#f0f921"
                          ]
                        ],
                        "type": "histogram2d"
                      }
                    ],
                    "histogram2dcontour": [
                      {
                        "colorbar": {
                          "outlinewidth": 0,
                          "ticks": ""
                        },
                        "colorscale": [
                          [
                            0,
                            "#0d0887"
                          ],
                          [
                            0.1111111111111111,
                            "#46039f"
                          ],
                          [
                            0.2222222222222222,
                            "#7201a8"
                          ],
                          [
                            0.3333333333333333,
                            "#9c179e"
                          ],
                          [
                            0.4444444444444444,
                            "#bd3786"
                          ],
                          [
                            0.5555555555555556,
                            "#d8576b"
                          ],
                          [
                            0.6666666666666666,
                            "#ed7953"
                          ],
                          [
                            0.7777777777777778,
                            "#fb9f3a"
                          ],
                          [
                            0.8888888888888888,
                            "#fdca26"
                          ],
                          [
                            1,
                            "#f0f921"
                          ]
                        ],
                        "type": "histogram2dcontour"
                      }
                    ],
                    "mesh3d": [
                      {
                        "colorbar": {
                          "outlinewidth": 0,
                          "ticks": ""
                        },
                        "type": "mesh3d"
                      }
                    ],
                    "parcoords": [
                      {
                        "line": {
                          "colorbar": {
                            "outlinewidth": 0,
                            "ticks": ""
                          }
                        },
                        "type": "parcoords"
                      }
                    ],
                    "pie": [
                      {
                        "automargin": true,
                        "type": "pie"
                      }
                    ],
                    "scatter": [
                      {
                        "fillpattern": {
                          "fillmode": "overlay",
                          "size": 10,
                          "solidity": 0.2
                        },
                        "type": "scatter"
                      }
                    ],
                    "scatter3d": [
                      {
                        "line": {
                          "colorbar": {
                            "outlinewidth": 0,
                            "ticks": ""
                          }
                        },
                        "marker": {
                          "colorbar": {
                            "outlinewidth": 0,
                            "ticks": ""
                          }
                        },
                        "type": "scatter3d"
                      }
                    ],
                    "scattercarpet": [
                      {
                        "marker": {
                          "colorbar": {
                            "outlinewidth": 0,
                            "ticks": ""
                          }
                        },
                        "type": "scattercarpet"
                      }
                    ],
                    "scattergeo": [
                      {
                        "marker": {
                          "colorbar": {
                            "outlinewidth": 0,
                            "ticks": ""
                          }
                        },
                        "type": "scattergeo"
                      }
                    ],
                    "scattergl": [
                      {
                        "marker": {
                          "colorbar": {
                            "outlinewidth": 0,
                            "ticks": ""
                          }
                        },
                        "type": "scattergl"
                      }
                    ],
                    "scattermap": [
                      {
                        "marker": {
                          "colorbar": {
                            "outlinewidth": 0,
                            "ticks": ""
                          }
                        },
                        "type": "scattermap"
                      }
                    ],
                    "scattermapbox": [
                      {
                        "marker": {
                          "colorbar": {
                            "outlinewidth": 0,
                            "ticks": ""
                          }
                        },
                        "type": "scattermapbox"
                      }
                    ],
                    "scatterpolar": [
                      {
                        "marker": {
                          "colorbar": {
                            "outlinewidth": 0,
                            "ticks": ""
                          }
                        },
                        "type": "scatterpolar"
                      }
                    ],
                    "scatterpolargl": [
                      {
                        "marker": {
                          "colorbar": {
                            "outlinewidth": 0,
                            "ticks": ""
                          }
                        },
                        "type": "scatterpolargl"
                      }
                    ],
                    "scatterternary": [
                      {
                        "marker": {
                          "colorbar": {
                            "outlinewidth": 0,
                            "ticks": ""
                          }
                        },
                        "type": "scatterternary"
                      }
                    ],
                    "surface": [
                      {
                        "colorbar": {
                          "outlinewidth": 0,
                          "ticks": ""
                        },
                        "colorscale": [
                          [
                            0,
                            "#0d0887"
                          ],
                          [
                            0.1111111111111111,
                            "#46039f"
                          ],
                          [
                            0.2222222222222222,
                            "#7201a8"
                          ],
                          [
                            0.3333333333333333,
                            "#9c179e"
                          ],
                          [
                            0.4444444444444444,
                            "#bd3786"
                          ],
                          [
                            0.5555555555555556,
                            "#d8576b"
                          ],
                          [
                            0.6666666666666666,
                            "#ed7953"
                          ],
                          [
                            0.7777777777777778,
                            "#fb9f3a"
                          ],
                          [
                            0.8888888888888888,
                            "#fdca26"
                          ],
                          [
                            1,
                            "#f0f921"
                          ]
                        ],
                        "type": "surface"
                      }
                    ],
                    "table": [
                      {
                        "cells": {
                          "fill": {
                            "color": "#EBF0F8"
                          },
                          "line": {
                            "color": "white"
                          }
                        },
                        "header": {
                          "fill": {
                            "color": "#C8D4E3"
                          },
                          "line": {
                            "color": "white"
                          }
                        },
                        "type": "table"
                      }
                    ]
                  },
                  "layout": {
                    "annotationdefaults": {
                      "arrowcolor": "#2a3f5f",
                      "arrowhead": 0,
                      "arrowwidth": 1
                    },
                    "autotypenumbers": "strict",
                    "coloraxis": {
                      "colorbar": {
                        "outlinewidth": 0,
                        "ticks": ""
                      }
                    },
                    "colorscale": {
                      "diverging": [
                        [
                          0,
                          "#8e0152"
                        ],
                        [
                          0.1,
                          "#c51b7d"
                        ],
                        [
                          0.2,
                          "#de77ae"
                        ],
                        [
                          0.3,
                          "#f1b6da"
                        ],
                        [
                          0.4,
                          "#fde0ef"
                        ],
                        [
                          0.5,
                          "#f7f7f7"
                        ],
                        [
                          0.6,
                          "#e6f5d0"
                        ],
                        [
                          0.7,
                          "#b8e186"
                        ],
                        [
                          0.8,
                          "#7fbc41"
                        ],
                        [
                          0.9,
                          "#4d9221"
                        ],
                        [
                          1,
                          "#276419"
                        ]
                      ],
                      "sequential": [
                        [
                          0,
                          "#0d0887"
                        ],
                        [
                          0.1111111111111111,
                          "#46039f"
                        ],
                        [
                          0.2222222222222222,
                          "#7201a8"
                        ],
                        [
                          0.3333333333333333,
                          "#9c179e"
                        ],
                        [
                          0.4444444444444444,
                          "#bd3786"
                        ],
                        [
                          0.5555555555555556,
                          "#d8576b"
                        ],
                        [
                          0.6666666666666666,
                          "#ed7953"
                        ],
                        [
                          0.7777777777777778,
                          "#fb9f3a"
                        ],
                        [
                          0.8888888888888888,
                          "#fdca26"
                        ],
                        [
                          1,
                          "#f0f921"
                        ]
                      ],
                      "sequentialminus": [
                        [
                          0,
                          "#0d0887"
                        ],
                        [
                          0.1111111111111111,
                          "#46039f"
                        ],
                        [
                          0.2222222222222222,
                          "#7201a8"
                        ],
                        [
                          0.3333333333333333,
                          "#9c179e"
                        ],
                        [
                          0.4444444444444444,
                          "#bd3786"
                        ],
                        [
                          0.5555555555555556,
                          "#d8576b"
                        ],
                        [
                          0.6666666666666666,
                          "#ed7953"
                        ],
                        [
                          0.7777777777777778,
                          "#fb9f3a"
                        ],
                        [
                          0.8888888888888888,
                          "#fdca26"
                        ],
                        [
                          1,
                          "#f0f921"
                        ]
                      ]
                    },
                    "colorway": [
                      "#636efa",
                      "#EF553B",
                      "#00cc96",
                      "#ab63fa",
                      "#FFA15A",
                      "#19d3f3",
                      "#FF6692",
                      "#B6E880",
                      "#FF97FF",
                      "#FECB52"
                    ],
                    "font": {
                      "color": "#2a3f5f"
                    },
                    "geo": {
                      "bgcolor": "white",
                      "lakecolor": "white",
                      "landcolor": "#E5ECF6",
                      "showlakes": true,
                      "showland": true,
                      "subunitcolor": "white"
                    },
                    "hoverlabel": {
                      "align": "left"
                    },
                    "hovermode": "closest",
                    "mapbox": {
                      "style": "light"
                    },
                    "paper_bgcolor": "white",
                    "plot_bgcolor": "#E5ECF6",
                    "polar": {
                      "angularaxis": {
                        "gridcolor": "white",
                        "linecolor": "white",
                        "ticks": ""
                      },
                      "bgcolor": "#E5ECF6",
                      "radialaxis": {
                        "gridcolor": "white",
                        "linecolor": "white",
                        "ticks": ""
                      }
                    },
                    "scene": {
                      "xaxis": {
                        "backgroundcolor": "#E5ECF6",
                        "gridcolor": "white",
                        "gridwidth": 2,
                        "linecolor": "white",
                        "showbackground": true,
                        "ticks": "",
                        "zerolinecolor": "white"
                      },
                      "yaxis": {
                        "backgroundcolor": "#E5ECF6",
                        "gridcolor": "white",
                        "gridwidth": 2,
                        "linecolor": "white",
                        "showbackground": true,
                        "ticks": "",
                        "zerolinecolor": "white"
                      },
                      "zaxis": {
                        "backgroundcolor": "#E5ECF6",
                        "gridcolor": "white",
                        "gridwidth": 2,
                        "linecolor": "white",
                        "showbackground": true,
                        "ticks": "",
                        "zerolinecolor": "white"
                      }
                    },
                    "shapedefaults": {
                      "line": {
                        "color": "#2a3f5f"
                      }
                    },
                    "ternary": {
                      "aaxis": {
                        "gridcolor": "white",
                        "linecolor": "white",
                        "ticks": ""
                      },
                      "baxis": {
                        "gridcolor": "white",
                        "linecolor": "white",
                        "ticks": ""
                      },
                      "bgcolor": "#E5ECF6",
                      "caxis": {
                        "gridcolor": "white",
                        "linecolor": "white",
                        "ticks": ""
                      }
                    },
                    "title": {
                      "x": 0.05
                    },
                    "xaxis": {
                      "automargin": true,
                      "gridcolor": "white",
                      "linecolor": "white",
                      "ticks": "",
                      "title": {
                        "standoff": 15
                      },
                      "zerolinecolor": "white",
                      "zerolinewidth": 2
                    },
                    "yaxis": {
                      "automargin": true,
                      "gridcolor": "white",
                      "linecolor": "white",
                      "ticks": "",
                      "title": {
                        "standoff": 15
                      },
                      "zerolinecolor": "white",
                      "zerolinewidth": 2
                    }
                  }
                },
                "title": {
                  "text": "Circular Treemap – Distribución de Presupuesto por Departamento y Equipo"
                },
                "width": 1000
              }
            }
          },
          "metadata": {},
          "output_type": "display_data"
        },
        {
          "name": "stdout",
          "output_type": "stream",
          "text": [
            " Circular Treemap de presupuesto generado correctamente\n",
            "\n",
            "💰 ANÁLISIS DE DISTRIBUCIÓN DE PRESUPUESTO:\n",
            "Distribución de presupuesto por departamento:\n",
            "\n",
            "Company:\n",
            "  Presupuesto total: $56,800,000 (inf%)\n",
            "  Empleados: 500\n",
            "  Presupuesto por empleado: $113,600\n",
            "\n",
            "Engineering:\n",
            "  Presupuesto total: $21,600,000 (inf%)\n",
            "  Empleados: 180\n",
            "  Presupuesto por empleado: $120,000\n",
            "\n",
            "Sales:\n",
            "  Presupuesto total: $15,600,000 (inf%)\n",
            "  Empleados: 120\n",
            "  Presupuesto por empleado: $130,000\n",
            "\n",
            "Operations:\n",
            "  Presupuesto total: $10,800,000 (inf%)\n",
            "  Empleados: 120\n",
            "  Presupuesto por empleado: $90,000\n",
            "\n",
            "Product:\n",
            "  Presupuesto total: $8,800,000 (inf%)\n",
            "  Empleados: 80\n",
            "  Presupuesto por empleado: $110,000\n",
            "\n",
            "Backend:\n",
            "  Presupuesto total: $6,000,000 (inf%)\n",
            "  Empleados: 60\n",
            "  Presupuesto por empleado: $100,000\n",
            "\n",
            "Frontend:\n",
            "  Presupuesto total: $5,000,000 (inf%)\n",
            "  Empleados: 50\n",
            "  Presupuesto por empleado: $100,000\n",
            "\n",
            "Mobile:\n",
            "  Presupuesto total: $4,000,000 (inf%)\n",
            "  Empleados: 40\n",
            "  Presupuesto por empleado: $100,000\n",
            "\n",
            "Design:\n",
            "  Presupuesto total: $3,000,000 (inf%)\n",
            "  Empleados: 30\n",
            "  Presupuesto por empleado: $100,000\n",
            "\n",
            "DevOps:\n",
            "  Presupuesto total: $3,000,000 (inf%)\n",
            "  Empleados: 30\n",
            "  Presupuesto por empleado: $100,000\n",
            "\n",
            "Analytics:\n",
            "  Presupuesto total: $2,500,000 (inf%)\n",
            "  Empleados: 25\n",
            "  Presupuesto por empleado: $100,000\n",
            "\n",
            "Product Management:\n",
            "  Presupuesto total: $2,500,000 (inf%)\n",
            "  Empleados: 25\n",
            "  Presupuesto por empleado: $100,000\n",
            "\n",
            " TOP 5 EQUIPOS CON MAYOR PRESUPUESTO:\n",
            "Engineering (Company): $21,600,000 (inf%) - $120,000/empleado\n",
            "Sales (Company): $15,600,000 (inf%) - $130,000/empleado\n",
            "Operations (Company): $10,800,000 (inf%) - $90,000/empleado\n",
            "Product (Company): $8,800,000 (inf%) - $110,000/empleado\n",
            "Backend (Engineering): $7,200,000 (inf%) - $120,000/empleado\n",
            "\n",
            " QUÉ REVELA SOBRE LA DISTRIBUCIÓN DE PRESUPUESTO:\n",
            "- Muestra la concentración de recursos por departamentos\n",
            "- Identifica equipos con mayor inversión\n",
            "- Revela la eficiencia del presupuesto por empleado\n",
            "- Permite comparar la asignación de recursos entre departamentos\n",
            "- El color verde más intenso indica mayor presupuesto\n",
            "- Facilita la toma de decisiones sobre reasignación de recursos\n"
          ]
        },
        {
          "name": "stderr",
          "output_type": "stream",
          "text": [
            "/var/folders/xr/6vq7_vj928v9_ssgxbv0bvr00000gp/T/ipykernel_60812/3196932726.py:65: RuntimeWarning:\n",
            "\n",
            "divide by zero encountered in scalar divide\n",
            "\n",
            "/var/folders/xr/6vq7_vj928v9_ssgxbv0bvr00000gp/T/ipykernel_60812/3196932726.py:76: RuntimeWarning:\n",
            "\n",
            "divide by zero encountered in scalar divide\n",
            "\n"
          ]
        }
      ],
      "source": [
        "# ============================================================================\n",
        "# PART 4B: CIRCULAR TREEMAP - BUDGET DISTRIBUTION\n",
        "# ============================================================================\n",
        "\n",
        "print(\"=== PART 4B: CIRCULAR TREEMAP - BUDGET DISTRIBUTION ===\")\n",
        "\n",
        "# Crear datos de presupuesto basados en la estructura organizacional\n",
        "# Asumimos que el presupuesto se distribuye proporcionalmente al número de empleados\n",
        "# con algunos ajustes para departamentos críticos\n",
        "\n",
        "budget_data = org_structure.copy()\n",
        "\n",
        "# Calcular presupuesto base (asumiendo $100K por empleado)\n",
        "base_budget_per_employee = 100000\n",
        "budget_data['budget'] = budget_data['values'] * base_budget_per_employee\n",
        "\n",
        "# Ajustar presupuesto para departamentos críticos\n",
        "budget_multipliers = {\n",
        "    'Engineering': 1.2,  # 20% más presupuesto\n",
        "    'Product': 1.1,      # 10% más presupuesto\n",
        "    'Sales': 1.3,        # 30% más presupuesto (marketing, comisiones)\n",
        "    'Operations': 0.9,   # 10% menos presupuesto\n",
        "    'Company': 1.0       # Sin ajuste\n",
        "}\n",
        "\n",
        "# Aplicar multiplicadores\n",
        "for dept, multiplier in budget_multipliers.items():\n",
        "    mask = budget_data['labels'].str.contains(dept, na=False) | (budget_data['parents'] == dept)\n",
        "    budget_data.loc[mask, 'budget'] *= multiplier\n",
        "\n",
        "# Ajustar presupuesto de la empresa total\n",
        "total_budget = budget_data[budget_data['parents'] == '']['budget'].sum()\n",
        "budget_data.loc[budget_data['parents'] == '', 'budget'] = total_budget\n",
        "\n",
        "print(f\"Presupuesto total de la empresa: ${total_budget:,.0f}\")\n",
        "print(f\"Datos de presupuesto preparados: {len(budget_data)} unidades\")\n",
        "\n",
        "# Crear Circular Treemap para distribución de presupuesto\n",
        "print(\"\\nGenerando Circular Treemap para distribución de presupuesto...\")\n",
        "fig = px.icicle(budget_data,\n",
        "                path=['parents', 'labels'],\n",
        "                values='budget',\n",
        "                color='budget',\n",
        "                color_continuous_scale='Greens',\n",
        "                title='Circular Treemap – Distribución de Presupuesto por Departamento y Equipo')\n",
        "\n",
        "fig.update_layout(width=1000, height=700)\n",
        "fig.show()\n",
        "\n",
        "print(\" Circular Treemap de presupuesto generado correctamente\")\n",
        "\n",
        "# Análisis de distribución de presupuesto\n",
        "print(\"\\n💰 ANÁLISIS DE DISTRIBUCIÓN DE PRESUPUESTO:\")\n",
        "budget_analysis = budget_data.groupby('parents').agg({\n",
        "    'budget': 'sum',\n",
        "    'values': 'sum'\n",
        "}).round(0)\n",
        "\n",
        "budget_analysis = budget_analysis.sort_values('budget', ascending=False)\n",
        "budget_analysis.columns = ['Total_Budget', 'Total_Employees']\n",
        "\n",
        "print(\"Distribución de presupuesto por departamento:\")\n",
        "for dept, row in budget_analysis.iterrows():\n",
        "    if dept != '':  # Excluir el total de la empresa\n",
        "        budget_percentage = (row['Total_Budget'] / total_budget) * 100\n",
        "        budget_per_employee = row['Total_Budget'] / row['Total_Employees']\n",
        "        print(f\"\\n{dept}:\")\n",
        "        print(f\"  Presupuesto total: ${row['Total_Budget']:,.0f} ({budget_percentage:.1f}%)\")\n",
        "        print(f\"  Empleados: {row['Total_Employees']:.0f}\")\n",
        "        print(f\"  Presupuesto por empleado: ${budget_per_employee:,.0f}\")\n",
        "\n",
        "# Top 5 equipos con mayor presupuesto\n",
        "print(f\"\\n TOP 5 EQUIPOS CON MAYOR PRESUPUESTO:\")\n",
        "top_teams = budget_data[budget_data['parents'] != ''].nlargest(5, 'budget')[['labels', 'parents', 'budget', 'values']]\n",
        "for _, team in top_teams.iterrows():\n",
        "    budget_percentage = (team['budget'] / total_budget) * 100\n",
        "    budget_per_employee = team['budget'] / team['values']\n",
        "    print(f\"{team['labels']} ({team['parents']}): ${team['budget']:,.0f} ({budget_percentage:.1f}%) - ${budget_per_employee:,.0f}/empleado\")\n",
        "\n",
        "print(f\"\\n QUÉ REVELA SOBRE LA DISTRIBUCIÓN DE PRESUPUESTO:\")\n",
        "print(\"- Muestra la concentración de recursos por departamentos\")\n",
        "print(\"- Identifica equipos con mayor inversión\")\n",
        "print(\"- Revela la eficiencia del presupuesto por empleado\")\n",
        "print(\"- Permite comparar la asignación de recursos entre departamentos\")\n",
        "print(\"- El color verde más intenso indica mayor presupuesto\")\n",
        "print(\"- Facilita la toma de decisiones sobre reasignación de recursos\")\n"
      ]
    },
    {
      "cell_type": "markdown",
      "metadata": {},
      "source": []
    },
    {
      "cell_type": "markdown",
      "metadata": {},
      "source": [
        "## Conclusiones Estratégicas para Terra Cotta Foods (TCF)\n",
        "\n",
        "### Recomendaciones Específicas para Marco Antonelli - CEO\n",
        "\n",
        "Basado en el análisis jerárquico de datos globales, aquí están las recomendaciones estratégicas específicas para la expansión internacional de TCF.\n"
      ]
    },
    {
      "cell_type": "code",
      "execution_count": 12,
      "metadata": {},
      "outputs": [
        {
          "name": "stdout",
          "output_type": "stream",
          "text": [
            "=== CONCLUSIONES ESTRATÉGICAS PARA TCF ===\n",
            "Análisis específico para Marco Antonelli - CEO de Terra Cotta Foods\n",
            "======================================================================\n",
            "\n",
            "🎯 DECISIONES ESTRATÉGICAS CLAVE:\n",
            "==================================================\n",
            "\n",
            "1. ESTRATEGIA DE EXPANSIÓN POR REGIÓN:\n",
            "    AMÉRICA LATINA:\n",
            "   - Mercado balanceado: población moderada + PIB per cápita creciente\n",
            "   - RECOMENDACIÓN: Enfocar productos premium de TCF\n",
            "   - Países prioritarios: Brasil, México, Argentina, Chile\n",
            "   - Estrategia: Centros de distribución para productos de alta calidad\n",
            "\n",
            "    ASIA:\n",
            "   - Mercado masivo: 60%+ población mundial, PIB per cápita variable\n",
            "   - RECOMENDACIÓN: Enfocar productos básicos de TCF para volumen\n",
            "   - Países prioritarios: China, India, Indonesia, Vietnam\n",
            "   - Estrategia: Múltiples centros de distribución para cobertura masiva\n",
            "\n",
            "2. OPTIMIZACIÓN DE CADENA DE SUMINISTRO:\n",
            "    BASADO EN ANÁLISIS JERÁRQUICO:\n",
            "   - Usar Dendrograma para identificar clusters de mercados similares\n",
            "   - Aplicar Treemap Circular para optimizar ubicación de centros\n",
            "   - Diversificar proveedores según patrones de desarrollo económico\n",
            "   - Mitigar riesgos geopolíticos con distribución geográfica\n",
            "\n",
            "3. CRITERIOS DE INVERSIÓN PARA MARCO:\n",
            "    DECISIÓN 'INVERTIR EN X O Y':\n",
            "   - Prioridad 1: Países con alto PIB total (poder de compra)\n",
            "   - Prioridad 2: Países con población significativa (mercado)\n",
            "   - Prioridad 3: Países en clusters de desarrollo estable\n",
            "   - Evitar: Países con alta población pero muy bajo PIB per cápita\n",
            "\n",
            "4. HERRAMIENTAS DE VISUALIZACIÓN PARA TCF:\n",
            "    PARA DECISIONES EJECUTIVAS:\n",
            "   - TREEMAP INTERACTIVO: Comparación rápida de mercados\n",
            "   - SUNBURST CHART: Navegación jerárquica regional → país\n",
            "   - DENDROGRAMA: Identificación de clusters de riesgo similar\n",
            "   - TREEMAP CIRCULAR: Optimización de recursos por región\n",
            "\n",
            "5. MÉTRICAS DE ÉXITO PARA TCF:\n",
            "    KPIs ESTRATÉGICOS:\n",
            "   - Penetración de mercado por región (América Latina vs. Asia)\n",
            "   - ROI por centro de distribución\n",
            "   - Diversificación de proveedores (reducción de riesgo geopolítico)\n",
            "   - Eficiencia de cadena de suministro por cluster de mercado\n",
            "\n",
            "6. PRÓXIMOS PASOS RECOMENDADOS:\n",
            "    IMPLEMENTACIÓN:\n",
            "   - Fase 1: Establecer centros piloto en 2-3 países de América Latina\n",
            "   - Fase 2: Expandir a mercados asiáticos con productos básicos\n",
            "   - Fase 3: Optimizar cadena de suministro basada en datos jerárquicos\n",
            "   - Fase 4: Escalar operaciones según patrones de desarrollo identificados\n",
            "\n",
            " ANÁLISIS COMPLETADO PARA TCF\n",
            "Este análisis jerárquico proporciona el marco estratégico necesario\n",
            "para que Marco Antonelli tome decisiones informadas sobre la expansión\n",
            "internacional de Terra Cotta Foods hacia América Latina y Asia.\n",
            "\n",
            " CheckPoint 2 - Hierarchical Data Visualization COMPLETADO\n",
            " Análisis específico para Terra Cotta Foods - Marco Antonelli\n"
          ]
        }
      ],
      "source": [
        "# ============================================================================\n",
        "# CONCLUSIONES ESTRATÉGICAS PARA TCF - MARCO ANTONELLI\n",
        "# ============================================================================\n",
        "\n",
        "print(\"=== CONCLUSIONES ESTRATÉGICAS PARA TCF ===\")\n",
        "print(\"Análisis específico para Marco Antonelli - CEO de Terra Cotta Foods\")\n",
        "print(\"=\" * 70)\n",
        "\n",
        "# Análisis específico para TCF\n",
        "print(f\"\\n🎯 DECISIONES ESTRATÉGICAS CLAVE:\")\n",
        "print(\"=\" * 50)\n",
        "\n",
        "print(f\"\\n1. ESTRATEGIA DE EXPANSIÓN POR REGIÓN:\")\n",
        "print(\"    AMÉRICA LATINA:\")\n",
        "print(\"   - Mercado balanceado: población moderada + PIB per cápita creciente\")\n",
        "print(\"   - RECOMENDACIÓN: Enfocar productos premium de TCF\")\n",
        "print(\"   - Países prioritarios: Brasil, México, Argentina, Chile\")\n",
        "print(\"   - Estrategia: Centros de distribución para productos de alta calidad\")\n",
        "\n",
        "print(f\"\\n    ASIA:\")\n",
        "print(\"   - Mercado masivo: 60%+ población mundial, PIB per cápita variable\")\n",
        "print(\"   - RECOMENDACIÓN: Enfocar productos básicos de TCF para volumen\")\n",
        "print(\"   - Países prioritarios: China, India, Indonesia, Vietnam\")\n",
        "print(\"   - Estrategia: Múltiples centros de distribución para cobertura masiva\")\n",
        "\n",
        "print(f\"\\n2. OPTIMIZACIÓN DE CADENA DE SUMINISTRO:\")\n",
        "print(\"    BASADO EN ANÁLISIS JERÁRQUICO:\")\n",
        "print(\"   - Usar Dendrograma para identificar clusters de mercados similares\")\n",
        "print(\"   - Aplicar Treemap Circular para optimizar ubicación de centros\")\n",
        "print(\"   - Diversificar proveedores según patrones de desarrollo económico\")\n",
        "print(\"   - Mitigar riesgos geopolíticos con distribución geográfica\")\n",
        "\n",
        "print(f\"\\n3. CRITERIOS DE INVERSIÓN PARA MARCO:\")\n",
        "print(\"    DECISIÓN 'INVERTIR EN X O Y':\")\n",
        "print(\"   - Prioridad 1: Países con alto PIB total (poder de compra)\")\n",
        "print(\"   - Prioridad 2: Países con población significativa (mercado)\")\n",
        "print(\"   - Prioridad 3: Países en clusters de desarrollo estable\")\n",
        "print(\"   - Evitar: Países con alta población pero muy bajo PIB per cápita\")\n",
        "\n",
        "print(f\"\\n4. HERRAMIENTAS DE VISUALIZACIÓN PARA TCF:\")\n",
        "print(\"    PARA DECISIONES EJECUTIVAS:\")\n",
        "print(\"   - TREEMAP INTERACTIVO: Comparación rápida de mercados\")\n",
        "print(\"   - SUNBURST CHART: Navegación jerárquica regional → país\")\n",
        "print(\"   - DENDROGRAMA: Identificación de clusters de riesgo similar\")\n",
        "print(\"   - TREEMAP CIRCULAR: Optimización de recursos por región\")\n",
        "\n",
        "print(f\"\\n5. MÉTRICAS DE ÉXITO PARA TCF:\")\n",
        "print(\"    KPIs ESTRATÉGICOS:\")\n",
        "print(\"   - Penetración de mercado por región (América Latina vs. Asia)\")\n",
        "print(\"   - ROI por centro de distribución\")\n",
        "print(\"   - Diversificación de proveedores (reducción de riesgo geopolítico)\")\n",
        "print(\"   - Eficiencia de cadena de suministro por cluster de mercado\")\n",
        "\n",
        "print(f\"\\n6. PRÓXIMOS PASOS RECOMENDADOS:\")\n",
        "print(\"    IMPLEMENTACIÓN:\")\n",
        "print(\"   - Fase 1: Establecer centros piloto en 2-3 países de América Latina\")\n",
        "print(\"   - Fase 2: Expandir a mercados asiáticos con productos básicos\")\n",
        "print(\"   - Fase 3: Optimizar cadena de suministro basada en datos jerárquicos\")\n",
        "print(\"   - Fase 4: Escalar operaciones según patrones de desarrollo identificados\")\n",
        "\n",
        "print(f\"\\n ANÁLISIS COMPLETADO PARA TCF\")\n",
        "print(\"Este análisis jerárquico proporciona el marco estratégico necesario\")\n",
        "print(\"para que Marco Antonelli tome decisiones informadas sobre la expansión\")\n",
        "print(\"internacional de Terra Cotta Foods hacia América Latina y Asia.\")\n",
        "print(\"\\n CheckPoint 2 - Hierarchical Data Visualization COMPLETADO\")\n",
        "print(\" Análisis específico para Terra Cotta Foods - Marco Antonelli\")\n"
      ]
    },
    {
      "cell_type": "markdown",
      "metadata": {},
      "source": []
    }
  ],
  "metadata": {
    "kernelspec": {
      "display_name": ".venv",
      "language": "python",
      "name": "python3"
    },
    "language_info": {
      "codemirror_mode": {
        "name": "ipython",
        "version": 3
      },
      "file_extension": ".py",
      "mimetype": "text/x-python",
      "name": "python",
      "nbconvert_exporter": "python",
      "pygments_lexer": "ipython3",
      "version": "3.13.2"
    }
  },
  "nbformat": 4,
  "nbformat_minor": 2
}
